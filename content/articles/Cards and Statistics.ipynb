{
 "cells": [
  {
   "cell_type": "markdown",
   "metadata": {},
   "source": [
    "# Cards and Statistics"
   ]
  },
  {
   "cell_type": "markdown",
   "metadata": {},
   "source": [
    "Project to compute statistics from card draws.\n",
    "\n",
    "We're using a regular 52 deck of cards."
   ]
  },
  {
   "cell_type": "code",
   "execution_count": 4,
   "metadata": {
    "collapsed": true
   },
   "outputs": [],
   "source": [
    "#Import libraries\n",
    "import random as rd\n",
    "import itertools\n",
    "#can use numpy's built in mean(), median() and std()\n",
    "import numpy as np\n",
    "import pandas as pd\n",
    "import os\n",
    "import matplotlib.pyplot as plt\n",
    "import scipy.stats as sp\n",
    "#Tells Jupyter to print results of any variable on a new line so tables will look good\n",
    "from IPython.core.interactiveshell import InteractiveShell\n",
    "InteractiveShell.ast_node_interactivity = \"all\"\n",
    "\n",
    "#have matplotlib output to this notebook\n",
    "%matplotlib inline"
   ]
  },
  {
   "cell_type": "markdown",
   "metadata": {},
   "source": [
    "Define functions"
   ]
  },
  {
   "cell_type": "code",
   "execution_count": 5,
   "metadata": {
    "collapsed": true
   },
   "outputs": [],
   "source": [
    "#input a list of cards and returns a list of only their values.\n",
    "def cardval(hand):\n",
    "    valhand = []\n",
    "    for card in hand:\n",
    "        if card[0].isalpha() and card[0]!='A':\n",
    "            valhand.append(10)\n",
    "        elif card[0]=='A':\n",
    "            valhand.append(1)\n",
    "        elif card[0]=='1':\n",
    "            valhand.append(10)\n",
    "        else:\n",
    "            valhand.append(int(card[0]))\n",
    "    return valhand\n",
    "    \n",
    "#drawing a number of cards from the deck without replacement    \n",
    "def draw(deck,numcards=3):\n",
    "    #random.sample() does sampling without replacement\n",
    "    return rd.sample(deck,numcards)\n",
    "\n",
    "#input dataframe of cards, returns dataframe of ints. relies on cardval.\n",
    "def dfval(df):\n",
    "    valhand = []\n",
    "    #itertuples iterates over each row in the df\n",
    "    for row in df.itertuples():\n",
    "        #convert each row to list and slice after the index\n",
    "        valhand.append(cardval(list(row)[1:]))\n",
    "    \n",
    "    dfvalhand = pd.DataFrame.from_records(valhand)\n",
    "    return dfvalhand\n",
    "\n",
    "#create a column for stats we want of each sample (which is a row\n",
    "#so far we have mean and sum\n",
    "def dfstat(df):\n",
    "    df = df.assign(mean=df.mean(axis=1).round(2),sum=df.sum(axis=1))\n",
    "    return df"
   ]
  },
  {
   "cell_type": "markdown",
   "metadata": {},
   "source": [
    "Create the deck"
   ]
  },
  {
   "cell_type": "code",
   "execution_count": 6,
   "metadata": {
    "collapsed": true
   },
   "outputs": [],
   "source": [
    "#cards are A,2-10,J,Q,K and suits spade, heart, clubs, diamond\n",
    "suits = 'cdhs'\n",
    "ranks = 'A23456789TJQK'\n",
    "\n",
    "#creating the deck as a list\n",
    "deck = list(''.join(card) for card in itertools.product(ranks,suits))"
   ]
  },
  {
   "cell_type": "markdown",
   "metadata": {},
   "source": [
    "**Q1. First, create a histogram depicting the relative frequencies of the card values for a single draw. Report the mean, median, and standard deviation of the value distribution**"
   ]
  },
  {
   "cell_type": "code",
   "execution_count": 8,
   "metadata": {},
   "outputs": [
    {
     "data": {
      "image/png": "[encoded data removed]",
      "text/plain": [
       "<matplotlib.figure.Figure at 0x2af7f4bf208>"
      ]
     },
     "metadata": {},
     "output_type": "display_data"
    }
   ],
   "source": [
    "#Histogram of a single draw from the 52 card deck\n",
    "plt.figure(1)\n",
    "plt.title(\"52 Card Deck\")\n",
    "plt.xlabel(\"Card Value\")\n",
    "plt.ylabel(\"Relative Frequency\")\n",
    "#adding a semicolon to the end disables all the text output related to the plotting the histogram\n",
    "plt.hist(cardval(deck),normed=True);"
   ]
  },
  {
   "cell_type": "markdown",
   "metadata": {},
   "source": [
    "Mean, median and standard deviation of a single draw from the 52 card deck"
   ]
  },
  {
   "cell_type": "code",
   "execution_count": 9,
   "metadata": {},
   "outputs": [
    {
     "name": "stdout",
     "output_type": "stream",
     "text": [
      "mean= 6.54 \n",
      "median= 7.0 \n",
      "standard deviation= 3.15\n"
     ]
    }
   ],
   "source": [
    "#Rounding all to 2 decimal places\n",
    "mean = round(np.mean(cardval(deck)),2)\n",
    "median = round(np.median(cardval(deck)),2)\n",
    "#numpy's std defaults to the population stdev equation\n",
    "stdev = round(np.std(cardval(deck)),2)\n",
    "\n",
    "print(\"mean= {} \\nmedian= {} \\nstandard deviation= {}\".format(mean,median,stdev))"
   ]
  },
  {
   "cell_type": "markdown",
   "metadata": {},
   "source": [
    "**Q2. Take a look at the distribution of the three-card sums from the samples that you obtained, either from Generate Data, or from your own collection. Report descriptive statistics for the samples you have drawn. Include at least two measures of central tendency and two measures of variability**"
   ]
  },
  {
   "cell_type": "markdown",
   "metadata": {},
   "source": [
    "I opted to use Udacity's generated data which is shown below.\n",
    "3 cards were drawn from the deck at random, they were placed back in the deck, then another 3 cards drawn. This is the result of 30 draws."
   ]
  },
  {
   "cell_type": "code",
   "execution_count": null,
   "metadata": {
    "collapsed": true
   },
   "outputs": [],
   "source": [
    "'''\n",
    "Seed of 1 results in the following\n",
    "\n",
    "7c 6d Ad\n",
    "As Ks Js\n",
    "8h 3d 5c\n",
    "2c 5d 10s\n",
    "Ad Ac Js\n",
    "Qh Qc Jd\n",
    "8d 2c 3h\n",
    "10d 7s Qc\n",
    "9s 2c Qc\n",
    "10s Ks Kc\n",
    "Kc Qc Js\n",
    "3s 2c 5d\n",
    "3h 8h 10c\n",
    "Kd 6d 7c\n",
    "5s Qh Jh\n",
    "10d 9s 5d\n",
    "9h 3s 5h\n",
    "7d 6d Ahy\n",
    "5h 2c Kc\n",
    "3d 9s 9c\n",
    "3h Jh 10h\n",
    "7s 10s Ah\n",
    "2d 2h 8s\n",
    "Ks 2c 3c\n",
    "Jh Kd 5h\n",
    "8s 9c Ah\n",
    "Kd 2d 3h\n",
    "6d Kc Ah\n",
    "Jd 5h Js\n",
    "2s 3h Jd\n",
    "'''"
   ]
  },
  {
   "cell_type": "markdown",
   "metadata": {},
   "source": [
    "Read the above file. Below is our cards converted to values only with a mean of each sample (row)"
   ]
  },
  {
   "cell_type": "code",
   "execution_count": 10,
   "metadata": {
    "scrolled": false
   },
   "outputs": [
    {
     "data": {
      "text/html": [
       "<div>\n",
       "<style>\n",
       "    .dataframe thead tr:only-child th {\n",
       "        text-align: right;\n",
       "    }\n",
       "\n",
       "    .dataframe thead th {\n",
       "        text-align: left;\n",
       "    }\n",
       "\n",
       "    .dataframe tbody tr th {\n",
       "        vertical-align: top;\n",
       "    }\n",
       "</style>\n",
       "<table border=\"1\" class=\"dataframe\">\n",
       "  <thead>\n",
       "    <tr style=\"text-align: right;\">\n",
       "      <th></th>\n",
       "      <th>0</th>\n",
       "      <th>1</th>\n",
       "      <th>2</th>\n",
       "      <th>mean</th>\n",
       "      <th>sum</th>\n",
       "    </tr>\n",
       "  </thead>\n",
       "  <tbody>\n",
       "    <tr>\n",
       "      <th>0</th>\n",
       "      <td>7</td>\n",
       "      <td>6</td>\n",
       "      <td>1</td>\n",
       "      <td>4.67</td>\n",
       "      <td>14</td>\n",
       "    </tr>\n",
       "    <tr>\n",
       "      <th>1</th>\n",
       "      <td>1</td>\n",
       "      <td>10</td>\n",
       "      <td>10</td>\n",
       "      <td>7.00</td>\n",
       "      <td>21</td>\n",
       "    </tr>\n",
       "    <tr>\n",
       "      <th>2</th>\n",
       "      <td>8</td>\n",
       "      <td>3</td>\n",
       "      <td>5</td>\n",
       "      <td>5.33</td>\n",
       "      <td>16</td>\n",
       "    </tr>\n",
       "    <tr>\n",
       "      <th>3</th>\n",
       "      <td>2</td>\n",
       "      <td>5</td>\n",
       "      <td>10</td>\n",
       "      <td>5.67</td>\n",
       "      <td>17</td>\n",
       "    </tr>\n",
       "    <tr>\n",
       "      <th>4</th>\n",
       "      <td>1</td>\n",
       "      <td>1</td>\n",
       "      <td>10</td>\n",
       "      <td>4.00</td>\n",
       "      <td>12</td>\n",
       "    </tr>\n",
       "    <tr>\n",
       "      <th>5</th>\n",
       "      <td>10</td>\n",
       "      <td>10</td>\n",
       "      <td>10</td>\n",
       "      <td>10.00</td>\n",
       "      <td>30</td>\n",
       "    </tr>\n",
       "    <tr>\n",
       "      <th>6</th>\n",
       "      <td>8</td>\n",
       "      <td>2</td>\n",
       "      <td>3</td>\n",
       "      <td>4.33</td>\n",
       "      <td>13</td>\n",
       "    </tr>\n",
       "    <tr>\n",
       "      <th>7</th>\n",
       "      <td>10</td>\n",
       "      <td>7</td>\n",
       "      <td>10</td>\n",
       "      <td>9.00</td>\n",
       "      <td>27</td>\n",
       "    </tr>\n",
       "    <tr>\n",
       "      <th>8</th>\n",
       "      <td>9</td>\n",
       "      <td>2</td>\n",
       "      <td>10</td>\n",
       "      <td>7.00</td>\n",
       "      <td>21</td>\n",
       "    </tr>\n",
       "    <tr>\n",
       "      <th>9</th>\n",
       "      <td>10</td>\n",
       "      <td>10</td>\n",
       "      <td>10</td>\n",
       "      <td>10.00</td>\n",
       "      <td>30</td>\n",
       "    </tr>\n",
       "    <tr>\n",
       "      <th>10</th>\n",
       "      <td>10</td>\n",
       "      <td>10</td>\n",
       "      <td>10</td>\n",
       "      <td>10.00</td>\n",
       "      <td>30</td>\n",
       "    </tr>\n",
       "    <tr>\n",
       "      <th>11</th>\n",
       "      <td>3</td>\n",
       "      <td>2</td>\n",
       "      <td>5</td>\n",
       "      <td>3.33</td>\n",
       "      <td>10</td>\n",
       "    </tr>\n",
       "    <tr>\n",
       "      <th>12</th>\n",
       "      <td>3</td>\n",
       "      <td>8</td>\n",
       "      <td>10</td>\n",
       "      <td>7.00</td>\n",
       "      <td>21</td>\n",
       "    </tr>\n",
       "    <tr>\n",
       "      <th>13</th>\n",
       "      <td>10</td>\n",
       "      <td>6</td>\n",
       "      <td>7</td>\n",
       "      <td>7.67</td>\n",
       "      <td>23</td>\n",
       "    </tr>\n",
       "    <tr>\n",
       "      <th>14</th>\n",
       "      <td>5</td>\n",
       "      <td>10</td>\n",
       "      <td>10</td>\n",
       "      <td>8.33</td>\n",
       "      <td>25</td>\n",
       "    </tr>\n",
       "    <tr>\n",
       "      <th>15</th>\n",
       "      <td>10</td>\n",
       "      <td>9</td>\n",
       "      <td>5</td>\n",
       "      <td>8.00</td>\n",
       "      <td>24</td>\n",
       "    </tr>\n",
       "    <tr>\n",
       "      <th>16</th>\n",
       "      <td>9</td>\n",
       "      <td>3</td>\n",
       "      <td>5</td>\n",
       "      <td>5.67</td>\n",
       "      <td>17</td>\n",
       "    </tr>\n",
       "    <tr>\n",
       "      <th>17</th>\n",
       "      <td>7</td>\n",
       "      <td>6</td>\n",
       "      <td>1</td>\n",
       "      <td>4.67</td>\n",
       "      <td>14</td>\n",
       "    </tr>\n",
       "    <tr>\n",
       "      <th>18</th>\n",
       "      <td>5</td>\n",
       "      <td>2</td>\n",
       "      <td>10</td>\n",
       "      <td>5.67</td>\n",
       "      <td>17</td>\n",
       "    </tr>\n",
       "    <tr>\n",
       "      <th>19</th>\n",
       "      <td>3</td>\n",
       "      <td>9</td>\n",
       "      <td>9</td>\n",
       "      <td>7.00</td>\n",
       "      <td>21</td>\n",
       "    </tr>\n",
       "    <tr>\n",
       "      <th>20</th>\n",
       "      <td>3</td>\n",
       "      <td>10</td>\n",
       "      <td>10</td>\n",
       "      <td>7.67</td>\n",
       "      <td>23</td>\n",
       "    </tr>\n",
       "    <tr>\n",
       "      <th>21</th>\n",
       "      <td>7</td>\n",
       "      <td>10</td>\n",
       "      <td>1</td>\n",
       "      <td>6.00</td>\n",
       "      <td>18</td>\n",
       "    </tr>\n",
       "    <tr>\n",
       "      <th>22</th>\n",
       "      <td>2</td>\n",
       "      <td>2</td>\n",
       "      <td>8</td>\n",
       "      <td>4.00</td>\n",
       "      <td>12</td>\n",
       "    </tr>\n",
       "    <tr>\n",
       "      <th>23</th>\n",
       "      <td>10</td>\n",
       "      <td>2</td>\n",
       "      <td>3</td>\n",
       "      <td>5.00</td>\n",
       "      <td>15</td>\n",
       "    </tr>\n",
       "    <tr>\n",
       "      <th>24</th>\n",
       "      <td>10</td>\n",
       "      <td>10</td>\n",
       "      <td>5</td>\n",
       "      <td>8.33</td>\n",
       "      <td>25</td>\n",
       "    </tr>\n",
       "    <tr>\n",
       "      <th>25</th>\n",
       "      <td>8</td>\n",
       "      <td>9</td>\n",
       "      <td>1</td>\n",
       "      <td>6.00</td>\n",
       "      <td>18</td>\n",
       "    </tr>\n",
       "    <tr>\n",
       "      <th>26</th>\n",
       "      <td>10</td>\n",
       "      <td>2</td>\n",
       "      <td>3</td>\n",
       "      <td>5.00</td>\n",
       "      <td>15</td>\n",
       "    </tr>\n",
       "    <tr>\n",
       "      <th>27</th>\n",
       "      <td>6</td>\n",
       "      <td>10</td>\n",
       "      <td>1</td>\n",
       "      <td>5.67</td>\n",
       "      <td>17</td>\n",
       "    </tr>\n",
       "    <tr>\n",
       "      <th>28</th>\n",
       "      <td>10</td>\n",
       "      <td>5</td>\n",
       "      <td>10</td>\n",
       "      <td>8.33</td>\n",
       "      <td>25</td>\n",
       "    </tr>\n",
       "    <tr>\n",
       "      <th>29</th>\n",
       "      <td>2</td>\n",
       "      <td>3</td>\n",
       "      <td>10</td>\n",
       "      <td>5.00</td>\n",
       "      <td>15</td>\n",
       "    </tr>\n",
       "  </tbody>\n",
       "</table>\n",
       "</div>"
      ],
      "text/plain": [
       "     0   1   2   mean  sum\n",
       "0    7   6   1   4.67   14\n",
       "1    1  10  10   7.00   21\n",
       "2    8   3   5   5.33   16\n",
       "3    2   5  10   5.67   17\n",
       "4    1   1  10   4.00   12\n",
       "5   10  10  10  10.00   30\n",
       "6    8   2   3   4.33   13\n",
       "7   10   7  10   9.00   27\n",
       "8    9   2  10   7.00   21\n",
       "9   10  10  10  10.00   30\n",
       "10  10  10  10  10.00   30\n",
       "11   3   2   5   3.33   10\n",
       "12   3   8  10   7.00   21\n",
       "13  10   6   7   7.67   23\n",
       "14   5  10  10   8.33   25\n",
       "15  10   9   5   8.00   24\n",
       "16   9   3   5   5.67   17\n",
       "17   7   6   1   4.67   14\n",
       "18   5   2  10   5.67   17\n",
       "19   3   9   9   7.00   21\n",
       "20   3  10  10   7.67   23\n",
       "21   7  10   1   6.00   18\n",
       "22   2   2   8   4.00   12\n",
       "23  10   2   3   5.00   15\n",
       "24  10  10   5   8.33   25\n",
       "25   8   9   1   6.00   18\n",
       "26  10   2   3   5.00   15\n",
       "27   6  10   1   5.67   17\n",
       "28  10   5  10   8.33   25\n",
       "29   2   3  10   5.00   15"
      ]
     },
     "execution_count": 10,
     "metadata": {},
     "output_type": "execute_result"
    }
   ],
   "source": [
    "#change directory to where the file is located\n",
    "os.chdir('C:\\\\Users\\\\JWC\\\\Dropbox\\\\Udacity Data Analyst Nanodegree\\\\Project 1 - Statistics Cards')\n",
    "\n",
    "#filename we're working with\n",
    "file_in = 'trials.txt'\n",
    "\n",
    "#use pandas to read the file and separate by spaces, store as pandas dataframe\n",
    "df = pd.read_csv(file_in, sep=' ', header=None)\n",
    "#remove suits and keep ranks only in data frame\n",
    "df = dfval(df)\n",
    "#create mean column\n",
    "df = dfstat(df)\n",
    "df #can view this nicely below because of InteractiveShell.ast_node_interactivity = \"all\""
   ]
  },
  {
   "cell_type": "markdown",
   "metadata": {},
   "source": [
    "Two measures of central tendency used are mean and median"
   ]
  },
  {
   "cell_type": "code",
   "execution_count": 49,
   "metadata": {},
   "outputs": [
    {
     "name": "stdout",
     "output_type": "stream",
     "text": [
      "Mean3= 19.53 \n",
      "Median3= 18.0\n"
     ]
    }
   ],
   "source": [
    "#2 measures of central tendency\n",
    "mean3 = round(df['sum'].mean(),2)\n",
    "median3 = df['sum'].median()\n",
    "print(\"Mean3= {} \\nMedian3= {}\".format(mean3,median3))"
   ]
  },
  {
   "cell_type": "code",
   "execution_count": 69,
   "metadata": {},
   "outputs": [
    {
     "name": "stdout",
     "output_type": "stream",
     "text": [
      "Interquartile Range3= 8.75 \n",
      "Standard Deviation3= 5.69\n"
     ]
    }
   ],
   "source": [
    "#2 measures of variability\n",
    "iqr3 = round(sp.iqr(df['sum']),2)\n",
    "#we recognise that since this is a sample we use Bessel's correction for stdev\n",
    "stdev3 = round((np.std(df['sum'],ddof=1)),2)\n",
    "print(\"Interquartile Range3= {} \\nStandard Deviation3= {}\".format(iqr3,stdev3))"
   ]
  },
  {
   "cell_type": "code",
   "execution_count": 71,
   "metadata": {
    "scrolled": true
   },
   "outputs": [
    {
     "name": "stdout",
     "output_type": "stream",
     "text": [
      "\n",
      "Comparing Population (52 Cards) to Sample (Sum of 3 Card Draw)\n"
     ]
    },
    {
     "data": {
      "text/html": [
       "<div>\n",
       "<style>\n",
       "    .dataframe thead tr:only-child th {\n",
       "        text-align: right;\n",
       "    }\n",
       "\n",
       "    .dataframe thead th {\n",
       "        text-align: left;\n",
       "    }\n",
       "\n",
       "    .dataframe tbody tr th {\n",
       "        vertical-align: top;\n",
       "    }\n",
       "</style>\n",
       "<table border=\"1\" class=\"dataframe\">\n",
       "  <thead>\n",
       "    <tr style=\"text-align: right;\">\n",
       "      <th></th>\n",
       "      <th>Population</th>\n",
       "      <th>Sample</th>\n",
       "    </tr>\n",
       "  </thead>\n",
       "  <tbody>\n",
       "    <tr>\n",
       "      <th>Mean</th>\n",
       "      <td>6.54</td>\n",
       "      <td>19.53</td>\n",
       "    </tr>\n",
       "    <tr>\n",
       "      <th>Median</th>\n",
       "      <td>7.00</td>\n",
       "      <td>18.00</td>\n",
       "    </tr>\n",
       "    <tr>\n",
       "      <th>Standard Deviation</th>\n",
       "      <td>3.15</td>\n",
       "      <td>5.69</td>\n",
       "    </tr>\n",
       "    <tr>\n",
       "      <th>Interquartile Range</th>\n",
       "      <td>NaN</td>\n",
       "      <td>8.75</td>\n",
       "    </tr>\n",
       "  </tbody>\n",
       "</table>\n",
       "</div>"
      ],
      "text/plain": [
       "                     Population  Sample\n",
       "Mean                       6.54   19.53\n",
       "Median                     7.00   18.00\n",
       "Standard Deviation         3.15    5.69\n",
       "Interquartile Range         NaN    8.75"
      ]
     },
     "execution_count": 71,
     "metadata": {},
     "output_type": "execute_result"
    }
   ],
   "source": [
    "# data = {'Item':['Mean','Median'],\n",
    "#         'Population':[mean,median],\n",
    "#         'Sample':[mean3,median3]}\n",
    "\n",
    "#I like entering in rows like this as it makes sense\n",
    "data = [['Population','Sample'],\n",
    "        [mean,mean3],\n",
    "        [median,median3],\n",
    "        [stdev,stdev3],\n",
    "        [None,iqr3]]\n",
    "\n",
    "#index creates row names\n",
    "dfc = pd.DataFrame(data[1:], index = ['Mean','Median','Standard Deviation','Interquartile Range'])\n",
    "dfc.columns = data[0]\n",
    "print(\"\\nComparing Population (52 Cards) to Sample (Sum of 3 Card Draw)\")\n",
    "dfc"
   ]
  },
  {
   "cell_type": "markdown",
   "metadata": {},
   "source": [
    "**Q3. Create a histogram of the sampled three-card sums. Compare its shape to that of the original distribution. How are they different, and can you explain why this is the case?**"
   ]
  },
  {
   "cell_type": "markdown",
   "metadata": {},
   "source": [
    "Create a histogram to see how our data was distributed"
   ]
  },
  {
   "cell_type": "code",
   "execution_count": 72,
   "metadata": {
    "scrolled": false
   },
   "outputs": [
    {
     "data": {
      "image/png": "[encoded data removed]",
      "text/plain": [
       "<matplotlib.figure.Figure at 0x22f7c83e978>"
      ]
     },
     "metadata": {},
     "output_type": "display_data"
    }
   ],
   "source": [
    "#Histogram of a 3 card draw from the 52 card deck x30\n",
    "plt.figure(2)\n",
    "plt.title(\"3 card draw from 52 Card Deck\")\n",
    "plt.xlabel(\"Card Value\")\n",
    "plt.ylabel(\"Relative Frequency\")\n",
    "plt.hist(df['sum'],normed=True);"
   ]
  },
  {
   "cell_type": "markdown",
   "metadata": {},
   "source": [
    "Our histogram for drawing 3 cards looks normally distributed."
   ]
  },
  {
   "cell_type": "code",
   "execution_count": 73,
   "metadata": {},
   "outputs": [
    {
     "data": {
      "image/png": "[encoded data removed]",
      "text/plain": [
       "<matplotlib.figure.Figure at 0x22f7c820ef0>"
      ]
     },
     "metadata": {},
     "output_type": "display_data"
    }
   ],
   "source": [
    "#Histogram of a 3 card draw from the 52 card deck x30\n",
    "plt.figure(3)\n",
    "plt.title(\"3 card draw vs 1 card draw\")\n",
    "plt.xlabel(\"Card Value\")\n",
    "plt.ylabel(\"Relative Frequency\")\n",
    "#first the single card draw plotted (the same as the deck)\n",
    "plt.hist(cardval(deck),normed=True)\n",
    "#then our 3 card draw on top\n",
    "plt.hist(df['sum'],normed=True,alpha=0.7);"
   ]
  },
  {
   "cell_type": "markdown",
   "metadata": {},
   "source": [
    "3 card draw represented in orange.\n",
    "1 card draw represented in blue.\n",
    "\n",
    "Our 1 card draw, which is the same as our population histogram is negatively skewed since there are four cards worth 10 versus number cards which have a unique value.\n",
    "\n",
    "Our sum of 3 card draw is less skewed than our 1 card draw.\n",
    "\n",
    "If we use the mean's of our 3 card draw, our histogram resembles a normal distribution as per the Central Limit Theorem (CLT) for sampling distributions."
   ]
  },
  {
   "cell_type": "markdown",
   "metadata": {},
   "source": [
    "**Q4. Make some estimates about values you would get on future draws. Within what range will you expect approximately 90% of your draw values to fall? What is the approximate probability that you will get a draw value of at least 20? Make sure you justify how you obtained your values.**"
   ]
  },
  {
   "cell_type": "markdown",
   "metadata": {},
   "source": [
    "If we keep taking more samples the resulting histogram of sums will look more like a normal distribution and we will approximate our response for a normal distribution.\n",
    "\n",
    "For a range encompassing 90% of values from $-\\infty \\rightarrow z$\n",
    "<br>We expect $z \\approx 1.285$ via the Ztable.\n",
    "<br>Using the formula $$z = \\frac{x-\\bar{x}}{SE}$$\n",
    "We have $z = 1.285, \\bar{x} = 19.53, SE = 5.69$\n",
    "\n",
    "$$x \\approx 26.84$$\n",
    "<br>where SE = sample standard deviation = standard error\n",
    "\n",
    "**We expect approximately 90% of sums drawn to be below 26.84.**"
   ]
  },
  {
   "cell_type": "markdown",
   "metadata": {},
   "source": [
    "To draw a value of at least 20 we use our z-score formula we have $$z = \\frac{x-\\bar{x}}{SE}$$\n",
    "$x = 20, \\bar{x} = 19.53, SE = 5.69$\n",
    "<br>$z \\approx 0.0826$\n",
    "\n",
    "From the Ztable we find z=0.0663 corresponds with around 0.5319.\n",
    "<br>**We expect 53.19% of draws to sum to at least 20**"
   ]
  }
 ],
 "metadata": {
  "kernelspec": {
   "display_name": "Python [default]",
   "language": "python",
   "name": "python3"
  },
  "language_info": {
   "codemirror_mode": {
    "name": "ipython",
    "version": 3
   },
   "file_extension": ".py",
   "mimetype": "text/x-python",
   "name": "python",
   "nbconvert_exporter": "python",
   "pygments_lexer": "ipython3",
   "version": "3.6.1"
  }
 },
 "nbformat": 4,
 "nbformat_minor": 2
}
