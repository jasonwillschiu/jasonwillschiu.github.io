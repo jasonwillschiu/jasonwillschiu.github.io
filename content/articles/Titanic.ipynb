{
 "cells": [
  {
   "cell_type": "markdown",
   "metadata": {},
   "source": [
    "# Investigating the Titanic passengers data set"
   ]
  },
  {
   "cell_type": "markdown",
   "metadata": {},
   "source": [
    "<!-- PELICAN_BEGIN_SUMMARY -->\n",
    "\n",
    "In this notebook we will explore the [Kaggle training dataset](https://www.kaggle.com/c/titanic/download/train.csv) to discover which factors influence Survival of a passenger on board the titanic.\n",
    "\n",
    "<!-- PELICAN_END_SUMMARY -->"
   ]
  },
  {
   "cell_type": "markdown",
   "metadata": {},
   "source": [
    "# Data Question: Which factors influence survival of a passenger?\n",
    "\n",
    "First we'll setup the libraries we require and have a look at the data."
   ]
  },
  {
   "cell_type": "code",
   "execution_count": 7,
   "metadata": {},
   "outputs": [
    {
     "name": "stdout",
     "output_type": "stream",
     "text": [
      "The version_information extension is already loaded. To reload it, use:\n",
      "  %reload_ext version_information\n"
     ]
    },
    {
     "data": {
      "application/json": {
       "Software versions": [
        {
         "module": "Python",
         "version": "3.6.1 64bit [MSC v.1900 64 bit (AMD64)]"
        },
        {
         "module": "IPython",
         "version": "6.1.0"
        },
        {
         "module": "OS",
         "version": "Windows 10 10.0.16299 SP0"
        },
        {
         "module": "pandas",
         "version": "0.20.3"
        },
        {
         "module": "ipython",
         "version": "6.1.0"
        },
        {
         "module": "jupyter",
         "version": "1.0.0"
        },
        {
         "module": "ezhc",
         "version": "0.6.7"
        }
       ]
      },
      "text/html": [
       "<table><tr><th>Software</th><th>Version</th></tr><tr><td>Python</td><td>3.6.1 64bit [MSC v.1900 64 bit (AMD64)]</td></tr><tr><td>IPython</td><td>6.1.0</td></tr><tr><td>OS</td><td>Windows 10 10.0.16299 SP0</td></tr><tr><td>pandas</td><td>0.20.3</td></tr><tr><td>ipython</td><td>6.1.0</td></tr><tr><td>jupyter</td><td>1.0.0</td></tr><tr><td>ezhc</td><td>0.6.7</td></tr><tr><td colspan='2'>Mon Nov 20 14:40:19 2017 AUS Eastern Daylight Time</td></tr></table>"
      ],
      "text/latex": [
       "\\begin{tabular}{|l|l|}\\hline\n",
       "{\\bf Software} & {\\bf Version} \\\\ \\hline\\hline\n",
       "Python & 3.6.1 64bit [MSC v.1900 64 bit (AMD64)] \\\\ \\hline\n",
       "IPython & 6.1.0 \\\\ \\hline\n",
       "OS & Windows 10 10.0.16299 SP0 \\\\ \\hline\n",
       "pandas & 0.20.3 \\\\ \\hline\n",
       "ipython & 6.1.0 \\\\ \\hline\n",
       "jupyter & 1.0.0 \\\\ \\hline\n",
       "ezhc & 0.6.7 \\\\ \\hline\n",
       "\\hline \\multicolumn{2}{|l|}{Mon Nov 20 14:40:19 2017 AUS Eastern Daylight Time} \\\\ \\hline\n",
       "\\end{tabular}\n"
      ],
      "text/plain": [
       "Software versions\n",
       "Python 3.6.1 64bit [MSC v.1900 64 bit (AMD64)]\n",
       "IPython 6.1.0\n",
       "OS Windows 10 10.0.16299 SP0\n",
       "pandas 0.20.3\n",
       "ipython 6.1.0\n",
       "jupyter 1.0.0\n",
       "ezhc 0.6.7\n",
       "Mon Nov 20 14:40:19 2017 AUS Eastern Daylight Time"
      ]
     },
     "execution_count": 7,
     "metadata": {},
     "output_type": "execute_result"
    }
   ],
   "source": [
    "# Setup\n",
    "\n",
    "# Data Processing\n",
    "import pandas as pd\n",
    "import numpy as np\n",
    "import ipy_table as tbl # for tables\n",
    "\n",
    "# Visuals\n",
    "import matplotlib.pyplot as plt\n",
    "import seaborn as sns\n",
    "# Using easy highcharts for interactive charts\n",
    "import ezhc as hc\n",
    "%matplotlib inline\n",
    "\n",
    "# Regex\n",
    "import re\n",
    "\n",
    "# Maths\n",
    "import math\n",
    "import scipy\n",
    "from scipy.stats import pearsonr\n",
    "from sklearn.linear_model import LogisticRegression\n",
    "from sklearn.model_selection import train_test_split\n",
    "from sklearn.metrics import confusion_matrix, classification_report, roc_auc_score\n",
    "\n",
    "#Tells Jupyter to print results of any variable on a new line so tables will look good\n",
    "from IPython.core.interactiveshell import InteractiveShell\n",
    "InteractiveShell.ast_node_interactivity = \"all\"\n",
    "\n",
    "# Check what was loaded\n",
    "%load_ext version_information\n",
    "%version_information pandas, ipython, jupyter, ezhc"
   ]
  },
  {
   "cell_type": "code",
   "execution_count": 8,
   "metadata": {
    "scrolled": true
   },
   "outputs": [
    {
     "data": {
      "text/html": [
       "<div>\n",
       "<style>\n",
       "    .dataframe thead tr:only-child th {\n",
       "        text-align: right;\n",
       "    }\n",
       "\n",
       "    .dataframe thead th {\n",
       "        text-align: left;\n",
       "    }\n",
       "\n",
       "    .dataframe tbody tr th {\n",
       "        vertical-align: top;\n",
       "    }\n",
       "</style>\n",
       "<table border=\"1\" class=\"dataframe\">\n",
       "  <thead>\n",
       "    <tr style=\"text-align: right;\">\n",
       "      <th></th>\n",
       "      <th>PassengerId</th>\n",
       "      <th>Survived</th>\n",
       "      <th>Pclass</th>\n",
       "      <th>Name</th>\n",
       "      <th>Sex</th>\n",
       "      <th>Age</th>\n",
       "      <th>SibSp</th>\n",
       "      <th>Parch</th>\n",
       "      <th>Ticket</th>\n",
       "      <th>Fare</th>\n",
       "      <th>Cabin</th>\n",
       "      <th>Embarked</th>\n",
       "    </tr>\n",
       "  </thead>\n",
       "  <tbody>\n",
       "    <tr>\n",
       "      <th>0</th>\n",
       "      <td>1</td>\n",
       "      <td>0</td>\n",
       "      <td>3</td>\n",
       "      <td>Braund, Mr. Owen Harris</td>\n",
       "      <td>male</td>\n",
       "      <td>22.0</td>\n",
       "      <td>1</td>\n",
       "      <td>0</td>\n",
       "      <td>A/5 21171</td>\n",
       "      <td>7.2500</td>\n",
       "      <td>NaN</td>\n",
       "      <td>S</td>\n",
       "    </tr>\n",
       "    <tr>\n",
       "      <th>1</th>\n",
       "      <td>2</td>\n",
       "      <td>1</td>\n",
       "      <td>1</td>\n",
       "      <td>Cumings, Mrs. John Bradley (Florence Briggs Th...</td>\n",
       "      <td>female</td>\n",
       "      <td>38.0</td>\n",
       "      <td>1</td>\n",
       "      <td>0</td>\n",
       "      <td>PC 17599</td>\n",
       "      <td>71.2833</td>\n",
       "      <td>C85</td>\n",
       "      <td>C</td>\n",
       "    </tr>\n",
       "    <tr>\n",
       "      <th>2</th>\n",
       "      <td>3</td>\n",
       "      <td>1</td>\n",
       "      <td>3</td>\n",
       "      <td>Heikkinen, Miss. Laina</td>\n",
       "      <td>female</td>\n",
       "      <td>26.0</td>\n",
       "      <td>0</td>\n",
       "      <td>0</td>\n",
       "      <td>STON/O2. 3101282</td>\n",
       "      <td>7.9250</td>\n",
       "      <td>NaN</td>\n",
       "      <td>S</td>\n",
       "    </tr>\n",
       "    <tr>\n",
       "      <th>3</th>\n",
       "      <td>4</td>\n",
       "      <td>1</td>\n",
       "      <td>1</td>\n",
       "      <td>Futrelle, Mrs. Jacques Heath (Lily May Peel)</td>\n",
       "      <td>female</td>\n",
       "      <td>35.0</td>\n",
       "      <td>1</td>\n",
       "      <td>0</td>\n",
       "      <td>113803</td>\n",
       "      <td>53.1000</td>\n",
       "      <td>C123</td>\n",
       "      <td>S</td>\n",
       "    </tr>\n",
       "    <tr>\n",
       "      <th>4</th>\n",
       "      <td>5</td>\n",
       "      <td>0</td>\n",
       "      <td>3</td>\n",
       "      <td>Allen, Mr. William Henry</td>\n",
       "      <td>male</td>\n",
       "      <td>35.0</td>\n",
       "      <td>0</td>\n",
       "      <td>0</td>\n",
       "      <td>373450</td>\n",
       "      <td>8.0500</td>\n",
       "      <td>NaN</td>\n",
       "      <td>S</td>\n",
       "    </tr>\n",
       "  </tbody>\n",
       "</table>\n",
       "</div>"
      ],
      "text/plain": [
       "   PassengerId  Survived  Pclass  \\\n",
       "0            1         0       3   \n",
       "1            2         1       1   \n",
       "2            3         1       3   \n",
       "3            4         1       1   \n",
       "4            5         0       3   \n",
       "\n",
       "                                                Name     Sex   Age  SibSp  \\\n",
       "0                            Braund, Mr. Owen Harris    male  22.0      1   \n",
       "1  Cumings, Mrs. John Bradley (Florence Briggs Th...  female  38.0      1   \n",
       "2                             Heikkinen, Miss. Laina  female  26.0      0   \n",
       "3       Futrelle, Mrs. Jacques Heath (Lily May Peel)  female  35.0      1   \n",
       "4                           Allen, Mr. William Henry    male  35.0      0   \n",
       "\n",
       "   Parch            Ticket     Fare Cabin Embarked  \n",
       "0      0         A/5 21171   7.2500   NaN        S  \n",
       "1      0          PC 17599  71.2833   C85        C  \n",
       "2      0  STON/O2. 3101282   7.9250   NaN        S  \n",
       "3      0            113803  53.1000  C123        S  \n",
       "4      0            373450   8.0500   NaN        S  "
      ]
     },
     "execution_count": 8,
     "metadata": {},
     "output_type": "execute_result"
    }
   ],
   "source": [
    "# Read the file and take a look\n",
    "origdf = pd.read_csv(\"train.csv\")\n",
    "origdf.head()"
   ]
  },
  {
   "cell_type": "markdown",
   "metadata": {},
   "source": [
    "Details for all variables copied from Kaggle.\n",
    "\n",
    "<h3> Data Dictionary </h3>\n",
    "<table align=\"left\">\n",
    "<tbody>\n",
    "<tr><th><b>Variable</b></th><th><b>Definition</b></th><th><b>Key</b></th></tr>\n",
    "<tr>\n",
    "<td>survival</td>\n",
    "<td>Survival</td>\n",
    "<td>0 = No, 1 = Yes</td>\n",
    "</tr>\n",
    "<tr>\n",
    "<td>pclass</td>\n",
    "<td>Ticket class</td>\n",
    "<td>1 = 1st, 2 = 2nd, 3 = 3rd</td>\n",
    "</tr>\n",
    "<tr>\n",
    "<td>sex</td>\n",
    "<td>Sex</td>\n",
    "<td></td>\n",
    "</tr>\n",
    "<tr>\n",
    "<td>Age</td>\n",
    "<td>Age in years</td>\n",
    "<td></td>\n",
    "</tr>\n",
    "<tr>\n",
    "<td>sibsp</td>\n",
    "<td># of siblings / spouses aboard the Titanic</td>\n",
    "<td></td>\n",
    "</tr>\n",
    "<tr>\n",
    "<td>parch</td>\n",
    "<td># of parents / children aboard the Titanic</td>\n",
    "<td></td>\n",
    "</tr>\n",
    "<tr>\n",
    "<td>ticket</td>\n",
    "<td>Ticket number</td>\n",
    "<td></td>\n",
    "</tr>\n",
    "<tr>\n",
    "<td>fare</td>\n",
    "<td>Passenger fare</td>\n",
    "<td></td>\n",
    "</tr>\n",
    "<tr>\n",
    "<td>cabin</td>\n",
    "<td>Cabin number</td>\n",
    "<td></td>\n",
    "</tr>\n",
    "<tr>\n",
    "<td>embarked</td>\n",
    "<td>Port of Embarkation</td>\n",
    "<td>C = Cherbourg, Q = Queenstown, S = Southampton</td>\n",
    "</tr>\n",
    "</tbody>\n",
    "</table>"
   ]
  },
  {
   "cell_type": "markdown",
   "metadata": {},
   "source": [
    "### Variable Notes\n",
    "<p><b>pclass</b>: A proxy for socio-economic status (SES)<br> 1st = Upper<br> 2nd = Middle<br> 3rd = Lower<br><br> <b>age</b>: Age is fractional if less than 1. If the age is estimated, is it in the form of xx.5<br><br> <b>sibsp</b>: The dataset defines family relations in this way...<br> Sibling = brother, sister, stepbrother, stepsister<br> Spouse = husband, wife (mistresses and fiancés were ignored)<br><br> <b>parch</b>: The dataset defines family relations in this way...<br> Parent = mother, father<br> Child = daughter, son, stepdaughter, stepson<br> Some children travelled only with a nanny, therefore parch=0 for them.</p>"
   ]
  },
  {
   "cell_type": "markdown",
   "metadata": {},
   "source": [
    "***"
   ]
  },
  {
   "cell_type": "markdown",
   "metadata": {},
   "source": [
    "# Data Wrangling\n",
    "\n",
    "Next step is to wrangle our data. Since we aren't searching for additional data we'll start with cleaning. We want fix missing values and any mistakes we find in the data."
   ]
  },
  {
   "cell_type": "code",
   "execution_count": 9,
   "metadata": {
    "scrolled": false
   },
   "outputs": [
    {
     "data": {
      "text/html": [
       "<div>\n",
       "<style>\n",
       "    .dataframe thead tr:only-child th {\n",
       "        text-align: right;\n",
       "    }\n",
       "\n",
       "    .dataframe thead th {\n",
       "        text-align: left;\n",
       "    }\n",
       "\n",
       "    .dataframe tbody tr th {\n",
       "        vertical-align: top;\n",
       "    }\n",
       "</style>\n",
       "<table border=\"1\" class=\"dataframe\">\n",
       "  <thead>\n",
       "    <tr style=\"text-align: right;\">\n",
       "      <th></th>\n",
       "      <th>PassengerId</th>\n",
       "      <th>Survived</th>\n",
       "      <th>Pclass</th>\n",
       "      <th>Age</th>\n",
       "      <th>SibSp</th>\n",
       "      <th>Parch</th>\n",
       "      <th>Fare</th>\n",
       "    </tr>\n",
       "  </thead>\n",
       "  <tbody>\n",
       "    <tr>\n",
       "      <th>count</th>\n",
       "      <td>891.000000</td>\n",
       "      <td>891.000000</td>\n",
       "      <td>891.000000</td>\n",
       "      <td>714.000000</td>\n",
       "      <td>891.000000</td>\n",
       "      <td>891.000000</td>\n",
       "      <td>891.000000</td>\n",
       "    </tr>\n",
       "    <tr>\n",
       "      <th>mean</th>\n",
       "      <td>446.000000</td>\n",
       "      <td>0.383838</td>\n",
       "      <td>2.308642</td>\n",
       "      <td>29.699118</td>\n",
       "      <td>0.523008</td>\n",
       "      <td>0.381594</td>\n",
       "      <td>32.204208</td>\n",
       "    </tr>\n",
       "    <tr>\n",
       "      <th>std</th>\n",
       "      <td>257.353842</td>\n",
       "      <td>0.486592</td>\n",
       "      <td>0.836071</td>\n",
       "      <td>14.526497</td>\n",
       "      <td>1.102743</td>\n",
       "      <td>0.806057</td>\n",
       "      <td>49.693429</td>\n",
       "    </tr>\n",
       "    <tr>\n",
       "      <th>min</th>\n",
       "      <td>1.000000</td>\n",
       "      <td>0.000000</td>\n",
       "      <td>1.000000</td>\n",
       "      <td>0.420000</td>\n",
       "      <td>0.000000</td>\n",
       "      <td>0.000000</td>\n",
       "      <td>0.000000</td>\n",
       "    </tr>\n",
       "    <tr>\n",
       "      <th>25%</th>\n",
       "      <td>223.500000</td>\n",
       "      <td>0.000000</td>\n",
       "      <td>2.000000</td>\n",
       "      <td>20.125000</td>\n",
       "      <td>0.000000</td>\n",
       "      <td>0.000000</td>\n",
       "      <td>7.910400</td>\n",
       "    </tr>\n",
       "    <tr>\n",
       "      <th>50%</th>\n",
       "      <td>446.000000</td>\n",
       "      <td>0.000000</td>\n",
       "      <td>3.000000</td>\n",
       "      <td>28.000000</td>\n",
       "      <td>0.000000</td>\n",
       "      <td>0.000000</td>\n",
       "      <td>14.454200</td>\n",
       "    </tr>\n",
       "    <tr>\n",
       "      <th>75%</th>\n",
       "      <td>668.500000</td>\n",
       "      <td>1.000000</td>\n",
       "      <td>3.000000</td>\n",
       "      <td>38.000000</td>\n",
       "      <td>1.000000</td>\n",
       "      <td>0.000000</td>\n",
       "      <td>31.000000</td>\n",
       "    </tr>\n",
       "    <tr>\n",
       "      <th>max</th>\n",
       "      <td>891.000000</td>\n",
       "      <td>1.000000</td>\n",
       "      <td>3.000000</td>\n",
       "      <td>80.000000</td>\n",
       "      <td>8.000000</td>\n",
       "      <td>6.000000</td>\n",
       "      <td>512.329200</td>\n",
       "    </tr>\n",
       "  </tbody>\n",
       "</table>\n",
       "</div>"
      ],
      "text/plain": [
       "       PassengerId    Survived      Pclass         Age       SibSp  \\\n",
       "count   891.000000  891.000000  891.000000  714.000000  891.000000   \n",
       "mean    446.000000    0.383838    2.308642   29.699118    0.523008   \n",
       "std     257.353842    0.486592    0.836071   14.526497    1.102743   \n",
       "min       1.000000    0.000000    1.000000    0.420000    0.000000   \n",
       "25%     223.500000    0.000000    2.000000   20.125000    0.000000   \n",
       "50%     446.000000    0.000000    3.000000   28.000000    0.000000   \n",
       "75%     668.500000    1.000000    3.000000   38.000000    1.000000   \n",
       "max     891.000000    1.000000    3.000000   80.000000    8.000000   \n",
       "\n",
       "            Parch        Fare  \n",
       "count  891.000000  891.000000  \n",
       "mean     0.381594   32.204208  \n",
       "std      0.806057   49.693429  \n",
       "min      0.000000    0.000000  \n",
       "25%      0.000000    7.910400  \n",
       "50%      0.000000   14.454200  \n",
       "75%      0.000000   31.000000  \n",
       "max      6.000000  512.329200  "
      ]
     },
     "execution_count": 9,
     "metadata": {},
     "output_type": "execute_result"
    },
    {
     "name": "stdout",
     "output_type": "stream",
     "text": [
      "<class 'pandas.core.frame.DataFrame'>\n",
      "RangeIndex: 891 entries, 0 to 890\n",
      "Data columns (total 12 columns):\n",
      "PassengerId    891 non-null int64\n",
      "Survived       891 non-null int64\n",
      "Pclass         891 non-null int64\n",
      "Name           891 non-null object\n",
      "Sex            891 non-null object\n",
      "Age            714 non-null float64\n",
      "SibSp          891 non-null int64\n",
      "Parch          891 non-null int64\n",
      "Ticket         891 non-null object\n",
      "Fare           891 non-null float64\n",
      "Cabin          204 non-null object\n",
      "Embarked       889 non-null object\n",
      "dtypes: float64(2), int64(5), object(5)\n",
      "memory usage: 83.6+ KB\n"
     ]
    }
   ],
   "source": [
    "# More looking at the data to get an idea of what we have\n",
    "origdf.describe()\n",
    "origdf.info()"
   ]
  },
  {
   "cell_type": "markdown",
   "metadata": {},
   "source": [
    "We see from the info() that there are missing values in Age, Cabin and Embarked as the count is lower than 891."
   ]
  },
  {
   "cell_type": "code",
   "execution_count": 10,
   "metadata": {
    "scrolled": true
   },
   "outputs": [
    {
     "data": {
      "text/plain": [
       "PassengerId    False\n",
       "Survived       False\n",
       "Pclass         False\n",
       "Name           False\n",
       "Sex            False\n",
       "Age             True\n",
       "SibSp          False\n",
       "Parch          False\n",
       "Ticket         False\n",
       "Fare           False\n",
       "Cabin           True\n",
       "Embarked        True\n",
       "dtype: bool"
      ]
     },
     "execution_count": 10,
     "metadata": {},
     "output_type": "execute_result"
    }
   ],
   "source": [
    "# A clearer way to check for missing (null) values\n",
    "origdf.isnull().any()"
   ]
  },
  {
   "cell_type": "code",
   "execution_count": 11,
   "metadata": {},
   "outputs": [
    {
     "data": {
      "text/html": [
       "<div>\n",
       "<style>\n",
       "    .dataframe thead tr:only-child th {\n",
       "        text-align: right;\n",
       "    }\n",
       "\n",
       "    .dataframe thead th {\n",
       "        text-align: left;\n",
       "    }\n",
       "\n",
       "    .dataframe tbody tr th {\n",
       "        vertical-align: top;\n",
       "    }\n",
       "</style>\n",
       "<table border=\"1\" class=\"dataframe\">\n",
       "  <thead>\n",
       "    <tr style=\"text-align: right;\">\n",
       "      <th></th>\n",
       "      <th>PassengerId</th>\n",
       "      <th>Survived</th>\n",
       "      <th>Pclass</th>\n",
       "      <th>Name</th>\n",
       "      <th>Sex</th>\n",
       "      <th>Age</th>\n",
       "      <th>SibSp</th>\n",
       "      <th>Parch</th>\n",
       "      <th>Ticket</th>\n",
       "      <th>Fare</th>\n",
       "      <th>Cabin</th>\n",
       "      <th>Embarked</th>\n",
       "    </tr>\n",
       "  </thead>\n",
       "  <tbody>\n",
       "    <tr>\n",
       "      <th>0</th>\n",
       "      <td>1</td>\n",
       "      <td>0</td>\n",
       "      <td>3</td>\n",
       "      <td>Braund, Mr. Owen Harris</td>\n",
       "      <td>male</td>\n",
       "      <td>22.0</td>\n",
       "      <td>1</td>\n",
       "      <td>0</td>\n",
       "      <td>A/5 21171</td>\n",
       "      <td>7.2500</td>\n",
       "      <td>NaN</td>\n",
       "      <td>S</td>\n",
       "    </tr>\n",
       "    <tr>\n",
       "      <th>2</th>\n",
       "      <td>3</td>\n",
       "      <td>1</td>\n",
       "      <td>3</td>\n",
       "      <td>Heikkinen, Miss. Laina</td>\n",
       "      <td>female</td>\n",
       "      <td>26.0</td>\n",
       "      <td>0</td>\n",
       "      <td>0</td>\n",
       "      <td>STON/O2. 3101282</td>\n",
       "      <td>7.9250</td>\n",
       "      <td>NaN</td>\n",
       "      <td>S</td>\n",
       "    </tr>\n",
       "    <tr>\n",
       "      <th>4</th>\n",
       "      <td>5</td>\n",
       "      <td>0</td>\n",
       "      <td>3</td>\n",
       "      <td>Allen, Mr. William Henry</td>\n",
       "      <td>male</td>\n",
       "      <td>35.0</td>\n",
       "      <td>0</td>\n",
       "      <td>0</td>\n",
       "      <td>373450</td>\n",
       "      <td>8.0500</td>\n",
       "      <td>NaN</td>\n",
       "      <td>S</td>\n",
       "    </tr>\n",
       "    <tr>\n",
       "      <th>5</th>\n",
       "      <td>6</td>\n",
       "      <td>0</td>\n",
       "      <td>3</td>\n",
       "      <td>Moran, Mr. James</td>\n",
       "      <td>male</td>\n",
       "      <td>NaN</td>\n",
       "      <td>0</td>\n",
       "      <td>0</td>\n",
       "      <td>330877</td>\n",
       "      <td>8.4583</td>\n",
       "      <td>NaN</td>\n",
       "      <td>Q</td>\n",
       "    </tr>\n",
       "    <tr>\n",
       "      <th>7</th>\n",
       "      <td>8</td>\n",
       "      <td>0</td>\n",
       "      <td>3</td>\n",
       "      <td>Palsson, Master. Gosta Leonard</td>\n",
       "      <td>male</td>\n",
       "      <td>2.0</td>\n",
       "      <td>3</td>\n",
       "      <td>1</td>\n",
       "      <td>349909</td>\n",
       "      <td>21.0750</td>\n",
       "      <td>NaN</td>\n",
       "      <td>S</td>\n",
       "    </tr>\n",
       "  </tbody>\n",
       "</table>\n",
       "</div>"
      ],
      "text/plain": [
       "   PassengerId  Survived  Pclass                            Name     Sex  \\\n",
       "0            1         0       3         Braund, Mr. Owen Harris    male   \n",
       "2            3         1       3          Heikkinen, Miss. Laina  female   \n",
       "4            5         0       3        Allen, Mr. William Henry    male   \n",
       "5            6         0       3                Moran, Mr. James    male   \n",
       "7            8         0       3  Palsson, Master. Gosta Leonard    male   \n",
       "\n",
       "    Age  SibSp  Parch            Ticket     Fare Cabin Embarked  \n",
       "0  22.0      1      0         A/5 21171   7.2500   NaN        S  \n",
       "2  26.0      0      0  STON/O2. 3101282   7.9250   NaN        S  \n",
       "4  35.0      0      0            373450   8.0500   NaN        S  \n",
       "5   NaN      0      0            330877   8.4583   NaN        Q  \n",
       "7   2.0      3      1            349909  21.0750   NaN        S  "
      ]
     },
     "execution_count": 11,
     "metadata": {},
     "output_type": "execute_result"
    }
   ],
   "source": [
    "# Use any(axis=1) to return the rows with missing values\n",
    "origdf[origdf.isnull().any(axis=1)].head()"
   ]
  },
  {
   "cell_type": "markdown",
   "metadata": {},
   "source": [
    "### Planning our modifications\n",
    "We find that Age, Cabin and Embarked have missing values. Cabin and Embarked are not items that we can imply so we'll just leave them be. I was thinking if there were missing values in 'Sex' we could possibly imply a person's gender from their name.\n",
    "\n",
    "For brevity I'm only going to be exploring the following attributes and their affect on Survival.\n",
    "- Ticket Class\n",
    "- Gender\n",
    "- Age Groups\n",
    "- Fare Paid\n",
    "- Embarking Port\n",
    "\n",
    "#### Next steps\n",
    "\n",
    "- PassengerId: Set as our index \n",
    "- Survived: Create column Survival with easier to read labels, Died and Survived. Also keeping Survived for graphing later\n",
    "- Sex: Rename to Gender\n",
    "- Age: Fill missing values with median age. Create Age Groups\n",
    "- Embarked: Rename column to EmbarkingPort. Create easier to read labels (full names of ports), fill missing values with Unknown.\n",
    "- Pclass: Rename column to Class. Create easier to read labels, First, Second and Third Class\n",
    "- Fare: Rename column to FarePaid\n",
    "- DROP all other rows we won't be using "
   ]
  },
  {
   "cell_type": "code",
   "execution_count": 12,
   "metadata": {
    "collapsed": true
   },
   "outputs": [],
   "source": [
    "# Creating a new dataframe and leaving the original intact in case we need it\n",
    "df = origdf.set_index('PassengerId')"
   ]
  },
  {
   "cell_type": "code",
   "execution_count": 13,
   "metadata": {
    "collapsed": true
   },
   "outputs": [],
   "source": [
    "# Create easier to read survival columnn\n",
    "df['Survival'] = df.Survived.map({0 : 'Died', 1 : 'Survived'}).astype('object')\n",
    "df['Survival'] = df['Survival'].astype(object)"
   ]
  },
  {
   "cell_type": "code",
   "execution_count": 14,
   "metadata": {
    "collapsed": true
   },
   "outputs": [],
   "source": [
    "# Rename Fare and Sex columns\n",
    "df = df.rename(columns={'Fare':'FarePaid','Sex':'Gender'})"
   ]
  },
  {
   "cell_type": "code",
   "execution_count": 15,
   "metadata": {
    "collapsed": true
   },
   "outputs": [],
   "source": [
    "# Capitalise for consistency\n",
    "df['Gender'] = df.Gender.map({'female' : 'Female', 'male' : 'Male'}).astype('object')"
   ]
  },
  {
   "cell_type": "code",
   "execution_count": 16,
   "metadata": {
    "collapsed": true
   },
   "outputs": [],
   "source": [
    "# Fill in missing values for Age as the median age\n",
    "df['Age'].fillna(df['Age'].median(),inplace=True)\n",
    "df['Age'] = df['Age'].astype(int)"
   ]
  },
  {
   "cell_type": "code",
   "execution_count": 17,
   "metadata": {},
   "outputs": [
    {
     "data": {
      "text/html": [
       "<div>\n",
       "<style>\n",
       "    .dataframe thead tr:only-child th {\n",
       "        text-align: right;\n",
       "    }\n",
       "\n",
       "    .dataframe thead th {\n",
       "        text-align: left;\n",
       "    }\n",
       "\n",
       "    .dataframe tbody tr th {\n",
       "        vertical-align: top;\n",
       "    }\n",
       "</style>\n",
       "<table border=\"1\" class=\"dataframe\">\n",
       "  <thead>\n",
       "    <tr style=\"text-align: right;\">\n",
       "      <th></th>\n",
       "      <th>Survived</th>\n",
       "      <th>Pclass</th>\n",
       "      <th>Name</th>\n",
       "      <th>Gender</th>\n",
       "      <th>Age</th>\n",
       "      <th>SibSp</th>\n",
       "      <th>Parch</th>\n",
       "      <th>Ticket</th>\n",
       "      <th>FarePaid</th>\n",
       "      <th>Cabin</th>\n",
       "      <th>Embarked</th>\n",
       "      <th>Survival</th>\n",
       "    </tr>\n",
       "    <tr>\n",
       "      <th>PassengerId</th>\n",
       "      <th></th>\n",
       "      <th></th>\n",
       "      <th></th>\n",
       "      <th></th>\n",
       "      <th></th>\n",
       "      <th></th>\n",
       "      <th></th>\n",
       "      <th></th>\n",
       "      <th></th>\n",
       "      <th></th>\n",
       "      <th></th>\n",
       "      <th></th>\n",
       "    </tr>\n",
       "  </thead>\n",
       "  <tbody>\n",
       "    <tr>\n",
       "      <th>62</th>\n",
       "      <td>1</td>\n",
       "      <td>1</td>\n",
       "      <td>Icard, Miss. Amelie</td>\n",
       "      <td>Female</td>\n",
       "      <td>38</td>\n",
       "      <td>0</td>\n",
       "      <td>0</td>\n",
       "      <td>113572</td>\n",
       "      <td>80.0</td>\n",
       "      <td>B28</td>\n",
       "      <td>NaN</td>\n",
       "      <td>Survived</td>\n",
       "    </tr>\n",
       "    <tr>\n",
       "      <th>830</th>\n",
       "      <td>1</td>\n",
       "      <td>1</td>\n",
       "      <td>Stone, Mrs. George Nelson (Martha Evelyn)</td>\n",
       "      <td>Female</td>\n",
       "      <td>62</td>\n",
       "      <td>0</td>\n",
       "      <td>0</td>\n",
       "      <td>113572</td>\n",
       "      <td>80.0</td>\n",
       "      <td>B28</td>\n",
       "      <td>NaN</td>\n",
       "      <td>Survived</td>\n",
       "    </tr>\n",
       "  </tbody>\n",
       "</table>\n",
       "</div>"
      ],
      "text/plain": [
       "             Survived  Pclass                                       Name  \\\n",
       "PassengerId                                                                \n",
       "62                  1       1                        Icard, Miss. Amelie   \n",
       "830                 1       1  Stone, Mrs. George Nelson (Martha Evelyn)   \n",
       "\n",
       "             Gender  Age  SibSp  Parch  Ticket  FarePaid Cabin Embarked  \\\n",
       "PassengerId                                                               \n",
       "62           Female   38      0      0  113572      80.0   B28      NaN   \n",
       "830          Female   62      0      0  113572      80.0   B28      NaN   \n",
       "\n",
       "             Survival  \n",
       "PassengerId            \n",
       "62           Survived  \n",
       "830          Survived  "
      ]
     },
     "execution_count": 17,
     "metadata": {},
     "output_type": "execute_result"
    }
   ],
   "source": [
    "# Check null values for Embarked\n",
    "# The opposite: origdf[origdf.Embarked.notnull()]\n",
    "df[df.Embarked.isnull()]"
   ]
  },
  {
   "cell_type": "code",
   "execution_count": 18,
   "metadata": {
    "collapsed": true
   },
   "outputs": [],
   "source": [
    "# Replace missing values with 0 and Create easier to read Ports column for where someone embarked\n",
    "df['Embarked'].fillna(0,inplace=True)\n",
    "df['EmbarkingPort'] = df.Embarked.map({'C' : 'Cherbourg', 'Q' : 'Queenstown', \n",
    "                                       'S' : 'Southampton', 0 : 'Unknown'}).astype('object')"
   ]
  },
  {
   "cell_type": "code",
   "execution_count": 19,
   "metadata": {
    "collapsed": true
   },
   "outputs": [],
   "source": [
    "# Create easier to read Class column\n",
    "df['Class'] = df.Pclass.map({1 : 'First Class', 2 : 'Second Class', 3 : 'Third Class'}).astype('object')"
   ]
  },
  {
   "cell_type": "code",
   "execution_count": 20,
   "metadata": {
    "collapsed": true
   },
   "outputs": [],
   "source": [
    "# Dropping variables we won't be using\n",
    "df.drop(['Name','Pclass','SibSp','Parch','Cabin','Ticket','Embarked'], \n",
    "        axis=1, inplace=True)"
   ]
  },
  {
   "cell_type": "code",
   "execution_count": 21,
   "metadata": {
    "collapsed": true
   },
   "outputs": [],
   "source": [
    "# Reorder columns\n",
    "df = df[['Survival','Gender','Age','EmbarkingPort','Class','FarePaid','Survived']]"
   ]
  },
  {
   "cell_type": "code",
   "execution_count": 22,
   "metadata": {
    "scrolled": false
   },
   "outputs": [
    {
     "data": {
      "text/html": [
       "<div>\n",
       "<style>\n",
       "    .dataframe thead tr:only-child th {\n",
       "        text-align: right;\n",
       "    }\n",
       "\n",
       "    .dataframe thead th {\n",
       "        text-align: left;\n",
       "    }\n",
       "\n",
       "    .dataframe tbody tr th {\n",
       "        vertical-align: top;\n",
       "    }\n",
       "</style>\n",
       "<table border=\"1\" class=\"dataframe\">\n",
       "  <thead>\n",
       "    <tr style=\"text-align: right;\">\n",
       "      <th></th>\n",
       "      <th>Survival</th>\n",
       "      <th>Gender</th>\n",
       "      <th>Age</th>\n",
       "      <th>EmbarkingPort</th>\n",
       "      <th>Class</th>\n",
       "      <th>FarePaid</th>\n",
       "      <th>Survived</th>\n",
       "    </tr>\n",
       "    <tr>\n",
       "      <th>PassengerId</th>\n",
       "      <th></th>\n",
       "      <th></th>\n",
       "      <th></th>\n",
       "      <th></th>\n",
       "      <th></th>\n",
       "      <th></th>\n",
       "      <th></th>\n",
       "    </tr>\n",
       "  </thead>\n",
       "  <tbody>\n",
       "    <tr>\n",
       "      <th>1</th>\n",
       "      <td>Died</td>\n",
       "      <td>Male</td>\n",
       "      <td>22</td>\n",
       "      <td>Southampton</td>\n",
       "      <td>Third Class</td>\n",
       "      <td>7.2500</td>\n",
       "      <td>0</td>\n",
       "    </tr>\n",
       "    <tr>\n",
       "      <th>2</th>\n",
       "      <td>Survived</td>\n",
       "      <td>Female</td>\n",
       "      <td>38</td>\n",
       "      <td>Cherbourg</td>\n",
       "      <td>First Class</td>\n",
       "      <td>71.2833</td>\n",
       "      <td>1</td>\n",
       "    </tr>\n",
       "    <tr>\n",
       "      <th>3</th>\n",
       "      <td>Survived</td>\n",
       "      <td>Female</td>\n",
       "      <td>26</td>\n",
       "      <td>Southampton</td>\n",
       "      <td>Third Class</td>\n",
       "      <td>7.9250</td>\n",
       "      <td>1</td>\n",
       "    </tr>\n",
       "    <tr>\n",
       "      <th>4</th>\n",
       "      <td>Survived</td>\n",
       "      <td>Female</td>\n",
       "      <td>35</td>\n",
       "      <td>Southampton</td>\n",
       "      <td>First Class</td>\n",
       "      <td>53.1000</td>\n",
       "      <td>1</td>\n",
       "    </tr>\n",
       "    <tr>\n",
       "      <th>5</th>\n",
       "      <td>Died</td>\n",
       "      <td>Male</td>\n",
       "      <td>35</td>\n",
       "      <td>Southampton</td>\n",
       "      <td>Third Class</td>\n",
       "      <td>8.0500</td>\n",
       "      <td>0</td>\n",
       "    </tr>\n",
       "  </tbody>\n",
       "</table>\n",
       "</div>"
      ],
      "text/plain": [
       "             Survival  Gender  Age EmbarkingPort        Class  FarePaid  \\\n",
       "PassengerId                                                               \n",
       "1                Died    Male   22   Southampton  Third Class    7.2500   \n",
       "2            Survived  Female   38     Cherbourg  First Class   71.2833   \n",
       "3            Survived  Female   26   Southampton  Third Class    7.9250   \n",
       "4            Survived  Female   35   Southampton  First Class   53.1000   \n",
       "5                Died    Male   35   Southampton  Third Class    8.0500   \n",
       "\n",
       "             Survived  \n",
       "PassengerId            \n",
       "1                   0  \n",
       "2                   1  \n",
       "3                   1  \n",
       "4                   1  \n",
       "5                   0  "
      ]
     },
     "execution_count": 22,
     "metadata": {},
     "output_type": "execute_result"
    },
    {
     "name": "stdout",
     "output_type": "stream",
     "text": [
      "<class 'pandas.core.frame.DataFrame'>\n",
      "Int64Index: 891 entries, 1 to 891\n",
      "Data columns (total 7 columns):\n",
      "Survival         891 non-null object\n",
      "Gender           891 non-null object\n",
      "Age              891 non-null int32\n",
      "EmbarkingPort    891 non-null object\n",
      "Class            891 non-null object\n",
      "FarePaid         891 non-null float64\n",
      "Survived         891 non-null int64\n",
      "dtypes: float64(1), int32(1), int64(1), object(4)\n",
      "memory usage: 52.2+ KB\n"
     ]
    }
   ],
   "source": [
    "# Checking our data is now cleaned\n",
    "df.head()\n",
    "df.info()"
   ]
  },
  {
   "cell_type": "code",
   "execution_count": 23,
   "metadata": {},
   "outputs": [
    {
     "data": {
      "text/plain": [
       "Survival         False\n",
       "Gender           False\n",
       "Age              False\n",
       "EmbarkingPort    False\n",
       "Class            False\n",
       "FarePaid         False\n",
       "Survived         False\n",
       "dtype: bool"
      ]
     },
     "execution_count": 23,
     "metadata": {},
     "output_type": "execute_result"
    }
   ],
   "source": [
    "# Double check for missing values\n",
    "df.isnull().any()"
   ]
  },
  {
   "cell_type": "markdown",
   "metadata": {},
   "source": [
    "***"
   ]
  },
  {
   "cell_type": "markdown",
   "metadata": {},
   "source": [
    "# Data Exploration\n",
    "### Visualising at our variables\n",
    "\n",
    "Here we'll get a better idea of what our data looks like."
   ]
  },
  {
   "cell_type": "code",
   "execution_count": 24,
   "metadata": {},
   "outputs": [
    {
     "data": {
      "text/html": [
       "<div id=\"2739fa8f_e560_4700_9bd9_5ac651f6d8f6\"><div id=\"2739fa8f_e560_4700_9bd9_5ac651f6d8f6container_chart\"></div></div><script>\n",
       "    // the Jupyter notebook loads jquery.min.js  and require.js and at the top of the page\n",
       "    // then to make jquery available inside a require module\n",
       "    // the trick is http://www.manuel-strehl.de/dev/load_jquery_before_requirejs.en.html\n",
       "    define('jquery', [], function() {\n",
       "        return jQuery;\n",
       "    });\n",
       "\n",
       "    require([\"jquery\", \"http://code.highcharts.com/stock/highstock.js\", \"http://d3js.org/d3.v3.min.js\"], function() {\n",
       "        require([\"https://cdn.datatables.net/1.10.10/js/jquery.dataTables.min.js\", \"http://code.highcharts.com/stock/highcharts-more.js\", \"http://code.highcharts.com/modules/drilldown.js\", \"http://code.highcharts.com/modules/exporting.js\", \"http://code.highcharts.com/modules/heatmap.js\", \"http://code.highcharts.com/modules/treemap.js\", \"http://highcharts.github.io/export-csv/export-csv.js\"], function() {\n",
       "            \n",
       "    var options = {\"credits\":{\"enabled\":false},\"exporting\":{\"enabled\":true},\"chart\":{\"animation\":false,\"type\":\"pie\",\"width\":500,\"height\":500,\"renderTo\":\"2739fa8f_e560_4700_9bd9_5ac651f6d8f6container_chart\"},\"series\":[{\"name\":\"Survival\",\"yAxis\":0,\"data\":[[\"Died\",549],[\"Survived\",342]]}],\"plotOptions\":{\"series\":{\"animation\":false},\"line\":{\"animation\":false},\"column\":{\"animation\":false},\"bar\":{\"animation\":false},\"pie\":{\"animation\":false,\"showInLegend\":false,\"dataLabels\":{\"enabled\":true,\"distance\":0,\"format\":\"{point.name}: {point.percentage:.1f}%\"},\"colors\":[\"black\",\"green\"]},\"scatter\":{\"animation\":false},\"bubble\":{\"animation\":false},\"treemap\":{\"animation\":false}},\"tooltip\":{\"headerFormat\":\"<b>{point.key}<\\/b><br>\",\"pointFormat\":\"<b>{point.percentage:.1f}%<\\/b> <br>{point.y} of 891\"},\"title\":{\"text\":\"Survival Percentage\"}};\n",
       "    options = JSON.stringify(options);\n",
       "\n",
       "options = JSON.parse(options, function(key, value) {\n",
       "\n",
       "    if (value && (typeof value===\"string\")) {\n",
       "\n",
       "                var check1 = (value.replace(/\\s+/g, '').replace(/\\r?\\n|\\r/g, '').substr(0,8) == \"function\"),\n",
       "            check2 = (value.replace(/\\s+/g, '').replace(/\\r?\\n|\\r/g, '').substr(0,9) == \"(function\");\n",
       "\n",
       "        if (check1) {\n",
       "            var startBody = value.indexOf('{') + 1;\n",
       "            var endBody = value.lastIndexOf('}');\n",
       "            var startArgs = value.indexOf('(') + 1;\n",
       "            var endArgs = value.indexOf(')');\n",
       "\n",
       "            return new Function(value.substring(startArgs, endArgs),\n",
       "                                value.substring(startBody, endBody));\n",
       "        }\n",
       "        if (check2) {\n",
       "            return eval(value);\n",
       "        }\n",
       "\n",
       "\n",
       "    }\n",
       "\n",
       "    return value;\n",
       "});\n",
       "\n",
       "    \n",
       "\n",
       "    var opt = $.extend(true, {}, options);\n",
       "    if (window.opts==undefined) {\n",
       "        window.opts = {};\n",
       "    }\n",
       "    window.opts['2739fa8f_e560_4700_9bd9_5ac651f6d8f6'] = opt;\n",
       "\n",
       "    console.log('Highcharts/Highstock options accessible as opts[\"2739fa8f_e560_4700_9bd9_5ac651f6d8f6\"]');\n",
       "    \n",
       "            \n",
       "            window.chart = new Highcharts.Chart(options);\n",
       "            \n",
       "    console.log('Highcharts/Highstock chart accessible as charts[\"2739fa8f_e560_4700_9bd9_5ac651f6d8f6\"]');\n",
       "    \n",
       "        });\n",
       "    });\n",
       "    </script>"
      ],
      "text/plain": [
       "<IPython.core.display.HTML object>"
      ]
     },
     "execution_count": 24,
     "metadata": {},
     "output_type": "execute_result"
    }
   ],
   "source": [
    "# Percentage Survival. c for counts\n",
    "cSurvival = pd.DataFrame(df['Survival'].value_counts())\n",
    "\n",
    "g = hc.Highcharts()\n",
    "\n",
    "g.chart.type = 'pie'\n",
    "g.chart.width = 500\n",
    "g.chart.height = 500\n",
    "g.tooltip.headerFormat = '<b>{point.key}</b><br>'\n",
    "g.tooltip.pointFormat= '<b>{point.percentage:.1f}%</b> <br>{point.y} of 891'\n",
    "gpo = g.plotOptions.pie\n",
    "gpo.showInLegend = False\n",
    "gpo.dataLabels.enabled = True\n",
    "gpo.dataLabels.distance = 0\n",
    "gpo.dataLabels.format = '{point.name}: {point.percentage:.1f}%'\n",
    "gpo.colors = ['black','green']\n",
    "\n",
    "g.title.text = 'Survival Percentage'\n",
    "g.series = hc.build.series(cSurvival)\n",
    "\n",
    "g.plot()"
   ]
  },
  {
   "cell_type": "code",
   "execution_count": 25,
   "metadata": {},
   "outputs": [
    {
     "data": {
      "text/html": [
       "<div id=\"03ce8bff_2db2_4858_84d9_25265d97f7d1\"><div id=\"03ce8bff_2db2_4858_84d9_25265d97f7d1container_chart\"></div></div><script>\n",
       "    // the Jupyter notebook loads jquery.min.js  and require.js and at the top of the page\n",
       "    // then to make jquery available inside a require module\n",
       "    // the trick is http://www.manuel-strehl.de/dev/load_jquery_before_requirejs.en.html\n",
       "    define('jquery', [], function() {\n",
       "        return jQuery;\n",
       "    });\n",
       "\n",
       "    require([\"jquery\", \"http://code.highcharts.com/stock/highstock.js\", \"http://d3js.org/d3.v3.min.js\"], function() {\n",
       "        require([\"https://cdn.datatables.net/1.10.10/js/jquery.dataTables.min.js\", \"http://code.highcharts.com/stock/highcharts-more.js\", \"http://code.highcharts.com/modules/drilldown.js\", \"http://code.highcharts.com/modules/exporting.js\", \"http://code.highcharts.com/modules/heatmap.js\", \"http://code.highcharts.com/modules/treemap.js\", \"http://highcharts.github.io/export-csv/export-csv.js\"], function() {\n",
       "            \n",
       "    var options = {\"credits\":{\"enabled\":false},\"exporting\":{\"enabled\":true},\"chart\":{\"animation\":false,\"type\":\"pie\",\"width\":480,\"height\":480,\"renderTo\":\"03ce8bff_2db2_4858_84d9_25265d97f7d1container_chart\"},\"series\":[{\"name\":\"Gender\",\"yAxis\":0,\"data\":[[\"Male\",577],[\"Female\",314]]}],\"plotOptions\":{\"series\":{\"animation\":false},\"line\":{\"animation\":false},\"column\":{\"animation\":false},\"bar\":{\"animation\":false},\"pie\":{\"animation\":false,\"showInLegend\":true,\"dataLabels\":{\"enabled\":true,\"distance\":0,\"format\":\"{point.name}: {point.percentage:.1f}%\"},\"colors\":[\"#434DF2\",\"#F37161\"]},\"scatter\":{\"animation\":false},\"bubble\":{\"animation\":false},\"treemap\":{\"animation\":false}},\"tooltip\":{\"headerFormat\":\"<b>{point.key}<\\/b><br>\",\"pointFormat\":\"<b>{point.percentage:.1f}%<\\/b> <br>{point.y} of 891\"},\"title\":{\"text\":\"Men and women on board\"}};\n",
       "    options = JSON.stringify(options);\n",
       "\n",
       "options = JSON.parse(options, function(key, value) {\n",
       "\n",
       "    if (value && (typeof value===\"string\")) {\n",
       "\n",
       "                var check1 = (value.replace(/\\s+/g, '').replace(/\\r?\\n|\\r/g, '').substr(0,8) == \"function\"),\n",
       "            check2 = (value.replace(/\\s+/g, '').replace(/\\r?\\n|\\r/g, '').substr(0,9) == \"(function\");\n",
       "\n",
       "        if (check1) {\n",
       "            var startBody = value.indexOf('{') + 1;\n",
       "            var endBody = value.lastIndexOf('}');\n",
       "            var startArgs = value.indexOf('(') + 1;\n",
       "            var endArgs = value.indexOf(')');\n",
       "\n",
       "            return new Function(value.substring(startArgs, endArgs),\n",
       "                                value.substring(startBody, endBody));\n",
       "        }\n",
       "        if (check2) {\n",
       "            return eval(value);\n",
       "        }\n",
       "\n",
       "\n",
       "    }\n",
       "\n",
       "    return value;\n",
       "});\n",
       "\n",
       "    \n",
       "\n",
       "    var opt = $.extend(true, {}, options);\n",
       "    if (window.opts==undefined) {\n",
       "        window.opts = {};\n",
       "    }\n",
       "    window.opts['03ce8bff_2db2_4858_84d9_25265d97f7d1'] = opt;\n",
       "\n",
       "    console.log('Highcharts/Highstock options accessible as opts[\"03ce8bff_2db2_4858_84d9_25265d97f7d1\"]');\n",
       "    \n",
       "            \n",
       "            window.chart = new Highcharts.Chart(options);\n",
       "            \n",
       "    console.log('Highcharts/Highstock chart accessible as charts[\"03ce8bff_2db2_4858_84d9_25265d97f7d1\"]');\n",
       "    \n",
       "        });\n",
       "    });\n",
       "    </script>"
      ],
      "text/plain": [
       "<IPython.core.display.HTML object>"
      ]
     },
     "execution_count": 25,
     "metadata": {},
     "output_type": "execute_result"
    }
   ],
   "source": [
    "# Gender distribution.\n",
    "cGender = pd.DataFrame(df['Gender'].value_counts())\n",
    "\n",
    "g = hc.Highcharts()\n",
    "\n",
    "g.chart.type = 'pie'\n",
    "g.chart.width = 480\n",
    "g.chart.height = 480\n",
    "g.tooltip.headerFormat = '<b>{point.key}</b><br>'\n",
    "g.tooltip.pointFormat = '<b>{point.percentage:.1f}%</b> <br>{point.y} of 891'\n",
    "gpo = g.plotOptions.pie\n",
    "gpo.showInLegend = True\n",
    "gpo.dataLabels.enabled = True\n",
    "gpo.dataLabels.distance = 0\n",
    "gpo.dataLabels.format = '{point.name}: {point.percentage:.1f}%'\n",
    "gpo.colors = ['#434DF2','#F37161'] #blue for male, red for female\n",
    "\n",
    "g.title.text = 'Men and women on board'\n",
    "g.series = hc.build.series(cGender)\n",
    "\n",
    "g.plot()"
   ]
  },
  {
   "cell_type": "code",
   "execution_count": 26,
   "metadata": {
    "scrolled": false
   },
   "outputs": [
    {
     "data": {
      "text/html": [
       "<div id=\"95003a26_6d7f_4776_b999_bb92ba5e0327\"><div id=\"95003a26_6d7f_4776_b999_bb92ba5e0327container_chart\"></div></div><script>\n",
       "    // the Jupyter notebook loads jquery.min.js  and require.js and at the top of the page\n",
       "    // then to make jquery available inside a require module\n",
       "    // the trick is http://www.manuel-strehl.de/dev/load_jquery_before_requirejs.en.html\n",
       "    define('jquery', [], function() {\n",
       "        return jQuery;\n",
       "    });\n",
       "\n",
       "    require([\"jquery\", \"http://code.highcharts.com/stock/highstock.js\", \"http://d3js.org/d3.v3.min.js\"], function() {\n",
       "        require([\"https://cdn.datatables.net/1.10.10/js/jquery.dataTables.min.js\", \"http://code.highcharts.com/stock/highcharts-more.js\", \"http://code.highcharts.com/modules/drilldown.js\", \"http://code.highcharts.com/modules/exporting.js\", \"http://code.highcharts.com/modules/heatmap.js\", \"http://code.highcharts.com/modules/treemap.js\", \"http://highcharts.github.io/export-csv/export-csv.js\"], function() {\n",
       "            \n",
       "    var options = {\"credits\":{\"enabled\":false},\"exporting\":{\"enabled\":true},\"chart\":{\"animation\":false,\"type\":\"column\",\"renderTo\":\"95003a26_6d7f_4776_b999_bb92ba5e0327container_chart\"},\"series\":[{\"name\":\"Age\",\"yAxis\":0,\"data\":[[28,204],[24,31],[22,27],[30,27],[18,26],[19,25],[21,24],[36,23],[25,23],[32,20],[29,20],[35,18],[27,18],[26,18],[31,17],[16,17],[23,16],[20,16],[34,16],[40,15],[33,15],[39,14],[45,14],[42,13],[17,13],[38,11],[50,10],[4,10],[2,10],[48,9],[47,9],[44,9],[9,8],[54,8],[14,7],[1,7],[0,7],[51,7],[3,6],[41,6],[49,6],[52,6],[37,6],[43,5],[15,5],[58,5],[60,4],[8,4],[11,4],[62,4],[5,4],[56,4],[61,3],[55,3],[70,3],[65,3],[46,3],[7,3],[6,3],[59,2],[57,2],[64,2],[13,2],[71,2],[10,2],[63,2],[74,1],[66,1],[12,1],[53,1],[80,1]]}],\"plotOptions\":{\"series\":{\"animation\":false},\"line\":{\"animation\":false},\"column\":{\"animation\":false,\"groupPadding\":0,\"pointPadding\":0,\"borderWidth\":0.5,\"showInLegend\":false},\"bar\":{\"animation\":false},\"pie\":{\"animation\":false},\"scatter\":{\"animation\":false},\"bubble\":{\"animation\":false},\"treemap\":{\"animation\":false}},\"yAxis\":{\"title\":{\"text\":\"<b>Frequency<\\/b>\"}},\"xAxis\":{\"title\":{\"text\":\"<b>Age<\\/b>\"}},\"tooltip\":{\"headerFormat\":\"\",\"pointFormat\":\"Age {point.x}: {point.y}\"},\"title\":{\"text\":\"Age Distribution\"}};\n",
       "    options = JSON.stringify(options);\n",
       "\n",
       "options = JSON.parse(options, function(key, value) {\n",
       "\n",
       "    if (value && (typeof value===\"string\")) {\n",
       "\n",
       "                var check1 = (value.replace(/\\s+/g, '').replace(/\\r?\\n|\\r/g, '').substr(0,8) == \"function\"),\n",
       "            check2 = (value.replace(/\\s+/g, '').replace(/\\r?\\n|\\r/g, '').substr(0,9) == \"(function\");\n",
       "\n",
       "        if (check1) {\n",
       "            var startBody = value.indexOf('{') + 1;\n",
       "            var endBody = value.lastIndexOf('}');\n",
       "            var startArgs = value.indexOf('(') + 1;\n",
       "            var endArgs = value.indexOf(')');\n",
       "\n",
       "            return new Function(value.substring(startArgs, endArgs),\n",
       "                                value.substring(startBody, endBody));\n",
       "        }\n",
       "        if (check2) {\n",
       "            return eval(value);\n",
       "        }\n",
       "\n",
       "\n",
       "    }\n",
       "\n",
       "    return value;\n",
       "});\n",
       "\n",
       "    \n",
       "\n",
       "    var opt = $.extend(true, {}, options);\n",
       "    if (window.opts==undefined) {\n",
       "        window.opts = {};\n",
       "    }\n",
       "    window.opts['95003a26_6d7f_4776_b999_bb92ba5e0327'] = opt;\n",
       "\n",
       "    console.log('Highcharts/Highstock options accessible as opts[\"95003a26_6d7f_4776_b999_bb92ba5e0327\"]');\n",
       "    \n",
       "            \n",
       "            window.chart = new Highcharts.Chart(options);\n",
       "            \n",
       "    console.log('Highcharts/Highstock chart accessible as charts[\"95003a26_6d7f_4776_b999_bb92ba5e0327\"]');\n",
       "    \n",
       "        });\n",
       "    });\n",
       "    </script>"
      ],
      "text/plain": [
       "<IPython.core.display.HTML object>"
      ]
     },
     "execution_count": 26,
     "metadata": {},
     "output_type": "execute_result"
    }
   ],
   "source": [
    "# Age Distribution. \n",
    "cAge = pd.DataFrame(df['Age'].value_counts())\n",
    "\n",
    "g = hc.Highcharts()\n",
    "\n",
    "g.chart.type = 'column'\n",
    "g.yAxis.title.text = '<b>Frequency</b>'\n",
    "g.xAxis.title.text = '<b>Age</b>'\n",
    "g.tooltip.headerFormat = ''\n",
    "g.tooltip.pointFormat = 'Age {point.x}: {point.y}'\n",
    "gpo = g.plotOptions.column\n",
    "gpo.groupPadding = 0\n",
    "gpo.pointPadding = 0\n",
    "gpo.borderWidth = 0.5\n",
    "gpo.showInLegend = False\n",
    "\n",
    "g.title.text = 'Age Distribution'\n",
    "g.series = hc.build.series(cAge)\n",
    "\n",
    "g.plot()"
   ]
  },
  {
   "cell_type": "markdown",
   "metadata": {},
   "source": [
    "Note that since our missing age values were replaced with the median age of 28,  we have a large spike of 28 year olds on board which is likely not to be true."
   ]
  },
  {
   "cell_type": "code",
   "execution_count": 27,
   "metadata": {
    "scrolled": false
   },
   "outputs": [
    {
     "data": {
      "text/html": [
       "<div id=\"977fb9cb_fd7a_4698_972e_57cbbc5c60d9\"><div id=\"977fb9cb_fd7a_4698_972e_57cbbc5c60d9container_chart\"></div></div><script>\n",
       "    // the Jupyter notebook loads jquery.min.js  and require.js and at the top of the page\n",
       "    // then to make jquery available inside a require module\n",
       "    // the trick is http://www.manuel-strehl.de/dev/load_jquery_before_requirejs.en.html\n",
       "    define('jquery', [], function() {\n",
       "        return jQuery;\n",
       "    });\n",
       "\n",
       "    require([\"jquery\", \"http://code.highcharts.com/stock/highstock.js\", \"http://d3js.org/d3.v3.min.js\"], function() {\n",
       "        require([\"https://cdn.datatables.net/1.10.10/js/jquery.dataTables.min.js\", \"http://code.highcharts.com/stock/highcharts-more.js\", \"http://code.highcharts.com/modules/drilldown.js\", \"http://code.highcharts.com/modules/exporting.js\", \"http://code.highcharts.com/modules/heatmap.js\", \"http://code.highcharts.com/modules/treemap.js\", \"http://highcharts.github.io/export-csv/export-csv.js\"], function() {\n",
       "            \n",
       "    var options = {\"credits\":{\"enabled\":false},\"exporting\":{\"enabled\":true},\"chart\":{\"animation\":false,\"type\":\"pie\",\"width\":550,\"height\":550,\"renderTo\":\"977fb9cb_fd7a_4698_972e_57cbbc5c60d9container_chart\"},\"series\":[{\"name\":\"EmbarkingPort\",\"yAxis\":0,\"data\":[[\"Southampton\",644],[\"Cherbourg\",168],[\"Queenstown\",77],[\"Unknown\",2]]}],\"plotOptions\":{\"series\":{\"animation\":false},\"line\":{\"animation\":false},\"column\":{\"animation\":false},\"bar\":{\"animation\":false},\"pie\":{\"animation\":false,\"showInLegend\":false,\"dataLabels\":{\"enabled\":true,\"distance\":10,\"format\":\"{point.name}: {point.percentage:.1f}%\"}},\"scatter\":{\"animation\":false},\"bubble\":{\"animation\":false},\"treemap\":{\"animation\":false}},\"tooltip\":{\"headerFormat\":\"<b>{point.key}<\\/b><br>\",\"pointFormat\":\"<b>{point.percentage:.1f}%<\\/b> <br>{point.y} of 891\"},\"title\":{\"text\":\"Embarking from the following locations\"}};\n",
       "    options = JSON.stringify(options);\n",
       "\n",
       "options = JSON.parse(options, function(key, value) {\n",
       "\n",
       "    if (value && (typeof value===\"string\")) {\n",
       "\n",
       "                var check1 = (value.replace(/\\s+/g, '').replace(/\\r?\\n|\\r/g, '').substr(0,8) == \"function\"),\n",
       "            check2 = (value.replace(/\\s+/g, '').replace(/\\r?\\n|\\r/g, '').substr(0,9) == \"(function\");\n",
       "\n",
       "        if (check1) {\n",
       "            var startBody = value.indexOf('{') + 1;\n",
       "            var endBody = value.lastIndexOf('}');\n",
       "            var startArgs = value.indexOf('(') + 1;\n",
       "            var endArgs = value.indexOf(')');\n",
       "\n",
       "            return new Function(value.substring(startArgs, endArgs),\n",
       "                                value.substring(startBody, endBody));\n",
       "        }\n",
       "        if (check2) {\n",
       "            return eval(value);\n",
       "        }\n",
       "\n",
       "\n",
       "    }\n",
       "\n",
       "    return value;\n",
       "});\n",
       "\n",
       "    \n",
       "\n",
       "    var opt = $.extend(true, {}, options);\n",
       "    if (window.opts==undefined) {\n",
       "        window.opts = {};\n",
       "    }\n",
       "    window.opts['977fb9cb_fd7a_4698_972e_57cbbc5c60d9'] = opt;\n",
       "\n",
       "    console.log('Highcharts/Highstock options accessible as opts[\"977fb9cb_fd7a_4698_972e_57cbbc5c60d9\"]');\n",
       "    \n",
       "            \n",
       "            window.chart = new Highcharts.Chart(options);\n",
       "            \n",
       "    console.log('Highcharts/Highstock chart accessible as charts[\"977fb9cb_fd7a_4698_972e_57cbbc5c60d9\"]');\n",
       "    \n",
       "        });\n",
       "    });\n",
       "    </script>"
      ],
      "text/plain": [
       "<IPython.core.display.HTML object>"
      ]
     },
     "execution_count": 27,
     "metadata": {},
     "output_type": "execute_result"
    }
   ],
   "source": [
    "# Percentage division of ports\n",
    "cEmbarkingPort = pd.DataFrame(df['EmbarkingPort'].value_counts())\n",
    "\n",
    "g = hc.Highcharts()\n",
    "\n",
    "g.chart.type = 'pie'\n",
    "g.chart.width = 550\n",
    "g.chart.height = 550\n",
    "g.tooltip.headerFormat = '<b>{point.key}</b><br>'\n",
    "g.tooltip.pointFormat= '<b>{point.percentage:.1f}%</b> <br>{point.y} of 891'\n",
    "gpo = g.plotOptions.pie\n",
    "gpo.showInLegend = False\n",
    "gpo.dataLabels.enabled = True\n",
    "gpo.dataLabels.distance = 10\n",
    "gpo.dataLabels.format = '{point.name}: {point.percentage:.1f}%'\n",
    "\n",
    "g.title.text = 'Embarking from the following locations'\n",
    "g.series = hc.build.series(cEmbarkingPort)\n",
    "\n",
    "g.plot()"
   ]
  },
  {
   "cell_type": "code",
   "execution_count": 28,
   "metadata": {},
   "outputs": [
    {
     "data": {
      "text/html": [
       "<div id=\"3fac2d22_9a65_4aee_ae1b_995a512cb548\"><div id=\"3fac2d22_9a65_4aee_ae1b_995a512cb548container_chart\"></div></div><script>\n",
       "    // the Jupyter notebook loads jquery.min.js  and require.js and at the top of the page\n",
       "    // then to make jquery available inside a require module\n",
       "    // the trick is http://www.manuel-strehl.de/dev/load_jquery_before_requirejs.en.html\n",
       "    define('jquery', [], function() {\n",
       "        return jQuery;\n",
       "    });\n",
       "\n",
       "    require([\"jquery\", \"http://code.highcharts.com/stock/highstock.js\", \"http://d3js.org/d3.v3.min.js\"], function() {\n",
       "        require([\"https://cdn.datatables.net/1.10.10/js/jquery.dataTables.min.js\", \"http://code.highcharts.com/stock/highcharts-more.js\", \"http://code.highcharts.com/modules/drilldown.js\", \"http://code.highcharts.com/modules/exporting.js\", \"http://code.highcharts.com/modules/heatmap.js\", \"http://code.highcharts.com/modules/treemap.js\", \"http://highcharts.github.io/export-csv/export-csv.js\"], function() {\n",
       "            \n",
       "    var options = {\"credits\":{\"enabled\":false},\"exporting\":{\"enabled\":true},\"chart\":{\"animation\":false,\"type\":\"pie\",\"width\":550,\"height\":550,\"renderTo\":\"3fac2d22_9a65_4aee_ae1b_995a512cb548container_chart\"},\"series\":[{\"name\":\"Class\",\"yAxis\":0,\"data\":[[\"Third Class\",491],[\"First Class\",216],[\"Second Class\",184]]}],\"plotOptions\":{\"series\":{\"animation\":false},\"line\":{\"animation\":false},\"column\":{\"animation\":false},\"bar\":{\"animation\":false},\"pie\":{\"animation\":false,\"showInLegend\":false,\"dataLabels\":{\"enabled\":true,\"distance\":0,\"format\":\"{point.name}: {point.percentage:.1f}%\"},\"colors\":[\"#B6B6B6\",\"#434DF2\",\"#EC4242\"]},\"scatter\":{\"animation\":false},\"bubble\":{\"animation\":false},\"treemap\":{\"animation\":false}},\"tooltip\":{\"headerFormat\":\"<b>{point.key}<\\/b><br>\",\"pointFormat\":\"<b>{point.percentage:.1f}%<\\/b> <br>{point.y} of 891\"},\"title\":{\"text\":\"Ticket Class distribution\"}};\n",
       "    options = JSON.stringify(options);\n",
       "\n",
       "options = JSON.parse(options, function(key, value) {\n",
       "\n",
       "    if (value && (typeof value===\"string\")) {\n",
       "\n",
       "                var check1 = (value.replace(/\\s+/g, '').replace(/\\r?\\n|\\r/g, '').substr(0,8) == \"function\"),\n",
       "            check2 = (value.replace(/\\s+/g, '').replace(/\\r?\\n|\\r/g, '').substr(0,9) == \"(function\");\n",
       "\n",
       "        if (check1) {\n",
       "            var startBody = value.indexOf('{') + 1;\n",
       "            var endBody = value.lastIndexOf('}');\n",
       "            var startArgs = value.indexOf('(') + 1;\n",
       "            var endArgs = value.indexOf(')');\n",
       "\n",
       "            return new Function(value.substring(startArgs, endArgs),\n",
       "                                value.substring(startBody, endBody));\n",
       "        }\n",
       "        if (check2) {\n",
       "            return eval(value);\n",
       "        }\n",
       "\n",
       "\n",
       "    }\n",
       "\n",
       "    return value;\n",
       "});\n",
       "\n",
       "    \n",
       "\n",
       "    var opt = $.extend(true, {}, options);\n",
       "    if (window.opts==undefined) {\n",
       "        window.opts = {};\n",
       "    }\n",
       "    window.opts['3fac2d22_9a65_4aee_ae1b_995a512cb548'] = opt;\n",
       "\n",
       "    console.log('Highcharts/Highstock options accessible as opts[\"3fac2d22_9a65_4aee_ae1b_995a512cb548\"]');\n",
       "    \n",
       "            \n",
       "            window.chart = new Highcharts.Chart(options);\n",
       "            \n",
       "    console.log('Highcharts/Highstock chart accessible as charts[\"3fac2d22_9a65_4aee_ae1b_995a512cb548\"]');\n",
       "    \n",
       "        });\n",
       "    });\n",
       "    </script>"
      ],
      "text/plain": [
       "<IPython.core.display.HTML object>"
      ]
     },
     "execution_count": 28,
     "metadata": {},
     "output_type": "execute_result"
    }
   ],
   "source": [
    "# Percentage division of Ticket Class\n",
    "cClass = pd.DataFrame(df['Class'].value_counts())\n",
    "\n",
    "g = hc.Highcharts()\n",
    "\n",
    "g.chart.type = 'pie'\n",
    "g.chart.width = 550\n",
    "g.chart.height = 550\n",
    "g.tooltip.headerFormat = '<b>{point.key}</b><br>'\n",
    "g.tooltip.pointFormat= '<b>{point.percentage:.1f}%</b> <br>{point.y} of 891'\n",
    "gpo = g.plotOptions.pie\n",
    "gpo.showInLegend = False\n",
    "gpo.dataLabels.enabled = True\n",
    "gpo.dataLabels.distance = 0\n",
    "gpo.dataLabels.format = '{point.name}: {point.percentage:.1f}%'\n",
    "gpo.colors = ['#B6B6B6','#434DF2','#EC4242']\n",
    "\n",
    "g.title.text = 'Ticket Class distribution'\n",
    "g.series = hc.build.series(cClass)\n",
    "\n",
    "g.plot()"
   ]
  },
  {
   "cell_type": "code",
   "execution_count": 29,
   "metadata": {},
   "outputs": [
    {
     "data": {
      "text/html": [
       "<div id=\"c1d64a89_e72d_472f_9045_6d59ac765ed5\"><div id=\"c1d64a89_e72d_472f_9045_6d59ac765ed5container_chart\"></div></div><script>\n",
       "    // the Jupyter notebook loads jquery.min.js  and require.js and at the top of the page\n",
       "    // then to make jquery available inside a require module\n",
       "    // the trick is http://www.manuel-strehl.de/dev/load_jquery_before_requirejs.en.html\n",
       "    define('jquery', [], function() {\n",
       "        return jQuery;\n",
       "    });\n",
       "\n",
       "    require([\"jquery\", \"http://code.highcharts.com/stock/highstock.js\", \"http://d3js.org/d3.v3.min.js\"], function() {\n",
       "        require([\"https://cdn.datatables.net/1.10.10/js/jquery.dataTables.min.js\", \"http://code.highcharts.com/stock/highcharts-more.js\", \"http://code.highcharts.com/modules/drilldown.js\", \"http://code.highcharts.com/modules/exporting.js\", \"http://code.highcharts.com/modules/heatmap.js\", \"http://code.highcharts.com/modules/treemap.js\", \"http://highcharts.github.io/export-csv/export-csv.js\"], function() {\n",
       "            \n",
       "    var options = {\"credits\":{\"enabled\":false},\"exporting\":{\"enabled\":true},\"chart\":{\"animation\":false,\"type\":\"column\",\"renderTo\":\"c1d64a89_e72d_472f_9045_6d59ac765ed5container_chart\"},\"series\":[{\"name\":\"FarePaid\",\"yAxis\":0,\"data\":[[8.05,43],[13.0,42],[7.8958,38],[7.75,34],[26.0,31],[10.5,24],[7.925,18],[7.775,16],[26.55,15],[0.0,15],[7.2292,15],[7.8542,13],[8.6625,13],[7.25,13],[7.225,12],[16.1,9],[9.5,9],[24.15,8],[15.5,8],[56.4958,7],[52.0,7],[14.5,7],[14.4542,7],[69.55,7],[7.05,7],[31.275,7],[46.9,6],[30.0,6],[7.7958,6],[39.6875,6],[21.0,6],[27.9,6],[26.25,6],[27.7208,5],[30.5,5],[73.5,5],[53.1,5],[15.2458,5],[29.125,5],[34.375,4],[11.5,4],[21.075,4],[35.5,4],[12.475,4],[7.7333,4],[110.8833,4],[7.8792,4],[227.525,4],[79.2,4],[31.3875,4],[120.0,4],[27.75,4],[25.4667,4],[7.55,4],[39.0,4],[263.0,4],[151.55,4],[15.85,4],[7.125,4],[13.5,4],[90.0,4],[19.2583,4],[7.65,4],[23.0,4],[52.5542,3],[29.7,3],[86.5,3],[113.275,3],[20.525,3],[79.65,3],[76.7292,3],[14.4583,3],[211.3375,3],[18.75,3],[31.0,3],[11.1333,3],[26.2875,3],[512.3292,3],[135.6333,3],[41.5792,3],[7.4958,3],[12.35,3],[153.4625,3],[18.0,3],[77.9583,3],[33.0,3],[83.1583,3],[108.9,2],[20.575,2],[23.45,2],[66.6,2],[55.9,2],[80.0,2],[51.8625,2],[19.9667,2],[78.2667,2],[133.65,2],[56.9292,2],[29.0,2],[7.8292,2],[65.0,2],[9.0,2],[6.75,2],[9.5875,2],[30.6958,2],[146.5208,2],[18.7875,2],[6.4958,2],[71.0,2],[24.0,2],[23.25,2],[20.25,2],[17.8,2],[19.5,2],[49.5042,2],[27.0,2],[164.8667,2],[57.0,2],[134.5,2],[55.0,2],[9.225,2],[15.7417,2],[36.75,2],[83.475,2],[6.975,2],[9.825,2],[20.2125,2],[10.4625,2],[22.3583,2],[77.2875,2],[39.6,2],[25.9292,2],[14.4,2],[15.9,2],[93.5,2],[57.9792,2],[7.7375,2],[7.0542,2],[11.2417,2],[69.3,2],[78.85,2],[262.375,2],[106.425,2],[82.1708,2],[91.0792,2],[30.0708,2],[247.5208,2],[16.7,2],[9.35,2],[89.1042,2],[37.0042,2],[63.3583,1],[8.5167,1],[15.0,1],[15.1,1],[76.2917,1],[32.5,1],[49.5,1],[28.5,1],[35.0,1],[12.0,1],[38.5,1],[7.875,1],[9.4833,1],[71.2833,1],[12.875,1],[14.0,1],[7.0458,1],[75.25,1],[7.725,1],[16.0,1],[32.3208,1],[7.8,1],[15.0458,1],[6.8583,1],[8.4042,1],[7.7417,1],[21.6792,1],[6.45,1],[7.7875,1],[4.0125,1],[7.3125,1],[15.75,1],[33.5,1],[12.525,1],[55.4417,1],[50.0,1],[6.4375,1],[26.2833,1],[39.4,1],[9.8458,1],[8.85,1],[5.0,1],[9.2167,1],[40.125,1],[50.4958,1],[221.7792,1],[59.4,1],[10.5167,1],[12.65,1],[6.2375,1],[10.1708,1],[13.8625,1],[47.1,1],[15.05,1],[7.6292,1],[13.8583,1],[8.1583,1],[8.0292,1],[22.025,1],[15.55,1],[22.525,1],[25.925,1],[8.1375,1],[81.8583,1],[8.1125,1],[61.9792,1],[34.0208,1],[7.1417,1],[42.4,1],[211.5,1],[12.275,1],[61.175,1],[8.4333,1],[51.4792,1],[7.8875,1],[8.6833,1],[7.5208,1],[34.6542,1],[28.7125,1],[25.5875,1],[7.7292,1],[12.2875,1],[8.6542,1],[8.7125,1],[61.3792,1],[6.95,1],[9.8417,1],[8.3,1],[13.7917,1],[9.475,1],[13.4167,1],[26.3875,1],[8.4583,1],[9.8375,1],[8.3625,1],[14.1083,1],[17.4,1]]}],\"plotOptions\":{\"series\":{\"animation\":false},\"line\":{\"animation\":false},\"column\":{\"animation\":false,\"groupPadding\":0,\"pointPadding\":0,\"borderWidth\":0.5,\"showInLegend\":false},\"bar\":{\"animation\":false},\"pie\":{\"animation\":false},\"scatter\":{\"animation\":false},\"bubble\":{\"animation\":false},\"treemap\":{\"animation\":false}},\"yAxis\":{\"title\":{\"text\":\"<b>Frequency<\\/b>\"}},\"xAxis\":{\"title\":{\"text\":\"<b>Fare Paid for a ticket<\\/b>\"}},\"tooltip\":{\"headerFormat\":\"\",\"pointFormat\":\"Fare Paid \\u00a3{point.x:.2f}, Frequency {point.y}\"},\"title\":{\"text\":\"Fare Paid\"}};\n",
       "    options = JSON.stringify(options);\n",
       "\n",
       "options = JSON.parse(options, function(key, value) {\n",
       "\n",
       "    if (value && (typeof value===\"string\")) {\n",
       "\n",
       "                var check1 = (value.replace(/\\s+/g, '').replace(/\\r?\\n|\\r/g, '').substr(0,8) == \"function\"),\n",
       "            check2 = (value.replace(/\\s+/g, '').replace(/\\r?\\n|\\r/g, '').substr(0,9) == \"(function\");\n",
       "\n",
       "        if (check1) {\n",
       "            var startBody = value.indexOf('{') + 1;\n",
       "            var endBody = value.lastIndexOf('}');\n",
       "            var startArgs = value.indexOf('(') + 1;\n",
       "            var endArgs = value.indexOf(')');\n",
       "\n",
       "            return new Function(value.substring(startArgs, endArgs),\n",
       "                                value.substring(startBody, endBody));\n",
       "        }\n",
       "        if (check2) {\n",
       "            return eval(value);\n",
       "        }\n",
       "\n",
       "\n",
       "    }\n",
       "\n",
       "    return value;\n",
       "});\n",
       "\n",
       "    \n",
       "\n",
       "    var opt = $.extend(true, {}, options);\n",
       "    if (window.opts==undefined) {\n",
       "        window.opts = {};\n",
       "    }\n",
       "    window.opts['c1d64a89_e72d_472f_9045_6d59ac765ed5'] = opt;\n",
       "\n",
       "    console.log('Highcharts/Highstock options accessible as opts[\"c1d64a89_e72d_472f_9045_6d59ac765ed5\"]');\n",
       "    \n",
       "            \n",
       "            window.chart = new Highcharts.Chart(options);\n",
       "            \n",
       "    console.log('Highcharts/Highstock chart accessible as charts[\"c1d64a89_e72d_472f_9045_6d59ac765ed5\"]');\n",
       "    \n",
       "        });\n",
       "    });\n",
       "    </script>"
      ],
      "text/plain": [
       "<IPython.core.display.HTML object>"
      ]
     },
     "execution_count": 29,
     "metadata": {},
     "output_type": "execute_result"
    }
   ],
   "source": [
    "# Fare Paid Distribution. \n",
    "cFarePaid = pd.DataFrame(df['FarePaid'].value_counts())\n",
    "\n",
    "g = hc.Highcharts()\n",
    "\n",
    "g.chart.type = 'column'\n",
    "g.yAxis.title.text = '<b>Frequency</b>'\n",
    "g.xAxis.title.text = '<b>Fare Paid for a ticket</b>'\n",
    "g.tooltip.headerFormat = ''\n",
    "g.tooltip.pointFormat = 'Fare Paid £{point.x:.2f}, Frequency {point.y}'\n",
    "gpo = g.plotOptions.column\n",
    "gpo.groupPadding = 0\n",
    "gpo.pointPadding = 0\n",
    "gpo.borderWidth = 0.5\n",
    "gpo.showInLegend = False\n",
    "\n",
    "g.title.text = 'Fare Paid'\n",
    "g.series = hc.build.series(cFarePaid)\n",
    "\n",
    "g.plot()"
   ]
  },
  {
   "cell_type": "markdown",
   "metadata": {},
   "source": [
    "Now that we have visualised our data we can run the appropriate tests to determine how our variables impact Survival."
   ]
  },
  {
   "cell_type": "markdown",
   "metadata": {},
   "source": [
    "***"
   ]
  },
  {
   "cell_type": "markdown",
   "metadata": {},
   "source": [
    "## Choosing a statistical test\n",
    "We'll explore statistical significance/association and strength of association in the order the variables are shown below."
   ]
  },
  {
   "cell_type": "code",
   "execution_count": 30,
   "metadata": {
    "collapsed": true
   },
   "outputs": [],
   "source": [
    "# Since the below table is created using a spreadsheet then converted to HTML\n",
    "# add in align=\"left\" next to <table"
   ]
  },
  {
   "cell_type": "markdown",
   "metadata": {},
   "source": [
    "<table align=\"left\" dir=\"ltr\" style=\"float: left; width: 653px;\" border=\"1\" cellspacing=\"0\" cellpadding=\"0\"><colgroup><col width=\"145\" /><col width=\"153\" /><col width=\"164\" /><col width=\"168\" /></colgroup>\n",
    "<tbody>\n",
    "<tr>\n",
    "<td style=\"text-align: left; width: 188px;\" data-sheets-value=\"{&quot;1&quot;:2,&quot;2&quot;:&quot;Independent Variable&quot;}\"><strong>Independent Variable</strong></td>\n",
    "<td style=\"text-align: left; width: 172px;\" data-sheets-value=\"{&quot;1&quot;:2,&quot;2&quot;:&quot;Dependent Variable&quot;}\"><strong>Dependent Variable</strong></td>\n",
    "<td style=\"text-align: left; width: 64px;\" data-sheets-value=\"{&quot;1&quot;:2,&quot;2&quot;:&quot;Test&quot;}\"><strong>Test</strong></td>\n",
    "<td style=\"text-align: left; width: 228px;\" data-sheets-value=\"{&quot;1&quot;:2,&quot;2&quot;:&quot;Confirming Strength of Test&quot;}\"><strong>Confirming Strength of Test</strong></td>\n",
    "</tr>\n",
    "<tr>\n",
    "<td style=\"text-align: left; width: 188px;\" data-sheets-value=\"{&quot;1&quot;:2,&quot;2&quot;:&quot;Gender (Categorical)&quot;}\">Gender (Categorical)</td>\n",
    "<td style=\"text-align: left; width: 172px;\" data-sheets-value=\"{&quot;1&quot;:2,&quot;2&quot;:&quot;Survival (Categorical)&quot;}\">Survival (Categorical)</td>\n",
    "<td style=\"text-align: left; width: 64px;\" data-sheets-value=\"{&quot;1&quot;:2,&quot;2&quot;:&quot;Chi-square&quot;}\">Chi-square</td>\n",
    "<td style=\"text-align: left; width: 228px;\" data-sheets-value=\"{&quot;1&quot;:2,&quot;2&quot;:&quot;Cramer's V&quot;}\">Cramer's V</td>\n",
    "</tr>\n",
    "<tr>\n",
    "<td style=\"text-align: left; width: 188px;\" data-sheets-value=\"{&quot;1&quot;:2,&quot;2&quot;:&quot;Age Groups (Interval)&quot;}\">Age Groups (Interval)</td>\n",
    "<td style=\"text-align: left; width: 172px;\" data-sheets-value=\"{&quot;1&quot;:2,&quot;2&quot;:&quot;Survival (Categorical)&quot;}\">Survival (Categorical)</td>\n",
    "<td style=\"text-align: left; width: 64px;\" data-sheets-value=\"{&quot;1&quot;:2,&quot;2&quot;:&quot;Chi-square&quot;}\">Chi-square</td>\n",
    "<td style=\"text-align: left; width: 228px;\" data-sheets-value=\"{&quot;1&quot;:2,&quot;2&quot;:&quot;Cramer's V&quot;}\">Cramer's V</td>\n",
    "</tr>\n",
    "<tr>\n",
    "<td style=\"text-align: left; width: 188px;\" data-sheets-value=\"{&quot;1&quot;:2,&quot;2&quot;:&quot;Ports (Categorical)&quot;}\">Ports (Categorical)</td>\n",
    "<td style=\"text-align: left; width: 172px;\" data-sheets-value=\"{&quot;1&quot;:2,&quot;2&quot;:&quot;Survival (Categorical)&quot;}\">Survival (Categorical)</td>\n",
    "<td style=\"text-align: left; width: 64px;\" data-sheets-value=\"{&quot;1&quot;:2,&quot;2&quot;:&quot;Chi-square&quot;}\">Chi-square</td>\n",
    "<td style=\"text-align: left; width: 228px;\" data-sheets-value=\"{&quot;1&quot;:2,&quot;2&quot;:&quot;Cramer's V&quot;}\">Cramer's V</td>\n",
    "</tr>\n",
    "<tr>\n",
    "<td style=\"text-align: left; width: 188px;\" data-sheets-value=\"{&quot;1&quot;:2,&quot;2&quot;:&quot;Class (Ordinal)&quot;}\">Class (Ordinal)</td>\n",
    "<td style=\"text-align: left; width: 172px;\" data-sheets-value=\"{&quot;1&quot;:2,&quot;2&quot;:&quot;Survival (Categorical)&quot;}\">Survival (Categorical)</td>\n",
    "<td style=\"text-align: left; width: 64px;\" data-sheets-value=\"{&quot;1&quot;:2,&quot;2&quot;:&quot;Chi-square&quot;}\">Chi-square</td>\n",
    "<td style=\"text-align: left; width: 228px;\" data-sheets-value=\"{&quot;1&quot;:2,&quot;2&quot;:&quot;Cramer's V&quot;}\">Cramer's V</td>\n",
    "</tr>\n",
    "<tr>\n",
    "<td style=\"text-align: left; width: 188px;\" data-sheets-value=\"{&quot;1&quot;:2,&quot;2&quot;:&quot;Fare Paid (Normal)&quot;}\">Fare Paid (Normal)</td>\n",
    "<td style=\"text-align: left; width: 172px;\" data-sheets-value=\"{&quot;1&quot;:2,&quot;2&quot;:&quot;Survival (Categorical)&quot;}\">Survival (Categorical)</td>\n",
    "<td style=\"text-align: left; width: 64px;\" data-sheets-value=\"{&quot;1&quot;:2,&quot;2&quot;:&quot;Logistic Regression&quot;}\">Logistic Regression</td>\n",
    "<td style=\"text-align: left; width: 228px;\" data-sheets-value=\"{&quot;1&quot;:2,&quot;2&quot;:&quot;ROC AUC&quot;}\">F1 Score</td>\n",
    "</tr>\n",
    "</tbody>\n",
    "</table>"
   ]
  },
  {
   "cell_type": "markdown",
   "metadata": {},
   "source": [
    "I refer to NYU's [guide](https://guides.nyu.edu/quant/choose_test_1DV) to choosing a statistical test for 1 dependent variable to confirm which statistical tests to use. As well as my Udacity Reviewer's suggestions."
   ]
  },
  {
   "cell_type": "markdown",
   "metadata": {},
   "source": [
    "***"
   ]
  },
  {
   "cell_type": "markdown",
   "metadata": {},
   "source": [
    "### Testing Gender\n",
    "Our hypotheses (expectations) are as follows:\n",
    "\n",
    "$H_{0}$: Gender and Survival are independent. That is Gender has no affect on Survival. Our null hypothesis.\n",
    "\n",
    "$H_{a}$: Gender and Survival are not independent. That is Gender has an affect on Surival. Alternate hypothesis.\n",
    "\n",
    "Using our Chi-square test we have the following assumptions:\n",
    "- Significance level = 0.05 = p-value. This means we will be 95% sure of the result we attain.\n",
    "- Degrees of freedom = 1. Since we have 2 parameters (female or male), we have <br>Degrees of freedom = Parameters - 1"
   ]
  },
  {
   "cell_type": "code",
   "execution_count": 31,
   "metadata": {
    "scrolled": true
   },
   "outputs": [
    {
     "data": {
      "text/html": [
       "<div>\n",
       "<style>\n",
       "    .dataframe thead tr:only-child th {\n",
       "        text-align: right;\n",
       "    }\n",
       "\n",
       "    .dataframe thead th {\n",
       "        text-align: left;\n",
       "    }\n",
       "\n",
       "    .dataframe tbody tr th {\n",
       "        vertical-align: top;\n",
       "    }\n",
       "</style>\n",
       "<table border=\"1\" class=\"dataframe\">\n",
       "  <thead>\n",
       "    <tr style=\"text-align: right;\">\n",
       "      <th>Survival</th>\n",
       "      <th>Died</th>\n",
       "      <th>Survived</th>\n",
       "    </tr>\n",
       "    <tr>\n",
       "      <th>Gender</th>\n",
       "      <th></th>\n",
       "      <th></th>\n",
       "    </tr>\n",
       "  </thead>\n",
       "  <tbody>\n",
       "    <tr>\n",
       "      <th>Female</th>\n",
       "      <td>81</td>\n",
       "      <td>233</td>\n",
       "    </tr>\n",
       "    <tr>\n",
       "      <th>Male</th>\n",
       "      <td>468</td>\n",
       "      <td>109</td>\n",
       "    </tr>\n",
       "  </tbody>\n",
       "</table>\n",
       "</div>"
      ],
      "text/plain": [
       "Survival  Died  Survived\n",
       "Gender                  \n",
       "Female      81       233\n",
       "Male       468       109"
      ]
     },
     "execution_count": 31,
     "metadata": {},
     "output_type": "execute_result"
    }
   ],
   "source": [
    "# Show our contingency table aka crosstabulation\n",
    "# The first variable is the one that is totaled\n",
    "# ctGender = df[['Gender','Survival']].groupby(['Gender','Survival']).size().unstack(1)\n",
    "# both methods work then output (rows,cols)\n",
    "ctGender = pd.crosstab(df.Gender,df.Survival)\n",
    "ctGender"
   ]
  },
  {
   "cell_type": "markdown",
   "metadata": {},
   "source": [
    "The result becomes clearer once visualised."
   ]
  },
  {
   "cell_type": "code",
   "execution_count": 32,
   "metadata": {},
   "outputs": [
    {
     "data": {
      "text/html": [
       "<div id=\"2ec31d74_28f6_488e_a98e_2abae4a7cbe5\"><div id=\"2ec31d74_28f6_488e_a98e_2abae4a7cbe5container_chart\"></div></div><script>\n",
       "    // the Jupyter notebook loads jquery.min.js  and require.js and at the top of the page\n",
       "    // then to make jquery available inside a require module\n",
       "    // the trick is http://www.manuel-strehl.de/dev/load_jquery_before_requirejs.en.html\n",
       "    define('jquery', [], function() {\n",
       "        return jQuery;\n",
       "    });\n",
       "\n",
       "    require([\"jquery\", \"http://code.highcharts.com/stock/highstock.js\", \"http://d3js.org/d3.v3.min.js\"], function() {\n",
       "        require([\"https://cdn.datatables.net/1.10.10/js/jquery.dataTables.min.js\", \"http://code.highcharts.com/stock/highcharts-more.js\", \"http://code.highcharts.com/modules/drilldown.js\", \"http://code.highcharts.com/modules/exporting.js\", \"http://code.highcharts.com/modules/heatmap.js\", \"http://code.highcharts.com/modules/treemap.js\", \"http://highcharts.github.io/export-csv/export-csv.js\"], function() {\n",
       "            \n",
       "    var options = {\"credits\":{\"enabled\":false},\"exporting\":{\"enabled\":true},\"chart\":{\"animation\":false,\"type\":\"column\",\"renderTo\":\"2ec31d74_28f6_488e_a98e_2abae4a7cbe5container_chart\"},\"series\":[{\"name\":\"Died\",\"yAxis\":0,\"data\":[[\"Female\",81],[\"Male\",468]],\"color\":\"black\"},{\"name\":\"Survived\",\"yAxis\":0,\"data\":[[\"Female\",233],[\"Male\",109]],\"color\":\"green\"}],\"plotOptions\":{\"series\":{\"animation\":false},\"line\":{\"animation\":false},\"column\":{\"animation\":false,\"stacking\":\"percent\",\"showInLegend\":true},\"bar\":{\"animation\":false},\"pie\":{\"animation\":false},\"scatter\":{\"animation\":false},\"bubble\":{\"animation\":false},\"treemap\":{\"animation\":false}},\"yAxis\":{\"title\":{\"text\":\"<b>Percentage<\\/b>\"},\"labels\":{\"format\":\"{value}%\"}},\"xAxis\":{\"title\":{\"text\":\"<b>Gender<\\/b>\"},\"categories\":[\"Female\",\"Male\"]},\"tooltip\":{\"headerFormat\":\"\",\"pointFormat\":\"<span style=\\\"color:{series.color}\\\">{series.name}<\\/span>: <b>{point.y}<\\/b> ({point.percentage:.1f}%)<br\\/>\",\"shared\":\"True\"},\"title\":{\"text\":\"Survival by Gender\"}};\n",
       "    options = JSON.stringify(options);\n",
       "\n",
       "options = JSON.parse(options, function(key, value) {\n",
       "\n",
       "    if (value && (typeof value===\"string\")) {\n",
       "\n",
       "                var check1 = (value.replace(/\\s+/g, '').replace(/\\r?\\n|\\r/g, '').substr(0,8) == \"function\"),\n",
       "            check2 = (value.replace(/\\s+/g, '').replace(/\\r?\\n|\\r/g, '').substr(0,9) == \"(function\");\n",
       "\n",
       "        if (check1) {\n",
       "            var startBody = value.indexOf('{') + 1;\n",
       "            var endBody = value.lastIndexOf('}');\n",
       "            var startArgs = value.indexOf('(') + 1;\n",
       "            var endArgs = value.indexOf(')');\n",
       "\n",
       "            return new Function(value.substring(startArgs, endArgs),\n",
       "                                value.substring(startBody, endBody));\n",
       "        }\n",
       "        if (check2) {\n",
       "            return eval(value);\n",
       "        }\n",
       "\n",
       "\n",
       "    }\n",
       "\n",
       "    return value;\n",
       "});\n",
       "\n",
       "    \n",
       "\n",
       "    var opt = $.extend(true, {}, options);\n",
       "    if (window.opts==undefined) {\n",
       "        window.opts = {};\n",
       "    }\n",
       "    window.opts['2ec31d74_28f6_488e_a98e_2abae4a7cbe5'] = opt;\n",
       "\n",
       "    console.log('Highcharts/Highstock options accessible as opts[\"2ec31d74_28f6_488e_a98e_2abae4a7cbe5\"]');\n",
       "    \n",
       "            \n",
       "            window.chart = new Highcharts.Chart(options);\n",
       "            \n",
       "    console.log('Highcharts/Highstock chart accessible as charts[\"2ec31d74_28f6_488e_a98e_2abae4a7cbe5\"]');\n",
       "    \n",
       "        });\n",
       "    });\n",
       "    </script>"
      ],
      "text/plain": [
       "<IPython.core.display.HTML object>"
      ]
     },
     "execution_count": 32,
     "metadata": {},
     "output_type": "execute_result"
    }
   ],
   "source": [
    "# Survival by Gender visualised.\n",
    "g = hc.Highcharts()\n",
    "\n",
    "g.chart.type = 'column'\n",
    "g.yAxis.title.text = '<b>Percentage</b>'\n",
    "g.yAxis.labels.format = '{value}%'\n",
    "g.xAxis.title.text = '<b>Gender</b>'\n",
    "g.xAxis.categories = list(ctGender.index)\n",
    "# g.chart.height = 400\n",
    "# g.tooltip.headerFormat = '<b>{series.index}</b><br>'\n",
    "g.tooltip.headerFormat = ''\n",
    "# g.tooltip.pointFormat = 'Ticket Number {point.x}, Frequency {point.y}'\n",
    "g.tooltip.pointFormat = '<span style=\"color:{series.color}\">{series.name}</span>: <b>{point.y}</b> ({point.percentage:.1f}%)<br/>'\n",
    "g.tooltip.shared = 'True'\n",
    "gpo = g.plotOptions.column\n",
    "gpo.stacking = 'percent'\n",
    "gpo.showInLegend = True\n",
    "# gpo.dataLabels.format = '{point.name}: {point.percentage:.1f}%'\n",
    "\n",
    "\n",
    "g.title.text = 'Survival by Gender'\n",
    "g.series = hc.build.series(ctGender, color={'Died': 'black', 'Survived': 'green'})\n",
    "\n",
    "\n",
    "g.plot()"
   ]
  },
  {
   "cell_type": "markdown",
   "metadata": {},
   "source": [
    "Here we find ~74% of women survived while ~19% of men survived."
   ]
  },
  {
   "cell_type": "code",
   "execution_count": 33,
   "metadata": {
    "collapsed": true,
    "scrolled": false
   },
   "outputs": [],
   "source": [
    "# Use Pearson's chi-squared test\n",
    "chi2,p,dof,ex = scipy.stats.chi2_contingency(ctGender)\n",
    "results = [['Item','Value'],\n",
    "           ['Chi-Square Test',chi2],\n",
    "           ['p-value', p],\n",
    "           ['Degrees of freedom',dof]]\n",
    "# setting up a nicer looking table.\n",
    "tbl.make_table(results)\n",
    "tbl.set_row_style(0, bold=True)\n",
    "tbl.set_row_style(2,float_format='%0.3E');"
   ]
  },
  {
   "cell_type": "code",
   "execution_count": 34,
   "metadata": {},
   "outputs": [
    {
     "data": {
      "text/html": [
       "<table border=\"1\" cellpadding=\"3\" cellspacing=\"0\"  style=\"border:black; border-collapse:collapse;\"><tr><td  style=\"border-left: 1px solid;border-right: 1px solid;border-top: 1px solid;border-bottom: 1px solid;\"><b>Item</b></td><td  style=\"border-left: 1px solid;border-right: 1px solid;border-top: 1px solid;border-bottom: 1px solid;\"><b>Value</b></td></tr><tr><td  style=\"border-left: 1px solid;border-right: 1px solid;border-top: 1px solid;border-bottom: 1px solid;\">Chi-Square&nbsp;Test</td><td  style=\"border-left: 1px solid;border-right: 1px solid;border-top: 1px solid;border-bottom: 1px solid;\">260.7170</td></tr><tr><td  style=\"border-left: 1px solid;border-right: 1px solid;border-top: 1px solid;border-bottom: 1px solid;\">p-value</td><td  style=\"border-left: 1px solid;border-right: 1px solid;border-top: 1px solid;border-bottom: 1px solid;\">1.197E-58</td></tr><tr><td  style=\"border-left: 1px solid;border-right: 1px solid;border-top: 1px solid;border-bottom: 1px solid;\">Degrees&nbsp;of&nbsp;freedom</td><td  style=\"border-left: 1px solid;border-right: 1px solid;border-top: 1px solid;border-bottom: 1px solid;\">1</td></tr></table>"
      ],
      "text/plain": [
       "<ipy_table.ipy_table.IpyTable at 0x27034af7470>"
      ]
     },
     "execution_count": 34,
     "metadata": {},
     "output_type": "execute_result"
    }
   ],
   "source": [
    "tbl.render()"
   ]
  },
  {
   "cell_type": "markdown",
   "metadata": {},
   "source": [
    "We check our Chi-squared distribution and find if our chi2 ($\\chi^{2}$) statistic exceeds our critical value. From the table below we see our critical value is\n",
    "<br>p-value = 0.05\n",
    "<br>degrees of freedom = 1\n",
    "<br>critical value = 3.841\n",
    "\n",
    "I have also highlighted the critical values we will be using for our other parameters."
   ]
  },
  {
   "cell_type": "markdown",
   "metadata": {},
   "source": [
    "### Chi-squared table\n",
    "<table align=\"left\" dir=\"ltr\" style=\"width: 398px;\" border=\"1\" cellspacing=\"0\" cellpadding=\"0\"><colgroup><col width=\"100\" /><col width=\"100\" /><col width=\"100\" /><col width=\"100\" /><col width=\"100\" /><col width=\"100\" /></colgroup>\n",
    "<tbody>\n",
    "<tr style=\"height: 21px;\">\n",
    "<td style=\"text-align: left; width: 10px; height: 21px;\" data-sheets-value=\"{&quot;1&quot;:2,&quot;2&quot;:&quot;DF / P&quot;}\"><strong>DF / P</strong></td>\n",
    "<td style=\"text-align: left; width: 27px; height: 21px;\" data-sheets-value=\"{&quot;1&quot;:3,&quot;3&quot;:0.1}\"><strong>0.1</strong></td>\n",
    "<td style=\"text-align: left; width: 101px; height: 21px;\" data-sheets-value=\"{&quot;1&quot;:3,&quot;3&quot;:0.05}\"><strong>0.05</strong></td>\n",
    "<td style=\"text-align: left; width: 95px; height: 21px;\" data-sheets-value=\"{&quot;1&quot;:3,&quot;3&quot;:0.025}\"><strong>0.025</strong></td>\n",
    "<td style=\"text-align: left; width: 70px; height: 21px;\" data-sheets-value=\"{&quot;1&quot;:3,&quot;3&quot;:0.02}\"><strong>0.02</strong></td>\n",
    "<td style=\"text-align: left; width: 94px; height: 21px;\" data-sheets-value=\"{&quot;1&quot;:3,&quot;3&quot;:0.01}\"><strong>0.01</strong></td>\n",
    "</tr>\n",
    "<tr style=\"height: 21px;\">\n",
    "<td style=\"text-align: left; width: 10px; height: 21px;\" data-sheets-value=\"{&quot;1&quot;:3,&quot;3&quot;:1}\"><strong>1</strong></td>\n",
    "<td style=\"text-align: left; width: 27px; height: 21px;\" data-sheets-value=\"{&quot;1&quot;:3,&quot;3&quot;:2.706}\">2.706</td>\n",
    "<td style=\"width: 101px; height: 21px; background-color: #f3f94b; text-align: left;\" data-sheets-value=\"{&quot;1&quot;:3,&quot;3&quot;:3.841}\">3.841</td>\n",
    "<td style=\"text-align: left; width: 95px; height: 21px;\" data-sheets-value=\"{&quot;1&quot;:3,&quot;3&quot;:5.024}\">5.024</td>\n",
    "<td style=\"text-align: left; width: 70px; height: 21px;\" data-sheets-value=\"{&quot;1&quot;:3,&quot;3&quot;:5.412}\">5.412</td>\n",
    "<td style=\"text-align: left; width: 94px; height: 21px;\" data-sheets-value=\"{&quot;1&quot;:3,&quot;3&quot;:6.635}\">6.635</td>\n",
    "</tr>\n",
    "<tr style=\"height: 21px;\">\n",
    "<td style=\"text-align: left; width: 10px; height: 21px;\" data-sheets-value=\"{&quot;1&quot;:3,&quot;3&quot;:2}\"><strong>2</strong></td>\n",
    "<td style=\"text-align: left; width: 27px; height: 21px;\" data-sheets-value=\"{&quot;1&quot;:3,&quot;3&quot;:4.605}\">4.605</td>\n",
    "<td style=\"width: 101px; height: 21px; background-color: #f3f94b; text-align: left;\" data-sheets-value=\"{&quot;1&quot;:3,&quot;3&quot;:5.991}\">5.991</td>\n",
    "<td style=\"text-align: left; width: 95px; height: 21px;\" data-sheets-value=\"{&quot;1&quot;:3,&quot;3&quot;:7.378}\">7.378</td>\n",
    "<td style=\"text-align: left; width: 70px; height: 21px;\" data-sheets-value=\"{&quot;1&quot;:3,&quot;3&quot;:7.824}\">7.824</td>\n",
    "<td style=\"text-align: left; width: 94px; height: 21px;\" data-sheets-value=\"{&quot;1&quot;:3,&quot;3&quot;:9.21}\">9.21</td>\n",
    "</tr>\n",
    "<tr style=\"height: 21px;\">\n",
    "<td style=\"text-align: left; width: 10px; height: 21px;\" data-sheets-value=\"{&quot;1&quot;:3,&quot;3&quot;:3}\"><strong>3</strong></td>\n",
    "<td style=\"text-align: left; width: 27px; height: 21px;\" data-sheets-value=\"{&quot;1&quot;:3,&quot;3&quot;:6.251}\">6.251</td>\n",
    "<td style=\"width: 101px; height: 21px; background-color: #f3f94b; text-align: left;\" data-sheets-value=\"{&quot;1&quot;:3,&quot;3&quot;:7.815}\">7.815</td>\n",
    "<td style=\"text-align: left; width: 95px; height: 21px;\" data-sheets-value=\"{&quot;1&quot;:3,&quot;3&quot;:9.348}\">9.348</td>\n",
    "<td style=\"text-align: left; width: 70px; height: 21px;\" data-sheets-value=\"{&quot;1&quot;:3,&quot;3&quot;:9.837}\">9.837</td>\n",
    "<td style=\"text-align: left; width: 94px; height: 21px;\" data-sheets-value=\"{&quot;1&quot;:3,&quot;3&quot;:11.345}\">11.345</td>\n",
    "</tr>\n",
    "<tr style=\"height: 21px;\">\n",
    "<td style=\"text-align: left; width: 10px; height: 21px;\" data-sheets-value=\"{&quot;1&quot;:3,&quot;3&quot;:4}\"><strong>4</strong></td>\n",
    "<td style=\"text-align: left; width: 27px; height: 21px;\" data-sheets-value=\"{&quot;1&quot;:3,&quot;3&quot;:7.779}\">7.779</td>\n",
    "<td style=\"text-align: left; width: 101px; height: 21px;\" data-sheets-value=\"{&quot;1&quot;:3,&quot;3&quot;:9.488}\">9.488</td>\n",
    "<td style=\"text-align: left; width: 95px; height: 21px;\" data-sheets-value=\"{&quot;1&quot;:3,&quot;3&quot;:11.143}\">11.143</td>\n",
    "<td style=\"text-align: left; width: 70px; height: 21px;\" data-sheets-value=\"{&quot;1&quot;:3,&quot;3&quot;:11.668}\">11.668</td>\n",
    "<td style=\"text-align: left; width: 94px; height: 21px;\" data-sheets-value=\"{&quot;1&quot;:3,&quot;3&quot;:13.277}\">13.277</td>\n",
    "</tr>\n",
    "<tr style=\"height: 21px;\">\n",
    "<td style=\"text-align: left; width: 10px; height: 21px;\" data-sheets-value=\"{&quot;1&quot;:3,&quot;3&quot;:5}\"><strong>5</strong></td>\n",
    "<td style=\"text-align: left; width: 27px; height: 21px;\" data-sheets-value=\"{&quot;1&quot;:3,&quot;3&quot;:9.236}\">9.236</td>\n",
    "<td style=\"text-align: left; width: 101px; height: 21px;\" data-sheets-value=\"{&quot;1&quot;:3,&quot;3&quot;:11.07}\">11.07</td>\n",
    "<td style=\"text-align: left; width: 95px; height: 21px;\" data-sheets-value=\"{&quot;1&quot;:3,&quot;3&quot;:12.833}\">12.833</td>\n",
    "<td style=\"text-align: left; width: 70px; height: 21px;\" data-sheets-value=\"{&quot;1&quot;:3,&quot;3&quot;:13.388}\">13.388</td>\n",
    "<td style=\"text-align: left; width: 94px; height: 21px;\" data-sheets-value=\"{&quot;1&quot;:3,&quot;3&quot;:15.086}\">15.086</td>\n",
    "</tr>\n",
    "<tr style=\"height: 21px;\">\n",
    "<td style=\"text-align: left; width: 10px; height: 21px;\" data-sheets-value=\"{&quot;1&quot;:3,&quot;3&quot;:6}\"><strong>6</strong></td>\n",
    "<td style=\"text-align: left; width: 27px; height: 21px;\" data-sheets-value=\"{&quot;1&quot;:3,&quot;3&quot;:10.645}\">10.645</td>\n",
    "<td style=\"text-align: left; width: 101px; height: 21px;\" data-sheets-value=\"{&quot;1&quot;:3,&quot;3&quot;:12.592}\">12.592</td>\n",
    "<td style=\"text-align: left; width: 95px; height: 21px;\" data-sheets-value=\"{&quot;1&quot;:3,&quot;3&quot;:14.449}\">14.449</td>\n",
    "<td style=\"text-align: left; width: 70px; height: 21px;\" data-sheets-value=\"{&quot;1&quot;:3,&quot;3&quot;:15.033}\">15.033</td>\n",
    "<td style=\"text-align: left; width: 94px; height: 21px;\" data-sheets-value=\"{&quot;1&quot;:3,&quot;3&quot;:16.812}\">16.812</td>\n",
    "</tr>\n",
    "<tr style=\"height: 21px;\">\n",
    "<td style=\"text-align: left; width: 10px; height: 21px;\" data-sheets-value=\"{&quot;1&quot;:3,&quot;3&quot;:7}\"><strong>7</strong></td>\n",
    "<td style=\"text-align: left; width: 27px; height: 21px;\" data-sheets-value=\"{&quot;1&quot;:3,&quot;3&quot;:12.017}\">12.017</td>\n",
    "<td style=\"width: 101px; height: 21px; background-color: #f3f94b; text-align: left;\" data-sheets-value=\"{&quot;1&quot;:3,&quot;3&quot;:14.067}\">14.067</td>\n",
    "<td style=\"text-align: left; width: 95px; height: 21px;\" data-sheets-value=\"{&quot;1&quot;:3,&quot;3&quot;:16.013}\">16.013</td>\n",
    "<td style=\"text-align: left; width: 70px; height: 21px;\" data-sheets-value=\"{&quot;1&quot;:3,&quot;3&quot;:16.622}\">16.622</td>\n",
    "<td style=\"text-align: left; width: 94px; height: 21px;\" data-sheets-value=\"{&quot;1&quot;:3,&quot;3&quot;:18.475}\">18.475</td>\n",
    "</tr>\n",
    "</tbody>\n",
    "</table>"
   ]
  },
  {
   "cell_type": "markdown",
   "metadata": {},
   "source": [
    "Our result $\\chi^{2}\\approx260 > 3.841$\n",
    "\n",
    "With a p-value $< 0.05$\n",
    "We have a statistically significant value here. Thus we reject $H_{0}$ in favour of $H_{a}$, that Gender affects Survival.\n",
    "\n",
    "We'll now use Cramer's V to check the strength of this association with reference to the table below."
   ]
  },
  {
   "cell_type": "markdown",
   "metadata": {},
   "source": [
    "### Cramer's V table\n",
    "<table dir=\"ltr\" style=\"width: 565px; float: left;\" border=\"1\" cellspacing=\"0\" cellpadding=\"0\"><colgroup><col width=\"60\" /><col width=\"65\" /><col width=\"169\" /></colgroup>\n",
    "<tbody>\n",
    "<tr style=\"height: 41px;\">\n",
    "<td style=\"width: 22px; height: 41px; text-align: left;\" data-sheets-value=\"{&quot;1&quot;:2,&quot;2&quot;:&quot;LEVEL OF ASSOCIATION&quot;}\"><strong>Cramer's V \n",
    "Result</strong></td>\n",
    "<td style=\"width: 22px; height: 41px; text-align: left;\" data-sheets-value=\"{&quot;1&quot;:2,&quot;2&quot;:&quot;Verbal Description&quot;}\"><strong>Verbal Description</strong></td>\n",
    "<td style=\"width: 22px; height: 41px; text-align: left;\" data-sheets-value=\"{&quot;1&quot;:2,&quot;2&quot;:&quot;COMMENTS&quot;}\"><strong>Comments</strong></td>\n",
    "</tr>\n",
    "<tr style=\"height: 41px;\">\n",
    "<td style=\"width: 22px; height: 41px; text-align: left;\" data-sheets-value=\"{&quot;1&quot;:3,&quot;3&quot;:0}\">0</td>\n",
    "<td style=\"width: 22px; height: 41px; text-align: left;\" data-sheets-value=\"{&quot;1&quot;:2,&quot;2&quot;:&quot;No Relationship&quot;}\">No Relationship</td>\n",
    "<td style=\"width: 22px; height: 41px; text-align: left;\" data-sheets-value=\"{&quot;1&quot;:2,&quot;2&quot;:&quot;Knowing the independent variable does not help in predicting the dependent variable.&quot;}\">\n",
    "<div>\n",
    "<div>Knowing the independent variable does not help in predicting the dependent variable.</div>\n",
    "</div>\n",
    "</td>\n",
    "</tr>\n",
    "<tr style=\"height: 21px;\">\n",
    "<td style=\"width: 22px; height: 41px; text-align: left;\" data-sheets-value=\"{&quot;1&quot;:2,&quot;2&quot;:&quot;.00 to .15&quot;}\">.00 to .15</td>\n",
    "<td style=\"width: 22px; height: 41px; text-align: left;\" data-sheets-value=\"{&quot;1&quot;:2,&quot;2&quot;:&quot;Very Weak&quot;}\">Very Weak</td>\n",
    "<td style=\"width: 22px; height: 41px; text-align: left;\" data-sheets-value=\"{&quot;1&quot;:2,&quot;2&quot;:&quot;Not generally acceptable&quot;}\">Not generally acceptable</td>\n",
    "</tr>\n",
    "<tr style=\"height: 21px;\">\n",
    "<td style=\"width: 22px; height: 41px; text-align: left;\" data-sheets-value=\"{&quot;1&quot;:2,&quot;2&quot;:&quot;.15 to .20&quot;}\">.15 to .20</td>\n",
    "<td style=\"width: 22px; height: 41px; text-align: left;\" data-sheets-value=\"{&quot;1&quot;:2,&quot;2&quot;:&quot;Weak&quot;}\">Weak</td>\n",
    "<td style=\"width: 22px; height: 41px; text-align: left;\" data-sheets-value=\"{&quot;1&quot;:2,&quot;2&quot;:&quot;Minimally acceptable&quot;}\">Minimally acceptable</td>\n",
    "</tr>\n",
    "<tr style=\"height: 21px;\">\n",
    "<td style=\"width: 22px; height: 41px; text-align: left;\" data-sheets-value=\"{&quot;1&quot;:2,&quot;2&quot;:&quot;.20 to .25&quot;}\">.20 to .25</td>\n",
    "<td style=\"width: 22px; height: 41px; text-align: left;\" data-sheets-value=\"{&quot;1&quot;:2,&quot;2&quot;:&quot;Moderate&quot;}\">Moderate</td>\n",
    "<td style=\"width: 22px; height: 41px; text-align: left;\" data-sheets-value=\"{&quot;1&quot;:2,&quot;2&quot;:&quot;Acceptable&quot;}\">Acceptable</td>\n",
    "</tr>\n",
    "<tr style=\"height: 21px;\">\n",
    "<td style=\"width: 22px; height: 41px; text-align: left;\" data-sheets-value=\"{&quot;1&quot;:2,&quot;2&quot;:&quot;.25 to .30&quot;}\">.25 to .30</td>\n",
    "<td style=\"width: 22px; height: 41px; text-align: left;\" data-sheets-value=\"{&quot;1&quot;:2,&quot;2&quot;:&quot;Moderately Strong&quot;}\">Moderately Strong</td>\n",
    "<td style=\"width: 22px; height: 41px; text-align: left;\" data-sheets-value=\"{&quot;1&quot;:2,&quot;2&quot;:&quot;Desirable&quot;}\">Desirable</td>\n",
    "</tr>\n",
    "<tr style=\"height: 21px;\">\n",
    "<td style=\"width: 22px; height: 41px; text-align: left;\" data-sheets-value=\"{&quot;1&quot;:2,&quot;2&quot;:&quot;.30 to .35&quot;}\">.30 to .35</td>\n",
    "<td style=\"width: 22px; height: 41px; text-align: left;\" data-sheets-value=\"{&quot;1&quot;:2,&quot;2&quot;:&quot;Strong&quot;}\">Strong</td>\n",
    "<td style=\"width: 22px; height: 41px; text-align: left;\" data-sheets-value=\"{&quot;1&quot;:2,&quot;2&quot;:&quot;Very Desirable&quot;}\">Very Desirable</td>\n",
    "</tr>\n",
    "<tr style=\"height: 21px;\">\n",
    "<td style=\"width: 22px; height: 41px; text-align: left;\" data-sheets-value=\"{&quot;1&quot;:2,&quot;2&quot;:&quot;.35 to .40&quot;}\">.35 to .40</td>\n",
    "<td style=\"width: 22px; height: 41px; text-align: left;\" data-sheets-value=\"{&quot;1&quot;:2,&quot;2&quot;:&quot;Very Strong&quot;}\">Very Strong</td>\n",
    "<td style=\"width: 22px; height: 41px; text-align: left;\" data-sheets-value=\"{&quot;1&quot;:2,&quot;2&quot;:&quot;Extremely Desirable&quot;}\">Extremely Desirable</td>\n",
    "</tr>\n",
    "<tr style=\"height: 41px;\">\n",
    "<td style=\"width: 22px; height: 41px; text-align: left;\" data-sheets-value=\"{&quot;1&quot;:2,&quot;2&quot;:&quot;.40 to .50&quot;}\">.40 to .50</td>\n",
    "<td style=\"width: 22px; height: 41px; text-align: left;\" data-sheets-value=\"{&quot;1&quot;:2,&quot;2&quot;:&quot;Worrisomely Strong&quot;}\">Worrisomely Strong</td>\n",
    "<td style=\"width: 22px; height: 41px; text-align: left;\" data-sheets-value=\"{&quot;1&quot;:2,&quot;2&quot;:&quot;Either an extremely good relationship or the two variables are measuring the same concept&quot;}\">\n",
    "<div>\n",
    "<div>Either an extremely good relationship or the two variables are measuring the same concept</div>\n",
    "</div>\n",
    "</td>\n",
    "</tr>\n",
    "<tr style=\"height: 21px;\">\n",
    "<td style=\"width: 22px; height: 41px; text-align: left;\" data-sheets-value=\"{&quot;1&quot;:2,&quot;2&quot;:&quot;.50 to .99&quot;}\">.50 to .99</td>\n",
    "<td style=\"width: 22px; height: 41px; text-align: left;\" data-sheets-value=\"{&quot;1&quot;:2,&quot;2&quot;:&quot;Redundant&quot;}\">Redundant</td>\n",
    "<td style=\"width: 22px; height: 41px; text-align: left;\" data-sheets-value=\"{&quot;1&quot;:2,&quot;2&quot;:&quot;The two variables are probably measuring the same concept.&quot;}\">\n",
    "<div>\n",
    "<div>The two variables are probably measuring the same concept.</div>\n",
    "</div>\n",
    "</td>\n",
    "</tr>\n",
    "<tr style=\"height: 41px;\">\n",
    "<td style=\"width: 22px; height: 41px; text-align: left;\" data-sheets-value=\"{&quot;1&quot;:3,&quot;3&quot;:1}\">1</td>\n",
    "<td style=\"width: 22px; height: 41px; text-align: left;\" data-sheets-value=\"{&quot;1&quot;:2,&quot;2&quot;:&quot;Perfect Relationship.&quot;}\">Perfect Relationship</td>\n",
    "<td style=\"width: 22px; height: 41px; text-align: left;\" data-sheets-value=\"{&quot;1&quot;:2,&quot;2&quot;:&quot;If we the know the independent variable, we can perfectly predict the dependent variable.&quot;}\">\n",
    "<div>\n",
    "<div>If we the know the independent variable, we can perfectly predict the dependent variable.</div>\n",
    "</div>\n",
    "</td>\n",
    "</tr>\n",
    "</tbody>\n",
    "</table>"
   ]
  },
  {
   "cell_type": "code",
   "execution_count": 35,
   "metadata": {
    "collapsed": true
   },
   "outputs": [],
   "source": [
    "# Defining Cramer's V since I couldn't find a library which had it\n",
    "def cramersV(N,nrows,ncols,chi2):\n",
    "    V = math.sqrt(chi2/(N*min(nrows-1,ncols-1)))\n",
    "    return V"
   ]
  },
  {
   "cell_type": "code",
   "execution_count": 36,
   "metadata": {},
   "outputs": [
    {
     "name": "stdout",
     "output_type": "stream",
     "text": [
      "Cramer's V = 0.5409359434469282\n"
     ]
    }
   ],
   "source": [
    "print('Cramer\\'s V =',cramersV(len(df),len(ctGender.index),len(ctGender.columns),chi2)) "
   ]
  },
  {
   "cell_type": "markdown",
   "metadata": {},
   "source": [
    "Using our table we see there is a \"Redundant\"(ly) strong relationship between Gender and Survival. Despite the description we know that gender and survival are not the same concept.\n",
    "\n",
    "Hence we reject $H_{0}$ in favour of $H_{a}$.\n",
    "<br>**We find Gender is statistically significant and a very strong predictor of Survival.**"
   ]
  },
  {
   "cell_type": "markdown",
   "metadata": {},
   "source": [
    "***"
   ]
  },
  {
   "cell_type": "markdown",
   "metadata": {},
   "source": [
    "### Testing Age\n",
    "Our hypotheses (expectations) are as follows:\n",
    "\n",
    "$H_{0}$: Age and Survival are independent.\n",
    "\n",
    "$H_{a}$: Age and Survival are not independent.\n",
    "\n",
    "Using the Chi-square test, we have the following assumptions:\n",
    "- Significance level = 0.05 = p-value.\n",
    "- Age will be binned into 8 groups with 10 year intervals\n",
    "- Degrees of freedom = 7 (8 bins - 1)"
   ]
  },
  {
   "cell_type": "code",
   "execution_count": 37,
   "metadata": {
    "collapsed": true,
    "scrolled": true
   },
   "outputs": [],
   "source": [
    "# Create bins and two new columns, AgeGroup\n",
    "bins = list(range(0,81,10))\n",
    "bins[8] = 81\n",
    "AgeGroups = ['0-9', '10-19', '20-29', '30-39', '40-49', '50-59', '60-69', '70-80']\n",
    "df['AgeGroup'] = pd.cut(df.Age, bins, right=False, labels=AgeGroups).astype('object')"
   ]
  },
  {
   "cell_type": "code",
   "execution_count": 38,
   "metadata": {
    "scrolled": true
   },
   "outputs": [
    {
     "data": {
      "text/html": [
       "<div>\n",
       "<style>\n",
       "    .dataframe thead tr:only-child th {\n",
       "        text-align: right;\n",
       "    }\n",
       "\n",
       "    .dataframe thead th {\n",
       "        text-align: left;\n",
       "    }\n",
       "\n",
       "    .dataframe tbody tr th {\n",
       "        vertical-align: top;\n",
       "    }\n",
       "</style>\n",
       "<table border=\"1\" class=\"dataframe\">\n",
       "  <thead>\n",
       "    <tr style=\"text-align: right;\">\n",
       "      <th>Survival</th>\n",
       "      <th>Died</th>\n",
       "      <th>Survived</th>\n",
       "    </tr>\n",
       "    <tr>\n",
       "      <th>AgeGroup</th>\n",
       "      <th></th>\n",
       "      <th></th>\n",
       "    </tr>\n",
       "  </thead>\n",
       "  <tbody>\n",
       "    <tr>\n",
       "      <th>0-9</th>\n",
       "      <td>24</td>\n",
       "      <td>38</td>\n",
       "    </tr>\n",
       "    <tr>\n",
       "      <th>10-19</th>\n",
       "      <td>61</td>\n",
       "      <td>41</td>\n",
       "    </tr>\n",
       "    <tr>\n",
       "      <th>20-29</th>\n",
       "      <td>268</td>\n",
       "      <td>129</td>\n",
       "    </tr>\n",
       "    <tr>\n",
       "      <th>30-39</th>\n",
       "      <td>94</td>\n",
       "      <td>73</td>\n",
       "    </tr>\n",
       "    <tr>\n",
       "      <th>40-49</th>\n",
       "      <td>55</td>\n",
       "      <td>34</td>\n",
       "    </tr>\n",
       "    <tr>\n",
       "      <th>50-59</th>\n",
       "      <td>28</td>\n",
       "      <td>20</td>\n",
       "    </tr>\n",
       "    <tr>\n",
       "      <th>60-69</th>\n",
       "      <td>13</td>\n",
       "      <td>6</td>\n",
       "    </tr>\n",
       "    <tr>\n",
       "      <th>70-80</th>\n",
       "      <td>6</td>\n",
       "      <td>1</td>\n",
       "    </tr>\n",
       "  </tbody>\n",
       "</table>\n",
       "</div>"
      ],
      "text/plain": [
       "Survival  Died  Survived\n",
       "AgeGroup                \n",
       "0-9         24        38\n",
       "10-19       61        41\n",
       "20-29      268       129\n",
       "30-39       94        73\n",
       "40-49       55        34\n",
       "50-59       28        20\n",
       "60-69       13         6\n",
       "70-80        6         1"
      ]
     },
     "execution_count": 38,
     "metadata": {},
     "output_type": "execute_result"
    }
   ],
   "source": [
    "# Create our contingency table\n",
    "ctAge = pd.crosstab(df.AgeGroup,df.Survival)\n",
    "ctAge"
   ]
  },
  {
   "cell_type": "markdown",
   "metadata": {},
   "source": [
    "Charting the frequency then percentages of Survival by Age Group."
   ]
  },
  {
   "cell_type": "code",
   "execution_count": 39,
   "metadata": {},
   "outputs": [
    {
     "data": {
      "text/html": [
       "<div id=\"e6f80072_f576_4f97_a57c_1de052128ecb\"><div id=\"e6f80072_f576_4f97_a57c_1de052128ecbcontainer_chart\"></div></div><script>\n",
       "    // the Jupyter notebook loads jquery.min.js  and require.js and at the top of the page\n",
       "    // then to make jquery available inside a require module\n",
       "    // the trick is http://www.manuel-strehl.de/dev/load_jquery_before_requirejs.en.html\n",
       "    define('jquery', [], function() {\n",
       "        return jQuery;\n",
       "    });\n",
       "\n",
       "    require([\"jquery\", \"http://code.highcharts.com/stock/highstock.js\", \"http://d3js.org/d3.v3.min.js\"], function() {\n",
       "        require([\"https://cdn.datatables.net/1.10.10/js/jquery.dataTables.min.js\", \"http://code.highcharts.com/stock/highcharts-more.js\", \"http://code.highcharts.com/modules/drilldown.js\", \"http://code.highcharts.com/modules/exporting.js\", \"http://code.highcharts.com/modules/heatmap.js\", \"http://code.highcharts.com/modules/treemap.js\", \"http://highcharts.github.io/export-csv/export-csv.js\"], function() {\n",
       "            \n",
       "    var options = {\"credits\":{\"enabled\":false},\"exporting\":{\"enabled\":true},\"chart\":{\"animation\":false,\"type\":\"column\",\"renderTo\":\"e6f80072_f576_4f97_a57c_1de052128ecbcontainer_chart\"},\"series\":[{\"name\":\"Died\",\"yAxis\":0,\"data\":[[\"0-9\",24],[\"10-19\",61],[\"20-29\",268],[\"30-39\",94],[\"40-49\",55],[\"50-59\",28],[\"60-69\",13],[\"70-80\",6]],\"color\":\"black\"},{\"name\":\"Survived\",\"yAxis\":0,\"data\":[[\"0-9\",38],[\"10-19\",41],[\"20-29\",129],[\"30-39\",73],[\"40-49\",34],[\"50-59\",20],[\"60-69\",6],[\"70-80\",1]],\"color\":\"green\"}],\"plotOptions\":{\"series\":{\"animation\":false},\"line\":{\"animation\":false},\"column\":{\"animation\":false,\"showInLegend\":true},\"bar\":{\"animation\":false},\"pie\":{\"animation\":false},\"scatter\":{\"animation\":false},\"bubble\":{\"animation\":false},\"treemap\":{\"animation\":false}},\"yAxis\":{\"title\":{\"text\":\"<b>Frequency<\\/b>\"}},\"xAxis\":{\"title\":{\"text\":\"<b>Age Groups<\\/b>\"},\"categories\":[\"0-9\",\"10-19\",\"20-29\",\"30-39\",\"40-49\",\"50-59\",\"60-69\",\"70-80\"]},\"tooltip\":{\"headerFormat\":\"\",\"shared\":\"True\"},\"title\":{\"text\":\"Survival by Age Group\"}};\n",
       "    options = JSON.stringify(options);\n",
       "\n",
       "options = JSON.parse(options, function(key, value) {\n",
       "\n",
       "    if (value && (typeof value===\"string\")) {\n",
       "\n",
       "                var check1 = (value.replace(/\\s+/g, '').replace(/\\r?\\n|\\r/g, '').substr(0,8) == \"function\"),\n",
       "            check2 = (value.replace(/\\s+/g, '').replace(/\\r?\\n|\\r/g, '').substr(0,9) == \"(function\");\n",
       "\n",
       "        if (check1) {\n",
       "            var startBody = value.indexOf('{') + 1;\n",
       "            var endBody = value.lastIndexOf('}');\n",
       "            var startArgs = value.indexOf('(') + 1;\n",
       "            var endArgs = value.indexOf(')');\n",
       "\n",
       "            return new Function(value.substring(startArgs, endArgs),\n",
       "                                value.substring(startBody, endBody));\n",
       "        }\n",
       "        if (check2) {\n",
       "            return eval(value);\n",
       "        }\n",
       "\n",
       "\n",
       "    }\n",
       "\n",
       "    return value;\n",
       "});\n",
       "\n",
       "    \n",
       "\n",
       "    var opt = $.extend(true, {}, options);\n",
       "    if (window.opts==undefined) {\n",
       "        window.opts = {};\n",
       "    }\n",
       "    window.opts['e6f80072_f576_4f97_a57c_1de052128ecb'] = opt;\n",
       "\n",
       "    console.log('Highcharts/Highstock options accessible as opts[\"e6f80072_f576_4f97_a57c_1de052128ecb\"]');\n",
       "    \n",
       "            \n",
       "            window.chart = new Highcharts.Chart(options);\n",
       "            \n",
       "    console.log('Highcharts/Highstock chart accessible as charts[\"e6f80072_f576_4f97_a57c_1de052128ecb\"]');\n",
       "    \n",
       "        });\n",
       "    });\n",
       "    </script>"
      ],
      "text/plain": [
       "<IPython.core.display.HTML object>"
      ]
     },
     "execution_count": 39,
     "metadata": {},
     "output_type": "execute_result"
    }
   ],
   "source": [
    "# Age bins visualised\n",
    "g = hc.Highcharts()\n",
    "\n",
    "g.chart.type = 'column'\n",
    "g.yAxis.title.text = '<b>Frequency</b>'\n",
    "g.xAxis.title.text = '<b>Age Groups</b>'\n",
    "g.xAxis.categories = list(ctAge.index)\n",
    "# g.chart.height = 400\n",
    "# g.tooltip.headerFormat = '<b>{series.name}</b><br>'\n",
    "g.tooltip.headerFormat = ''\n",
    "# g.tooltip.pointFormat = 'Ticket Number {point.x}, Frequency {point.y}'\n",
    "gpo = g.plotOptions.column\n",
    "# gpo.groupPadding = 0\n",
    "# gpo.pointPadding = 0\n",
    "# gpo.borderWidth = 1\n",
    "gpo.showInLegend = True\n",
    "g.tooltip.shared = 'True'\n",
    "# gpo.dataLabels.format = '{point.name}: {point.percentage:.1f}%'\n",
    "\n",
    "# gpo.colors = ['#058DC7', '#50B432']\n",
    "# gpo.colorByPoint = True\n",
    "# g.plotOptions.series.colorByPoint = True\n",
    "\n",
    "\n",
    "g.title.text = 'Survival by Age Group'\n",
    "g.series = hc.build.series(ctAge, color={'Died': 'black', 'Survived': 'green'})\n",
    "\n",
    "\n",
    "g.plot()"
   ]
  },
  {
   "cell_type": "code",
   "execution_count": 40,
   "metadata": {},
   "outputs": [
    {
     "data": {
      "text/html": [
       "<div id=\"090e7858_aa03_4389_8cce_63e3846bb644\"><div id=\"090e7858_aa03_4389_8cce_63e3846bb644container_chart\"></div></div><script>\n",
       "    // the Jupyter notebook loads jquery.min.js  and require.js and at the top of the page\n",
       "    // then to make jquery available inside a require module\n",
       "    // the trick is http://www.manuel-strehl.de/dev/load_jquery_before_requirejs.en.html\n",
       "    define('jquery', [], function() {\n",
       "        return jQuery;\n",
       "    });\n",
       "\n",
       "    require([\"jquery\", \"http://code.highcharts.com/stock/highstock.js\", \"http://d3js.org/d3.v3.min.js\"], function() {\n",
       "        require([\"https://cdn.datatables.net/1.10.10/js/jquery.dataTables.min.js\", \"http://code.highcharts.com/stock/highcharts-more.js\", \"http://code.highcharts.com/modules/drilldown.js\", \"http://code.highcharts.com/modules/exporting.js\", \"http://code.highcharts.com/modules/heatmap.js\", \"http://code.highcharts.com/modules/treemap.js\", \"http://highcharts.github.io/export-csv/export-csv.js\"], function() {\n",
       "            \n",
       "    var options = {\"credits\":{\"enabled\":false},\"exporting\":{\"enabled\":true},\"chart\":{\"animation\":false,\"type\":\"column\",\"renderTo\":\"090e7858_aa03_4389_8cce_63e3846bb644container_chart\"},\"series\":[{\"name\":\"Died\",\"yAxis\":0,\"data\":[[\"0-9\",24],[\"10-19\",61],[\"20-29\",268],[\"30-39\",94],[\"40-49\",55],[\"50-59\",28],[\"60-69\",13],[\"70-80\",6]],\"color\":\"black\"},{\"name\":\"Survived\",\"yAxis\":0,\"data\":[[\"0-9\",38],[\"10-19\",41],[\"20-29\",129],[\"30-39\",73],[\"40-49\",34],[\"50-59\",20],[\"60-69\",6],[\"70-80\",1]],\"color\":\"green\"}],\"plotOptions\":{\"series\":{\"animation\":false},\"line\":{\"animation\":false},\"column\":{\"animation\":false,\"stacking\":\"percent\",\"showInLegend\":true},\"bar\":{\"animation\":false},\"pie\":{\"animation\":false},\"scatter\":{\"animation\":false},\"bubble\":{\"animation\":false},\"treemap\":{\"animation\":false}},\"yAxis\":{\"title\":{\"text\":\"<b>Percentage<\\/b>\"},\"labels\":{\"format\":\"{value}%\"}},\"xAxis\":{\"title\":{\"text\":\"<b>Age Groups<\\/b>\"},\"categories\":[\"0-9\",\"10-19\",\"20-29\",\"30-39\",\"40-49\",\"50-59\",\"60-69\",\"70-80\"]},\"tooltip\":{\"headerFormat\":\"\",\"pointFormat\":\"<span style=\\\"color:{series.color}\\\">{series.name}<\\/span>: <b>{point.y}<\\/b> ({point.percentage:.1f}%)<br\\/>\",\"shared\":\"True\"},\"title\":{\"text\":\"Survival by Age Group\"}};\n",
       "    options = JSON.stringify(options);\n",
       "\n",
       "options = JSON.parse(options, function(key, value) {\n",
       "\n",
       "    if (value && (typeof value===\"string\")) {\n",
       "\n",
       "                var check1 = (value.replace(/\\s+/g, '').replace(/\\r?\\n|\\r/g, '').substr(0,8) == \"function\"),\n",
       "            check2 = (value.replace(/\\s+/g, '').replace(/\\r?\\n|\\r/g, '').substr(0,9) == \"(function\");\n",
       "\n",
       "        if (check1) {\n",
       "            var startBody = value.indexOf('{') + 1;\n",
       "            var endBody = value.lastIndexOf('}');\n",
       "            var startArgs = value.indexOf('(') + 1;\n",
       "            var endArgs = value.indexOf(')');\n",
       "\n",
       "            return new Function(value.substring(startArgs, endArgs),\n",
       "                                value.substring(startBody, endBody));\n",
       "        }\n",
       "        if (check2) {\n",
       "            return eval(value);\n",
       "        }\n",
       "\n",
       "\n",
       "    }\n",
       "\n",
       "    return value;\n",
       "});\n",
       "\n",
       "    \n",
       "\n",
       "    var opt = $.extend(true, {}, options);\n",
       "    if (window.opts==undefined) {\n",
       "        window.opts = {};\n",
       "    }\n",
       "    window.opts['090e7858_aa03_4389_8cce_63e3846bb644'] = opt;\n",
       "\n",
       "    console.log('Highcharts/Highstock options accessible as opts[\"090e7858_aa03_4389_8cce_63e3846bb644\"]');\n",
       "    \n",
       "            \n",
       "            window.chart = new Highcharts.Chart(options);\n",
       "            \n",
       "    console.log('Highcharts/Highstock chart accessible as charts[\"090e7858_aa03_4389_8cce_63e3846bb644\"]');\n",
       "    \n",
       "        });\n",
       "    });\n",
       "    </script>"
      ],
      "text/plain": [
       "<IPython.core.display.HTML object>"
      ]
     },
     "execution_count": 40,
     "metadata": {},
     "output_type": "execute_result"
    }
   ],
   "source": [
    "# Age bins by percentage\n",
    "g = hc.Highcharts()\n",
    "\n",
    "g.chart.type = 'column'\n",
    "g.yAxis.title.text = '<b>Percentage</b>'\n",
    "g.yAxis.labels.format = '{value}%'\n",
    "g.xAxis.title.text = '<b>Age Groups</b>'\n",
    "g.xAxis.categories = list(ctAge.index)\n",
    "# g.chart.height = 400\n",
    "# g.tooltip.headerFormat = '<b>{series.index}</b><br>'\n",
    "g.tooltip.headerFormat = ''\n",
    "# g.tooltip.pointFormat = 'Ticket Number {point.x}, Frequency {point.y}'\n",
    "g.tooltip.pointFormat = '<span style=\"color:{series.color}\">{series.name}</span>: <b>{point.y}</b> ({point.percentage:.1f}%)<br/>'\n",
    "g.tooltip.shared = 'True'\n",
    "gpo = g.plotOptions.column\n",
    "gpo.stacking = 'percent'\n",
    "gpo.showInLegend = True\n",
    "# gpo.dataLabels.format = '{point.name}: {point.percentage:.1f}%'\n",
    "\n",
    "# gpo.colors = ['#058DC7', '#50B432']\n",
    "# gpo.colorByPoint = True\n",
    "# g.plotOptions.series.colorByPoint = True\n",
    "\n",
    "\n",
    "g.title.text = 'Survival by Age Group'\n",
    "g.series = hc.build.series(ctAge, color={'Died': 'black', 'Survived': 'green'})\n",
    "\n",
    "\n",
    "g.plot()"
   ]
  },
  {
   "cell_type": "markdown",
   "metadata": {},
   "source": [
    "At a glance we see that a large proportion of children (ages 0-9) survived (61%) and a low proportion of elderly (ages 70-80) survived (14%). In the middle we have 10-69 year olds who survived 25-50% of the time.\n",
    "\n",
    "Note that missing values in the Age column were replaced with the median age which was 28, so there will be some error in this result."
   ]
  },
  {
   "cell_type": "code",
   "execution_count": 41,
   "metadata": {
    "collapsed": true
   },
   "outputs": [],
   "source": [
    "# Use Pearson's chi-squared test\n",
    "chi2,p,dof,ex = scipy.stats.chi2_contingency(ctAge)\n",
    "cV = cramersV(len(df),len(ctAge.index),len(ctAge.columns),chi2)\n",
    "results = [['Item','Value'],\n",
    "           ['Chi-Square Test',chi2],\n",
    "           ['P-Value', p],\n",
    "           ['Degrees of freedom',dof],\n",
    "           ['',''],\n",
    "           ['Cramer\\'s V',cV]]\n",
    "# setting up a nicer looking table.\n",
    "tbl.make_table(results)\n",
    "tbl.set_row_style(0, bold=True);\n",
    "# tbl.set_row_style(2,float_format='%0.3E');"
   ]
  },
  {
   "cell_type": "code",
   "execution_count": 42,
   "metadata": {},
   "outputs": [
    {
     "data": {
      "text/html": [
       "<table border=\"1\" cellpadding=\"3\" cellspacing=\"0\"  style=\"border:black; border-collapse:collapse;\"><tr><td  style=\"border-left: 1px solid;border-right: 1px solid;border-top: 1px solid;border-bottom: 1px solid;\"><b>Item</b></td><td  style=\"border-left: 1px solid;border-right: 1px solid;border-top: 1px solid;border-bottom: 1px solid;\"><b>Value</b></td></tr><tr><td  style=\"border-left: 1px solid;border-right: 1px solid;border-top: 1px solid;border-bottom: 1px solid;\">Chi-Square&nbsp;Test</td><td  style=\"border-left: 1px solid;border-right: 1px solid;border-top: 1px solid;border-bottom: 1px solid;\">24.0363</td></tr><tr><td  style=\"border-left: 1px solid;border-right: 1px solid;border-top: 1px solid;border-bottom: 1px solid;\">P-Value</td><td  style=\"border-left: 1px solid;border-right: 1px solid;border-top: 1px solid;border-bottom: 1px solid;\">0.0011</td></tr><tr><td  style=\"border-left: 1px solid;border-right: 1px solid;border-top: 1px solid;border-bottom: 1px solid;\">Degrees&nbsp;of&nbsp;freedom</td><td  style=\"border-left: 1px solid;border-right: 1px solid;border-top: 1px solid;border-bottom: 1px solid;\">7</td></tr><tr><td  style=\"border-left: 1px solid;border-right: 1px solid;border-top: 1px solid;border-bottom: 1px solid;\"></td><td  style=\"border-left: 1px solid;border-right: 1px solid;border-top: 1px solid;border-bottom: 1px solid;\"></td></tr><tr><td  style=\"border-left: 1px solid;border-right: 1px solid;border-top: 1px solid;border-bottom: 1px solid;\">Cramer's&nbsp;V</td><td  style=\"border-left: 1px solid;border-right: 1px solid;border-top: 1px solid;border-bottom: 1px solid;\">0.1642</td></tr></table>"
      ],
      "text/plain": [
       "<ipy_table.ipy_table.IpyTable at 0x27034a94a20>"
      ]
     },
     "execution_count": 42,
     "metadata": {},
     "output_type": "execute_result"
    }
   ],
   "source": [
    "tbl.render()"
   ]
  },
  {
   "cell_type": "markdown",
   "metadata": {},
   "source": [
    "With 7 degrees of freedom and a p-value of 0.05 we have $\\chi^{2}$ critical value of 14.067.\n",
    "\n",
    "Our result $\\chi^{2}\\approx24 > 14.067$\n",
    "\n",
    "With a p-value $< 0.05$\n",
    "We have a statistically significant value. \n",
    "\n",
    "A Cramer's V of $\\approx 0.16$ is described as weak and minimally acceptable relationship between Age and Survival.\n",
    "\n",
    "Hence we reject $H_{0}$ in favour of $H_{a}$.\n",
    "<br>**We find that Age is statistically significant with weak association to Survival.**"
   ]
  },
  {
   "cell_type": "markdown",
   "metadata": {},
   "source": [
    "## Combining Gender and AgeGroup"
   ]
  },
  {
   "cell_type": "markdown",
   "metadata": {},
   "source": [
    "By combining Gender and AgeGroup we discover another interesting insight."
   ]
  },
  {
   "cell_type": "code",
   "execution_count": 43,
   "metadata": {
    "scrolled": false
   },
   "outputs": [
    {
     "data": {
      "text/html": [
       "<div>\n",
       "<style>\n",
       "    .dataframe thead tr:only-child th {\n",
       "        text-align: right;\n",
       "    }\n",
       "\n",
       "    .dataframe thead th {\n",
       "        text-align: left;\n",
       "    }\n",
       "\n",
       "    .dataframe tbody tr th {\n",
       "        vertical-align: top;\n",
       "    }\n",
       "</style>\n",
       "<table border=\"1\" class=\"dataframe\">\n",
       "  <thead>\n",
       "    <tr style=\"text-align: right;\">\n",
       "      <th></th>\n",
       "      <th>Survival</th>\n",
       "      <th>Died</th>\n",
       "      <th>Survived</th>\n",
       "    </tr>\n",
       "    <tr>\n",
       "      <th>Gender</th>\n",
       "      <th>AgeGroup</th>\n",
       "      <th></th>\n",
       "      <th></th>\n",
       "    </tr>\n",
       "  </thead>\n",
       "  <tbody>\n",
       "    <tr>\n",
       "      <th rowspan=\"7\" valign=\"top\">Female</th>\n",
       "      <th>0-9</th>\n",
       "      <td>11</td>\n",
       "      <td>19</td>\n",
       "    </tr>\n",
       "    <tr>\n",
       "      <th>10-19</th>\n",
       "      <td>11</td>\n",
       "      <td>34</td>\n",
       "    </tr>\n",
       "    <tr>\n",
       "      <th>20-29</th>\n",
       "      <td>37</td>\n",
       "      <td>88</td>\n",
       "    </tr>\n",
       "    <tr>\n",
       "      <th>30-39</th>\n",
       "      <td>10</td>\n",
       "      <td>50</td>\n",
       "    </tr>\n",
       "    <tr>\n",
       "      <th>40-49</th>\n",
       "      <td>10</td>\n",
       "      <td>22</td>\n",
       "    </tr>\n",
       "    <tr>\n",
       "      <th>50-59</th>\n",
       "      <td>2</td>\n",
       "      <td>16</td>\n",
       "    </tr>\n",
       "    <tr>\n",
       "      <th>60-69</th>\n",
       "      <td>0</td>\n",
       "      <td>4</td>\n",
       "    </tr>\n",
       "    <tr>\n",
       "      <th rowspan=\"8\" valign=\"top\">Male</th>\n",
       "      <th>0-9</th>\n",
       "      <td>13</td>\n",
       "      <td>19</td>\n",
       "    </tr>\n",
       "    <tr>\n",
       "      <th>10-19</th>\n",
       "      <td>50</td>\n",
       "      <td>7</td>\n",
       "    </tr>\n",
       "    <tr>\n",
       "      <th>20-29</th>\n",
       "      <td>231</td>\n",
       "      <td>41</td>\n",
       "    </tr>\n",
       "    <tr>\n",
       "      <th>30-39</th>\n",
       "      <td>84</td>\n",
       "      <td>23</td>\n",
       "    </tr>\n",
       "    <tr>\n",
       "      <th>40-49</th>\n",
       "      <td>45</td>\n",
       "      <td>12</td>\n",
       "    </tr>\n",
       "    <tr>\n",
       "      <th>50-59</th>\n",
       "      <td>26</td>\n",
       "      <td>4</td>\n",
       "    </tr>\n",
       "    <tr>\n",
       "      <th>60-69</th>\n",
       "      <td>13</td>\n",
       "      <td>2</td>\n",
       "    </tr>\n",
       "    <tr>\n",
       "      <th>70-80</th>\n",
       "      <td>6</td>\n",
       "      <td>1</td>\n",
       "    </tr>\n",
       "  </tbody>\n",
       "</table>\n",
       "</div>"
      ],
      "text/plain": [
       "Survival         Died  Survived\n",
       "Gender AgeGroup                \n",
       "Female 0-9         11        19\n",
       "       10-19       11        34\n",
       "       20-29       37        88\n",
       "       30-39       10        50\n",
       "       40-49       10        22\n",
       "       50-59        2        16\n",
       "       60-69        0         4\n",
       "Male   0-9         13        19\n",
       "       10-19       50         7\n",
       "       20-29      231        41\n",
       "       30-39       84        23\n",
       "       40-49       45        12\n",
       "       50-59       26         4\n",
       "       60-69       13         2\n",
       "       70-80        6         1"
      ]
     },
     "execution_count": 43,
     "metadata": {},
     "output_type": "execute_result"
    }
   ],
   "source": [
    "# Grouping all 3\n",
    "ctGenderAge = df[['Gender','AgeGroup','Survival']].groupby(['Gender','AgeGroup','Survival']).size().unstack(fill_value=0)\n",
    "ctGenderAge"
   ]
  },
  {
   "cell_type": "code",
   "execution_count": 44,
   "metadata": {},
   "outputs": [
    {
     "data": {
      "text/html": [
       "<div id=\"0e08d39d_fe2f_40e4_87c4_6d64c1b5646a\"><div id=\"0e08d39d_fe2f_40e4_87c4_6d64c1b5646acontainer_chart\"></div></div><script>\n",
       "    // the Jupyter notebook loads jquery.min.js  and require.js and at the top of the page\n",
       "    // then to make jquery available inside a require module\n",
       "    // the trick is http://www.manuel-strehl.de/dev/load_jquery_before_requirejs.en.html\n",
       "    define('jquery', [], function() {\n",
       "        return jQuery;\n",
       "    });\n",
       "\n",
       "    require([\"jquery\", \"http://code.highcharts.com/stock/highstock.js\", \"http://d3js.org/d3.v3.min.js\"], function() {\n",
       "        require([\"https://cdn.datatables.net/1.10.10/js/jquery.dataTables.min.js\", \"http://code.highcharts.com/stock/highcharts-more.js\", \"http://code.highcharts.com/modules/drilldown.js\", \"http://code.highcharts.com/modules/exporting.js\", \"http://code.highcharts.com/modules/heatmap.js\", \"http://code.highcharts.com/modules/treemap.js\", \"http://highcharts.github.io/export-csv/export-csv.js\"], function() {\n",
       "            \n",
       "    var options = {\"credits\":{\"enabled\":false},\"exporting\":{\"enabled\":true},\"chart\":{\"animation\":false,\"type\":\"column\",\"renderTo\":\"0e08d39d_fe2f_40e4_87c4_6d64c1b5646acontainer_chart\"},\"series\":[{\"name\":\"Died\",\"yAxis\":0,\"data\":[[[\"Female\",\"0-9\"],11],[[\"Female\",\"10-19\"],11],[[\"Female\",\"20-29\"],37],[[\"Female\",\"30-39\"],10],[[\"Female\",\"40-49\"],10],[[\"Female\",\"50-59\"],2],[[\"Female\",\"60-69\"],0],[[\"Male\",\"0-9\"],13],[[\"Male\",\"10-19\"],50],[[\"Male\",\"20-29\"],231],[[\"Male\",\"30-39\"],84],[[\"Male\",\"40-49\"],45],[[\"Male\",\"50-59\"],26],[[\"Male\",\"60-69\"],13],[[\"Male\",\"70-80\"],6]],\"color\":\"black\"},{\"name\":\"Survived\",\"yAxis\":0,\"data\":[[[\"Female\",\"0-9\"],19],[[\"Female\",\"10-19\"],34],[[\"Female\",\"20-29\"],88],[[\"Female\",\"30-39\"],50],[[\"Female\",\"40-49\"],22],[[\"Female\",\"50-59\"],16],[[\"Female\",\"60-69\"],4],[[\"Male\",\"0-9\"],19],[[\"Male\",\"10-19\"],7],[[\"Male\",\"20-29\"],41],[[\"Male\",\"30-39\"],23],[[\"Male\",\"40-49\"],12],[[\"Male\",\"50-59\"],4],[[\"Male\",\"60-69\"],2],[[\"Male\",\"70-80\"],1]],\"color\":\"green\"}],\"plotOptions\":{\"series\":{\"animation\":false},\"line\":{\"animation\":false},\"column\":{\"animation\":false,\"showInLegend\":true,\"stacking\":\"percent\"},\"bar\":{\"animation\":false},\"pie\":{\"animation\":false},\"scatter\":{\"animation\":false},\"bubble\":{\"animation\":false},\"treemap\":{\"animation\":false}},\"yAxis\":{\"title\":{\"text\":\"<b>Frequency<\\/b>\"},\"labels\":{\"format\":\"{value}%\"}},\"xAxis\":{\"title\":{\"text\":\"<b>Age Groups<\\/b>\"},\"categories\":[[\"Female\",\"0-9\"],[\"Female\",\"10-19\"],[\"Female\",\"20-29\"],[\"Female\",\"30-39\"],[\"Female\",\"40-49\"],[\"Female\",\"50-59\"],[\"Female\",\"60-69\"],[\"Male\",\"0-9\"],[\"Male\",\"10-19\"],[\"Male\",\"20-29\"],[\"Male\",\"30-39\"],[\"Male\",\"40-49\"],[\"Male\",\"50-59\"],[\"Male\",\"60-69\"],[\"Male\",\"70-80\"]]},\"tooltip\":{\"headerFormat\":\"\",\"pointFormat\":\"<span style=\\\"color:{series.color}\\\">{series.name}<\\/span>: <b>{point.y}<\\/b> ({point.percentage:.1f}%)<br\\/>\",\"shared\":\"True\"},\"title\":{\"text\":\"Survival by Age Group\"}};\n",
       "    options = JSON.stringify(options);\n",
       "\n",
       "options = JSON.parse(options, function(key, value) {\n",
       "\n",
       "    if (value && (typeof value===\"string\")) {\n",
       "\n",
       "                var check1 = (value.replace(/\\s+/g, '').replace(/\\r?\\n|\\r/g, '').substr(0,8) == \"function\"),\n",
       "            check2 = (value.replace(/\\s+/g, '').replace(/\\r?\\n|\\r/g, '').substr(0,9) == \"(function\");\n",
       "\n",
       "        if (check1) {\n",
       "            var startBody = value.indexOf('{') + 1;\n",
       "            var endBody = value.lastIndexOf('}');\n",
       "            var startArgs = value.indexOf('(') + 1;\n",
       "            var endArgs = value.indexOf(')');\n",
       "\n",
       "            return new Function(value.substring(startArgs, endArgs),\n",
       "                                value.substring(startBody, endBody));\n",
       "        }\n",
       "        if (check2) {\n",
       "            return eval(value);\n",
       "        }\n",
       "\n",
       "\n",
       "    }\n",
       "\n",
       "    return value;\n",
       "});\n",
       "\n",
       "    \n",
       "\n",
       "    var opt = $.extend(true, {}, options);\n",
       "    if (window.opts==undefined) {\n",
       "        window.opts = {};\n",
       "    }\n",
       "    window.opts['0e08d39d_fe2f_40e4_87c4_6d64c1b5646a'] = opt;\n",
       "\n",
       "    console.log('Highcharts/Highstock options accessible as opts[\"0e08d39d_fe2f_40e4_87c4_6d64c1b5646a\"]');\n",
       "    \n",
       "            \n",
       "            window.chart = new Highcharts.Chart(options);\n",
       "            \n",
       "    console.log('Highcharts/Highstock chart accessible as charts[\"0e08d39d_fe2f_40e4_87c4_6d64c1b5646a\"]');\n",
       "    \n",
       "        });\n",
       "    });\n",
       "    </script>"
      ],
      "text/plain": [
       "<IPython.core.display.HTML object>"
      ]
     },
     "execution_count": 44,
     "metadata": {},
     "output_type": "execute_result"
    }
   ],
   "source": [
    "# Gender and Age combined. will try workout highlightin the column later\n",
    "g = hc.Highcharts()\n",
    "\n",
    "g.chart.type = 'column'\n",
    "g.yAxis.title.text = '<b>Frequency</b>'\n",
    "g.yAxis.labels.format = '{value}%'\n",
    "g.xAxis.title.text = '<b>Age Groups</b>'\n",
    "g.xAxis.categories = list(ctGenderAge.index)\n",
    "# g.chart.height = 400\n",
    "# g.tooltip.headerFormat = '<b>{series.name}</b><br>'\n",
    "g.tooltip.headerFormat = ''\n",
    "# g.tooltip.pointFormat = 'Ticket Number {point.x}, Frequency {point.y}'\n",
    "g.tooltip.pointFormat = '<span style=\"color:{series.color}\">{series.name}</span>: <b>{point.y}</b> ({point.percentage:.1f}%)<br/>'\n",
    "gpo = g.plotOptions.column\n",
    "# gpo.groupPadding = 0\n",
    "# gpo.pointPadding = 0\n",
    "# gpo.borderWidth = 1\n",
    "gpo.showInLegend = True\n",
    "g.tooltip.shared = 'True'\n",
    "# gpo.dataLabels.format = '{point.name}: {point.percentage:.1f}%'\n",
    "gpo.stacking = 'percent'\n",
    "\n",
    "\n",
    "\n",
    "g.title.text = 'Survival by Age Group'\n",
    "g.series = hc.build.series(ctGenderAge, color={'Died': 'black', 'Survived': 'green'})\n",
    "\n",
    "\n",
    "g.plot()"
   ]
  },
  {
   "cell_type": "markdown",
   "metadata": {},
   "source": [
    "Notice how most women survive in all age groups and most men die in most age groups. However males between 0-9 years of are surviving ~60% of the time. The cliche of \"women and children first\" seems to hold true."
   ]
  },
  {
   "cell_type": "markdown",
   "metadata": {},
   "source": [
    "***"
   ]
  },
  {
   "cell_type": "markdown",
   "metadata": {},
   "source": [
    "### Testing Embarking Port\n",
    "\n",
    "Our hypothesis:\n",
    "\n",
    "$H_{0}$: Embarking Port and Survival are independent.\n",
    "\n",
    "$H_{a}$: Embarking Port and Survival are not independent.\n",
    "\n",
    "Using the Chi-square test, we have the following assumptions:\n",
    "- Significance level = 0.05 = p-value.\n",
    "- Degrees of freedom = 3 (4 ports - 1)"
   ]
  },
  {
   "cell_type": "code",
   "execution_count": 45,
   "metadata": {
    "scrolled": true
   },
   "outputs": [
    {
     "data": {
      "text/html": [
       "<div>\n",
       "<style>\n",
       "    .dataframe thead tr:only-child th {\n",
       "        text-align: right;\n",
       "    }\n",
       "\n",
       "    .dataframe thead th {\n",
       "        text-align: left;\n",
       "    }\n",
       "\n",
       "    .dataframe tbody tr th {\n",
       "        vertical-align: top;\n",
       "    }\n",
       "</style>\n",
       "<table border=\"1\" class=\"dataframe\">\n",
       "  <thead>\n",
       "    <tr style=\"text-align: right;\">\n",
       "      <th>Survival</th>\n",
       "      <th>Died</th>\n",
       "      <th>Survived</th>\n",
       "    </tr>\n",
       "    <tr>\n",
       "      <th>EmbarkingPort</th>\n",
       "      <th></th>\n",
       "      <th></th>\n",
       "    </tr>\n",
       "  </thead>\n",
       "  <tbody>\n",
       "    <tr>\n",
       "      <th>Cherbourg</th>\n",
       "      <td>75</td>\n",
       "      <td>93</td>\n",
       "    </tr>\n",
       "    <tr>\n",
       "      <th>Queenstown</th>\n",
       "      <td>47</td>\n",
       "      <td>30</td>\n",
       "    </tr>\n",
       "    <tr>\n",
       "      <th>Southampton</th>\n",
       "      <td>427</td>\n",
       "      <td>217</td>\n",
       "    </tr>\n",
       "    <tr>\n",
       "      <th>Unknown</th>\n",
       "      <td>0</td>\n",
       "      <td>2</td>\n",
       "    </tr>\n",
       "  </tbody>\n",
       "</table>\n",
       "</div>"
      ],
      "text/plain": [
       "Survival       Died  Survived\n",
       "EmbarkingPort                \n",
       "Cherbourg        75        93\n",
       "Queenstown       47        30\n",
       "Southampton     427       217\n",
       "Unknown           0         2"
      ]
     },
     "execution_count": 45,
     "metadata": {},
     "output_type": "execute_result"
    }
   ],
   "source": [
    "# Selecting only the Ticket Class and Survival while counting in each size group\n",
    "ctEmbarkingPort = df[['EmbarkingPort','Survival']].groupby(['EmbarkingPort','Survival']).size().unstack(fill_value=0)\n",
    "ctEmbarkingPort"
   ]
  },
  {
   "cell_type": "code",
   "execution_count": 46,
   "metadata": {
    "scrolled": false
   },
   "outputs": [
    {
     "data": {
      "text/html": [
       "<div id=\"0787f39c_cd77_4728_bbd5_40f74b080943\"><div id=\"0787f39c_cd77_4728_bbd5_40f74b080943container_chart\"></div></div><script>\n",
       "    // the Jupyter notebook loads jquery.min.js  and require.js and at the top of the page\n",
       "    // then to make jquery available inside a require module\n",
       "    // the trick is http://www.manuel-strehl.de/dev/load_jquery_before_requirejs.en.html\n",
       "    define('jquery', [], function() {\n",
       "        return jQuery;\n",
       "    });\n",
       "\n",
       "    require([\"jquery\", \"http://code.highcharts.com/stock/highstock.js\", \"http://d3js.org/d3.v3.min.js\"], function() {\n",
       "        require([\"https://cdn.datatables.net/1.10.10/js/jquery.dataTables.min.js\", \"http://code.highcharts.com/stock/highcharts-more.js\", \"http://code.highcharts.com/modules/drilldown.js\", \"http://code.highcharts.com/modules/exporting.js\", \"http://code.highcharts.com/modules/heatmap.js\", \"http://code.highcharts.com/modules/treemap.js\", \"http://highcharts.github.io/export-csv/export-csv.js\"], function() {\n",
       "            \n",
       "    var options = {\"credits\":{\"enabled\":false},\"exporting\":{\"enabled\":true},\"chart\":{\"animation\":false,\"type\":\"column\",\"renderTo\":\"0787f39c_cd77_4728_bbd5_40f74b080943container_chart\"},\"series\":[{\"name\":\"Died\",\"yAxis\":0,\"data\":[[\"Cherbourg\",75],[\"Queenstown\",47],[\"Southampton\",427],[\"Unknown\",0]],\"color\":\"black\"},{\"name\":\"Survived\",\"yAxis\":0,\"data\":[[\"Cherbourg\",93],[\"Queenstown\",30],[\"Southampton\",217],[\"Unknown\",2]],\"color\":\"green\"}],\"plotOptions\":{\"series\":{\"animation\":false},\"line\":{\"animation\":false},\"column\":{\"animation\":false,\"stacking\":\"percent\",\"showInLegend\":true},\"bar\":{\"animation\":false},\"pie\":{\"animation\":false},\"scatter\":{\"animation\":false},\"bubble\":{\"animation\":false},\"treemap\":{\"animation\":false}},\"yAxis\":{\"title\":{\"text\":\"<b>Percentage<\\/b>\"},\"labels\":{\"format\":\"{value}%\"}},\"xAxis\":{\"title\":{\"text\":\"<b>Embarking Ports<\\/b>\"},\"categories\":[\"Cherbourg\",\"Queenstown\",\"Southampton\",\"Unknown\"]},\"tooltip\":{\"headerFormat\":\"\",\"pointFormat\":\"<span style=\\\"color:{series.color}\\\">{series.name}<\\/span>: <b>{point.y}<\\/b> ({point.percentage:.1f}%)<br\\/>\",\"shared\":\"True\"},\"title\":{\"text\":\"Survival by Embarking Ports\"}};\n",
       "    options = JSON.stringify(options);\n",
       "\n",
       "options = JSON.parse(options, function(key, value) {\n",
       "\n",
       "    if (value && (typeof value===\"string\")) {\n",
       "\n",
       "                var check1 = (value.replace(/\\s+/g, '').replace(/\\r?\\n|\\r/g, '').substr(0,8) == \"function\"),\n",
       "            check2 = (value.replace(/\\s+/g, '').replace(/\\r?\\n|\\r/g, '').substr(0,9) == \"(function\");\n",
       "\n",
       "        if (check1) {\n",
       "            var startBody = value.indexOf('{') + 1;\n",
       "            var endBody = value.lastIndexOf('}');\n",
       "            var startArgs = value.indexOf('(') + 1;\n",
       "            var endArgs = value.indexOf(')');\n",
       "\n",
       "            return new Function(value.substring(startArgs, endArgs),\n",
       "                                value.substring(startBody, endBody));\n",
       "        }\n",
       "        if (check2) {\n",
       "            return eval(value);\n",
       "        }\n",
       "\n",
       "\n",
       "    }\n",
       "\n",
       "    return value;\n",
       "});\n",
       "\n",
       "    \n",
       "\n",
       "    var opt = $.extend(true, {}, options);\n",
       "    if (window.opts==undefined) {\n",
       "        window.opts = {};\n",
       "    }\n",
       "    window.opts['0787f39c_cd77_4728_bbd5_40f74b080943'] = opt;\n",
       "\n",
       "    console.log('Highcharts/Highstock options accessible as opts[\"0787f39c_cd77_4728_bbd5_40f74b080943\"]');\n",
       "    \n",
       "            \n",
       "            window.chart = new Highcharts.Chart(options);\n",
       "            \n",
       "    console.log('Highcharts/Highstock chart accessible as charts[\"0787f39c_cd77_4728_bbd5_40f74b080943\"]');\n",
       "    \n",
       "        });\n",
       "    });\n",
       "    </script>"
      ],
      "text/plain": [
       "<IPython.core.display.HTML object>"
      ]
     },
     "execution_count": 46,
     "metadata": {},
     "output_type": "execute_result"
    }
   ],
   "source": [
    "# Embarking Ports visualised.\n",
    "g = hc.Highcharts()\n",
    "\n",
    "g.chart.type = 'column'\n",
    "g.yAxis.title.text = '<b>Percentage</b>'\n",
    "g.yAxis.labels.format = '{value}%'\n",
    "g.xAxis.title.text = '<b>Embarking Ports</b>'\n",
    "g.xAxis.categories = list(ctEmbarkingPort.index)\n",
    "# g.chart.height = 400\n",
    "# g.tooltip.headerFormat = '<b>{series.name}</b><br>'\n",
    "g.tooltip.headerFormat = ''\n",
    "# g.tooltip.pointFormat = '<b>{series.name}</b>: {point.percentage:.1f}%'\n",
    "g.tooltip.pointFormat = '<span style=\"color:{series.color}\">{series.name}</span>: <b>{point.y}</b> ({point.percentage:.1f}%)<br/>'\n",
    "g.tooltip.shared = 'True'\n",
    "gpo = g.plotOptions.column\n",
    "gpo.stacking = 'percent'\n",
    "# gpo.pointPadding = 0\n",
    "# gpo.borderWidth = 1\n",
    "gpo.showInLegend = True\n",
    "# gpo.dataLabels.format = '{point.name}: {point.percentage:.1f}%'\n",
    "\n",
    "# gpo.colors = ['#058DC7', '#50B432', '#33333']\n",
    "# gpo.colorByPoint = True\n",
    "# g.plotOptions.series.colorByPoint = True\n",
    "\n",
    "\n",
    "g.title.text = 'Survival by Embarking Ports'\n",
    "g.series = hc.build.series(ctEmbarkingPort, color={'Died': 'black', 'Survived': 'green'})\n",
    "\n",
    "\n",
    "g.plot()"
   ]
  },
  {
   "cell_type": "code",
   "execution_count": 47,
   "metadata": {
    "collapsed": true
   },
   "outputs": [],
   "source": [
    "# Use Pearson's chi-squared test\n",
    "chi2,p,dof,ex = scipy.stats.chi2_contingency(ctEmbarkingPort)\n",
    "cV = cramersV(len(df),len(ctEmbarkingPort.index),len(ctEmbarkingPort.columns),chi2)\n",
    "results = [['Item','Value'],\n",
    "           ['Chi-Square Test',chi2],\n",
    "           ['P-Value', p],\n",
    "           ['Degrees of freedom',dof],\n",
    "           ['',''],\n",
    "           ['Cramer\\'s V',cV]]\n",
    "# setting up a nicer looking table.\n",
    "tbl.make_table(results)\n",
    "tbl.set_row_style(0, bold=True);\n",
    "tbl.set_row_style(2,float_format='%0.3E');"
   ]
  },
  {
   "cell_type": "code",
   "execution_count": 48,
   "metadata": {},
   "outputs": [
    {
     "data": {
      "text/html": [
       "<table border=\"1\" cellpadding=\"3\" cellspacing=\"0\"  style=\"border:black; border-collapse:collapse;\"><tr><td  style=\"border-left: 1px solid;border-right: 1px solid;border-top: 1px solid;border-bottom: 1px solid;\"><b>Item</b></td><td  style=\"border-left: 1px solid;border-right: 1px solid;border-top: 1px solid;border-bottom: 1px solid;\"><b>Value</b></td></tr><tr><td  style=\"border-left: 1px solid;border-right: 1px solid;border-top: 1px solid;border-bottom: 1px solid;\">Chi-Square&nbsp;Test</td><td  style=\"border-left: 1px solid;border-right: 1px solid;border-top: 1px solid;border-bottom: 1px solid;\">29.6706</td></tr><tr><td  style=\"border-left: 1px solid;border-right: 1px solid;border-top: 1px solid;border-bottom: 1px solid;\">P-Value</td><td  style=\"border-left: 1px solid;border-right: 1px solid;border-top: 1px solid;border-bottom: 1px solid;\">1.619E-06</td></tr><tr><td  style=\"border-left: 1px solid;border-right: 1px solid;border-top: 1px solid;border-bottom: 1px solid;\">Degrees&nbsp;of&nbsp;freedom</td><td  style=\"border-left: 1px solid;border-right: 1px solid;border-top: 1px solid;border-bottom: 1px solid;\">3</td></tr><tr><td  style=\"border-left: 1px solid;border-right: 1px solid;border-top: 1px solid;border-bottom: 1px solid;\"></td><td  style=\"border-left: 1px solid;border-right: 1px solid;border-top: 1px solid;border-bottom: 1px solid;\"></td></tr><tr><td  style=\"border-left: 1px solid;border-right: 1px solid;border-top: 1px solid;border-bottom: 1px solid;\">Cramer's&nbsp;V</td><td  style=\"border-left: 1px solid;border-right: 1px solid;border-top: 1px solid;border-bottom: 1px solid;\">0.1825</td></tr></table>"
      ],
      "text/plain": [
       "<ipy_table.ipy_table.IpyTable at 0x2702e78d908>"
      ]
     },
     "execution_count": 48,
     "metadata": {},
     "output_type": "execute_result"
    }
   ],
   "source": [
    "tbl.render()"
   ]
  },
  {
   "cell_type": "markdown",
   "metadata": {},
   "source": [
    "With 3 degrees of freedom and a p-value of 0.05 we have $\\chi^{2}$ critical value of 7.815.\n",
    "\n",
    "Our result $\\chi^{2}\\approx30 > 7.815$\n",
    "\n",
    "With a p-value $< 0.05$\n",
    "We have a statistically significant value. \n",
    "\n",
    "A Cramer's V of $\\approx 0.18$ is described as weak and minimally acceptable relationship between Embarking Port and Survival.\n",
    "\n",
    "Hence we reject $H_{0}$ in favour of $H_{a}$.\n",
    "<br>**We find that Embarking Port is statistically significant with weak association to Survival.**"
   ]
  },
  {
   "cell_type": "markdown",
   "metadata": {},
   "source": [
    "***"
   ]
  },
  {
   "cell_type": "markdown",
   "metadata": {},
   "source": [
    "### Testing Ticket Class\n",
    "\n",
    "Our hypothesis:\n",
    "\n",
    "$H_{0}$: Ticket Class and Survival are independent.\n",
    "\n",
    "$H_{a}$: Ticket CLass and Survival are not independent.\n",
    "\n",
    "Using the Chi-square test, we have the following assumptions:\n",
    "- Significance level = 0.05 = p-value.\n",
    "- Degrees of freedom = 2 (3 classes - 1)"
   ]
  },
  {
   "cell_type": "code",
   "execution_count": 49,
   "metadata": {},
   "outputs": [
    {
     "data": {
      "text/html": [
       "<div>\n",
       "<style>\n",
       "    .dataframe thead tr:only-child th {\n",
       "        text-align: right;\n",
       "    }\n",
       "\n",
       "    .dataframe thead th {\n",
       "        text-align: left;\n",
       "    }\n",
       "\n",
       "    .dataframe tbody tr th {\n",
       "        vertical-align: top;\n",
       "    }\n",
       "</style>\n",
       "<table border=\"1\" class=\"dataframe\">\n",
       "  <thead>\n",
       "    <tr style=\"text-align: right;\">\n",
       "      <th>Survival</th>\n",
       "      <th>Died</th>\n",
       "      <th>Survived</th>\n",
       "    </tr>\n",
       "    <tr>\n",
       "      <th>Class</th>\n",
       "      <th></th>\n",
       "      <th></th>\n",
       "    </tr>\n",
       "  </thead>\n",
       "  <tbody>\n",
       "    <tr>\n",
       "      <th>First Class</th>\n",
       "      <td>80</td>\n",
       "      <td>136</td>\n",
       "    </tr>\n",
       "    <tr>\n",
       "      <th>Second Class</th>\n",
       "      <td>97</td>\n",
       "      <td>87</td>\n",
       "    </tr>\n",
       "    <tr>\n",
       "      <th>Third Class</th>\n",
       "      <td>372</td>\n",
       "      <td>119</td>\n",
       "    </tr>\n",
       "  </tbody>\n",
       "</table>\n",
       "</div>"
      ],
      "text/plain": [
       "Survival      Died  Survived\n",
       "Class                       \n",
       "First Class     80       136\n",
       "Second Class    97        87\n",
       "Third Class    372       119"
      ]
     },
     "execution_count": 49,
     "metadata": {},
     "output_type": "execute_result"
    }
   ],
   "source": [
    "# Selecting only the Ticket Class and Survival while counting in each size group\n",
    "ctClass = df[['Class','Survival']].groupby(['Class','Survival']).size().unstack()\n",
    "ctClass"
   ]
  },
  {
   "cell_type": "code",
   "execution_count": 50,
   "metadata": {
    "scrolled": false
   },
   "outputs": [
    {
     "data": {
      "text/html": [
       "<div id=\"dfcc0fa8_5e8a_4b19_b65c_d4eb82a23e52\"><div id=\"dfcc0fa8_5e8a_4b19_b65c_d4eb82a23e52container_chart\"></div></div><script>\n",
       "    // the Jupyter notebook loads jquery.min.js  and require.js and at the top of the page\n",
       "    // then to make jquery available inside a require module\n",
       "    // the trick is http://www.manuel-strehl.de/dev/load_jquery_before_requirejs.en.html\n",
       "    define('jquery', [], function() {\n",
       "        return jQuery;\n",
       "    });\n",
       "\n",
       "    require([\"jquery\", \"http://code.highcharts.com/stock/highstock.js\", \"http://d3js.org/d3.v3.min.js\"], function() {\n",
       "        require([\"https://cdn.datatables.net/1.10.10/js/jquery.dataTables.min.js\", \"http://code.highcharts.com/stock/highcharts-more.js\", \"http://code.highcharts.com/modules/drilldown.js\", \"http://code.highcharts.com/modules/exporting.js\", \"http://code.highcharts.com/modules/heatmap.js\", \"http://code.highcharts.com/modules/treemap.js\", \"http://highcharts.github.io/export-csv/export-csv.js\"], function() {\n",
       "            \n",
       "    var options = {\"credits\":{\"enabled\":false},\"exporting\":{\"enabled\":true},\"chart\":{\"animation\":false,\"type\":\"column\",\"renderTo\":\"dfcc0fa8_5e8a_4b19_b65c_d4eb82a23e52container_chart\"},\"series\":[{\"name\":\"Died\",\"yAxis\":0,\"data\":[[\"First Class\",80],[\"Second Class\",97],[\"Third Class\",372]],\"color\":\"black\"},{\"name\":\"Survived\",\"yAxis\":0,\"data\":[[\"First Class\",136],[\"Second Class\",87],[\"Third Class\",119]],\"color\":\"green\"}],\"plotOptions\":{\"series\":{\"animation\":false},\"line\":{\"animation\":false},\"column\":{\"animation\":false,\"stacking\":\"percent\",\"showInLegend\":true},\"bar\":{\"animation\":false},\"pie\":{\"animation\":false},\"scatter\":{\"animation\":false},\"bubble\":{\"animation\":false},\"treemap\":{\"animation\":false}},\"yAxis\":{\"title\":{\"text\":\"<b>Percentage<\\/b>\"},\"labels\":{\"format\":\"{value}%\"}},\"xAxis\":{\"title\":{\"text\":\"<b>Ticket Class<\\/b>\"},\"categories\":[\"First Class\",\"Second Class\",\"Third Class\"]},\"tooltip\":{\"headerFormat\":\"\",\"pointFormat\":\"<span style=\\\"color:{series.color}\\\">{series.name}<\\/span>: <b>{point.y}<\\/b> ({point.percentage:.1f}%)<br\\/>\",\"shared\":\"True\"},\"title\":{\"text\":\"Survival by Ticket Class\"}};\n",
       "    options = JSON.stringify(options);\n",
       "\n",
       "options = JSON.parse(options, function(key, value) {\n",
       "\n",
       "    if (value && (typeof value===\"string\")) {\n",
       "\n",
       "                var check1 = (value.replace(/\\s+/g, '').replace(/\\r?\\n|\\r/g, '').substr(0,8) == \"function\"),\n",
       "            check2 = (value.replace(/\\s+/g, '').replace(/\\r?\\n|\\r/g, '').substr(0,9) == \"(function\");\n",
       "\n",
       "        if (check1) {\n",
       "            var startBody = value.indexOf('{') + 1;\n",
       "            var endBody = value.lastIndexOf('}');\n",
       "            var startArgs = value.indexOf('(') + 1;\n",
       "            var endArgs = value.indexOf(')');\n",
       "\n",
       "            return new Function(value.substring(startArgs, endArgs),\n",
       "                                value.substring(startBody, endBody));\n",
       "        }\n",
       "        if (check2) {\n",
       "            return eval(value);\n",
       "        }\n",
       "\n",
       "\n",
       "    }\n",
       "\n",
       "    return value;\n",
       "});\n",
       "\n",
       "    \n",
       "\n",
       "    var opt = $.extend(true, {}, options);\n",
       "    if (window.opts==undefined) {\n",
       "        window.opts = {};\n",
       "    }\n",
       "    window.opts['dfcc0fa8_5e8a_4b19_b65c_d4eb82a23e52'] = opt;\n",
       "\n",
       "    console.log('Highcharts/Highstock options accessible as opts[\"dfcc0fa8_5e8a_4b19_b65c_d4eb82a23e52\"]');\n",
       "    \n",
       "            \n",
       "            window.chart = new Highcharts.Chart(options);\n",
       "            \n",
       "    console.log('Highcharts/Highstock chart accessible as charts[\"dfcc0fa8_5e8a_4b19_b65c_d4eb82a23e52\"]');\n",
       "    \n",
       "        });\n",
       "    });\n",
       "    </script>"
      ],
      "text/plain": [
       "<IPython.core.display.HTML object>"
      ]
     },
     "execution_count": 50,
     "metadata": {},
     "output_type": "execute_result"
    }
   ],
   "source": [
    "# Ticket Class visualised.\n",
    "g = hc.Highcharts()\n",
    "\n",
    "g.chart.type = 'column'\n",
    "g.yAxis.title.text = '<b>Percentage</b>'\n",
    "g.yAxis.labels.format = '{value}%'\n",
    "g.xAxis.title.text = '<b>Ticket Class</b>'\n",
    "g.xAxis.categories = list(ctClass.index)\n",
    "# g.chart.height = 400\n",
    "# g.tooltip.headerFormat = '<b>{series.name}</b><br>'\n",
    "g.tooltip.headerFormat = ''\n",
    "# g.tooltip.pointFormat = '<b>{series.name}</b>: {point.percentage:.1f}%'\n",
    "g.tooltip.pointFormat = '<span style=\"color:{series.color}\">{series.name}</span>: <b>{point.y}</b> ({point.percentage:.1f}%)<br/>'\n",
    "g.tooltip.shared = 'True'\n",
    "gpo = g.plotOptions.column\n",
    "gpo.stacking = 'percent'\n",
    "# gpo.pointPadding = 0\n",
    "# gpo.borderWidth = 1\n",
    "gpo.showInLegend = True\n",
    "# gpo.dataLabels.format = '{point.name}: {point.percentage:.1f}%'\n",
    "\n",
    "# gpo.colors = ['#058DC7', '#50B432', '#33333']\n",
    "# gpo.colorByPoint = True\n",
    "# g.plotOptions.series.colorByPoint = True\n",
    "\n",
    "\n",
    "g.title.text = 'Survival by Ticket Class'\n",
    "g.series = hc.build.series(ctClass, color={'Died': 'black', 'Survived': 'green'})\n",
    "\n",
    "\n",
    "g.plot()"
   ]
  },
  {
   "cell_type": "markdown",
   "metadata": {},
   "source": [
    "We see a clear decline in Survival with decline in Ticket Class. Survival for First Class is 63%, Second Class is 47.3% and Third Class is 24.2%."
   ]
  },
  {
   "cell_type": "code",
   "execution_count": 51,
   "metadata": {
    "collapsed": true
   },
   "outputs": [],
   "source": [
    "# Use Pearson's chi-squared test\n",
    "chi2,p,dof,ex = scipy.stats.chi2_contingency(ctClass)\n",
    "cV = cramersV(len(df),len(ctClass.index),len(ctClass.columns),chi2)\n",
    "results = [['Item','Value'],\n",
    "           ['Chi-Square Test',chi2],\n",
    "           ['P-Value', p],\n",
    "           ['Degrees of freedom',dof],\n",
    "           ['',''],\n",
    "           ['Cramer\\'s V',cV]]\n",
    "# setting up a nicer looking table.\n",
    "tbl.make_table(results)\n",
    "tbl.set_row_style(0, bold=True);\n",
    "tbl.set_row_style(2,float_format='%0.3E');"
   ]
  },
  {
   "cell_type": "code",
   "execution_count": 52,
   "metadata": {},
   "outputs": [
    {
     "data": {
      "text/html": [
       "<table border=\"1\" cellpadding=\"3\" cellspacing=\"0\"  style=\"border:black; border-collapse:collapse;\"><tr><td  style=\"border-left: 1px solid;border-right: 1px solid;border-top: 1px solid;border-bottom: 1px solid;\"><b>Item</b></td><td  style=\"border-left: 1px solid;border-right: 1px solid;border-top: 1px solid;border-bottom: 1px solid;\"><b>Value</b></td></tr><tr><td  style=\"border-left: 1px solid;border-right: 1px solid;border-top: 1px solid;border-bottom: 1px solid;\">Chi-Square&nbsp;Test</td><td  style=\"border-left: 1px solid;border-right: 1px solid;border-top: 1px solid;border-bottom: 1px solid;\">102.8890</td></tr><tr><td  style=\"border-left: 1px solid;border-right: 1px solid;border-top: 1px solid;border-bottom: 1px solid;\">P-Value</td><td  style=\"border-left: 1px solid;border-right: 1px solid;border-top: 1px solid;border-bottom: 1px solid;\">4.549E-23</td></tr><tr><td  style=\"border-left: 1px solid;border-right: 1px solid;border-top: 1px solid;border-bottom: 1px solid;\">Degrees&nbsp;of&nbsp;freedom</td><td  style=\"border-left: 1px solid;border-right: 1px solid;border-top: 1px solid;border-bottom: 1px solid;\">2</td></tr><tr><td  style=\"border-left: 1px solid;border-right: 1px solid;border-top: 1px solid;border-bottom: 1px solid;\"></td><td  style=\"border-left: 1px solid;border-right: 1px solid;border-top: 1px solid;border-bottom: 1px solid;\"></td></tr><tr><td  style=\"border-left: 1px solid;border-right: 1px solid;border-top: 1px solid;border-bottom: 1px solid;\">Cramer's&nbsp;V</td><td  style=\"border-left: 1px solid;border-right: 1px solid;border-top: 1px solid;border-bottom: 1px solid;\">0.3398</td></tr></table>"
      ],
      "text/plain": [
       "<ipy_table.ipy_table.IpyTable at 0x27034ad3780>"
      ]
     },
     "execution_count": 52,
     "metadata": {},
     "output_type": "execute_result"
    }
   ],
   "source": [
    "tbl.render()"
   ]
  },
  {
   "cell_type": "markdown",
   "metadata": {},
   "source": [
    "With 2 degrees of freedom and a p-value of 0.05 we have $\\chi^{2}$ critical value of 5.991.\n",
    "\n",
    "Our result $\\chi^{2}\\approx103 > 5.991$\n",
    "\n",
    "With a p-value $< 0.05$\n",
    "We have a statistically significant value. \n",
    "\n",
    "A Cramer's V of $\\approx 0.33$ is described as strong and very desirable relationship between Ticket Class and Survival.\n",
    "\n",
    "Hence we reject $H_{0}$ in favour of $H_{a}$.\n",
    "<br>**We find that Ticket Class is statistically significant with strong association to Survival.**"
   ]
  },
  {
   "cell_type": "markdown",
   "metadata": {},
   "source": [
    "***"
   ]
  },
  {
   "cell_type": "markdown",
   "metadata": {},
   "source": [
    "### Testing Fare Paid\n",
    "\n",
    "We use Logistic Regression to test if the fare paid for a ticket is a good indicator of survival. A logistic regression is typically used as a predictive model, but in our case we will use it measure the determine how good a predictor Fare Paid is on Survival. Our metric for measurement will be the F1-Score."
   ]
  },
  {
   "cell_type": "code",
   "execution_count": 53,
   "metadata": {
    "scrolled": true
   },
   "outputs": [
    {
     "data": {
      "text/html": [
       "<div>\n",
       "<style>\n",
       "    .dataframe thead tr:only-child th {\n",
       "        text-align: right;\n",
       "    }\n",
       "\n",
       "    .dataframe thead th {\n",
       "        text-align: left;\n",
       "    }\n",
       "\n",
       "    .dataframe tbody tr th {\n",
       "        vertical-align: top;\n",
       "    }\n",
       "</style>\n",
       "<table border=\"1\" class=\"dataframe\">\n",
       "  <thead>\n",
       "    <tr style=\"text-align: right;\">\n",
       "      <th>Survival</th>\n",
       "      <th>Died</th>\n",
       "      <th>Survived</th>\n",
       "    </tr>\n",
       "    <tr>\n",
       "      <th>FarePaid</th>\n",
       "      <th></th>\n",
       "      <th></th>\n",
       "    </tr>\n",
       "  </thead>\n",
       "  <tbody>\n",
       "    <tr>\n",
       "      <th>0.0000</th>\n",
       "      <td>14.0</td>\n",
       "      <td>1.0</td>\n",
       "    </tr>\n",
       "    <tr>\n",
       "      <th>4.0125</th>\n",
       "      <td>1.0</td>\n",
       "      <td>NaN</td>\n",
       "    </tr>\n",
       "    <tr>\n",
       "      <th>5.0000</th>\n",
       "      <td>1.0</td>\n",
       "      <td>NaN</td>\n",
       "    </tr>\n",
       "    <tr>\n",
       "      <th>6.2375</th>\n",
       "      <td>1.0</td>\n",
       "      <td>NaN</td>\n",
       "    </tr>\n",
       "    <tr>\n",
       "      <th>6.4375</th>\n",
       "      <td>1.0</td>\n",
       "      <td>NaN</td>\n",
       "    </tr>\n",
       "  </tbody>\n",
       "</table>\n",
       "</div>"
      ],
      "text/plain": [
       "Survival  Died  Survived\n",
       "FarePaid                \n",
       "0.0000    14.0       1.0\n",
       "4.0125     1.0       NaN\n",
       "5.0000     1.0       NaN\n",
       "6.2375     1.0       NaN\n",
       "6.4375     1.0       NaN"
      ]
     },
     "execution_count": 53,
     "metadata": {},
     "output_type": "execute_result"
    }
   ],
   "source": [
    "# Selecting only the Ticket Class and Survival while counting in each size group\n",
    "ctFarePaid = df[['FarePaid','Survival']].groupby(['FarePaid','Survival']).size().unstack()#(fill_value=0)\n",
    "ctFarePaid.head()"
   ]
  },
  {
   "cell_type": "markdown",
   "metadata": {},
   "source": [
    "This contingency table is not grouped so there are many values, above are only the first 5."
   ]
  },
  {
   "cell_type": "code",
   "execution_count": 54,
   "metadata": {},
   "outputs": [
    {
     "data": {
      "text/html": [
       "<div id=\"9f42d22d_990f_4492_b3a4_d94b68403939\"><div id=\"9f42d22d_990f_4492_b3a4_d94b68403939container_chart\"></div></div><script>\n",
       "    // the Jupyter notebook loads jquery.min.js  and require.js and at the top of the page\n",
       "    // then to make jquery available inside a require module\n",
       "    // the trick is http://www.manuel-strehl.de/dev/load_jquery_before_requirejs.en.html\n",
       "    define('jquery', [], function() {\n",
       "        return jQuery;\n",
       "    });\n",
       "\n",
       "    require([\"jquery\", \"http://code.highcharts.com/stock/highstock.js\", \"http://d3js.org/d3.v3.min.js\"], function() {\n",
       "        require([\"https://cdn.datatables.net/1.10.10/js/jquery.dataTables.min.js\", \"http://code.highcharts.com/stock/highcharts-more.js\", \"http://code.highcharts.com/modules/drilldown.js\", \"http://code.highcharts.com/modules/exporting.js\", \"http://code.highcharts.com/modules/heatmap.js\", \"http://code.highcharts.com/modules/treemap.js\", \"http://highcharts.github.io/export-csv/export-csv.js\"], function() {\n",
       "            \n",
       "    var options = {\"credits\":{\"enabled\":false},\"exporting\":{\"enabled\":true},\"chart\":{\"animation\":false,\"type\":\"scatter\",\"zoomType\":\"xy\",\"renderTo\":\"9f42d22d_990f_4492_b3a4_d94b68403939container_chart\"},\"series\":[{\"name\":\"Died\",\"yAxis\":0,\"data\":[[0.0,14.0],[4.0125,1.0],[5.0,1.0],[6.2375,1.0],[6.4375,1.0],[6.45,1.0],[6.4958,2.0],[6.75,2.0],[6.8583,1.0],[6.95,1.0],[6.975,1.0],[7.0458,1.0],[7.05,7.0],[7.0542,2.0],[7.125,4.0],[7.1417,null],[7.225,9.0],[7.2292,11.0],[7.25,12.0],[7.3125,1.0],[7.4958,2.0],[7.5208,1.0],[7.55,3.0],[7.6292,1.0],[7.65,3.0],[7.725,1.0],[7.7292,1.0],[7.7333,2.0],[7.7375,1.0],[7.7417,1.0],[7.75,22.0],[7.775,13.0],[7.7875,null],[7.7958,4.0],[7.8,1.0],[7.8292,1.0],[7.8542,10.0],[7.875,1.0],[7.8792,null],[7.8875,1.0],[7.8958,37.0],[7.925,10.0],[8.0292,null],[8.05,38.0],[8.1125,null],[8.1375,1.0],[8.1583,1.0],[8.3,1.0],[8.3625,1.0],[8.4042,1.0],[8.4333,1.0],[8.4583,1.0],[8.5167,null],[8.6542,1.0],[8.6625,12.0],[8.6833,null],[8.7125,1.0],[8.85,1.0],[9.0,2.0],[9.2167,1.0],[9.225,2.0],[9.35,1.0],[9.475,1.0],[9.4833,1.0],[9.5,7.0],[9.5875,1.0],[9.825,2.0],[9.8375,1.0],[9.8417,null],[9.8458,1.0],[10.1708,1.0],[10.4625,2.0],[10.5,15.0],[10.5167,1.0],[11.1333,null],[11.2417,null],[11.5,4.0],[12.0,null],[12.275,1.0],[12.2875,null],[12.35,1.0],[12.475,null],[12.525,1.0],[12.65,null],[12.875,1.0],[13.0,26.0],[13.4167,null],[13.5,3.0],[13.7917,null],[13.8583,null],[13.8625,null],[14.0,1.0],[14.1083,1.0],[14.4,2.0],[14.4542,6.0],[14.4583,3.0],[14.5,5.0],[15.0,1.0],[15.0458,1.0],[15.05,1.0],[15.1,1.0],[15.2458,2.0],[15.5,5.0],[15.55,1.0],[15.7417,null],[15.75,null],[15.85,2.0],[15.9,null],[16.0,null],[16.1,7.0],[16.7,null],[17.4,null],[17.8,2.0],[18.0,3.0],[18.75,null],[18.7875,1.0],[19.2583,null],[19.5,null],[19.9667,2.0],[20.2125,2.0],[20.25,1.0],[20.525,1.0],[20.575,1.0],[21.0,4.0],[21.075,4.0],[21.6792,1.0],[22.025,null],[22.3583,null],[22.525,1.0],[23.0,null],[23.25,null],[23.45,2.0],[24.0,1.0],[24.15,7.0],[25.4667,4.0],[25.5875,1.0],[25.925,1.0],[25.9292,null],[26.0,16.0],[26.25,2.0],[26.2833,null],[26.2875,null],[26.3875,null],[26.55,7.0],[27.0,1.0],[27.7208,4.0],[27.75,2.0],[27.9,6.0],[28.5,1.0],[28.7125,1.0],[29.0,null],[29.125,5.0],[29.7,2.0],[30.0,1.0],[30.0708,1.0],[30.5,1.0],[30.6958,2.0],[31.0,1.0],[31.275,7.0],[31.3875,1.0],[32.3208,1.0],[32.5,null],[33.0,1.0],[33.5,1.0],[34.0208,1.0],[34.375,4.0],[34.6542,1.0],[35.0,1.0],[35.5,1.0],[36.75,1.0],[37.0042,1.0],[38.5,1.0],[39.0,1.0],[39.4,null],[39.6,1.0],[39.6875,6.0],[40.125,1.0],[41.5792,1.0],[42.4,1.0],[46.9,6.0],[47.1,1.0],[49.5,null],[49.5042,1.0],[50.0,1.0],[50.4958,1.0],[51.4792,null],[51.8625,1.0],[52.0,4.0],[52.5542,null],[53.1,2.0],[55.0,null],[55.4417,null],[55.9,1.0],[56.4958,2.0],[56.9292,null],[57.0,null],[57.9792,null],[59.4,null],[61.175,1.0],[61.3792,1.0],[61.9792,1.0],[63.3583,null],[65.0,null],[66.6,1.0],[69.3,null],[69.55,7.0],[71.0,1.0],[71.2833,null],[73.5,5.0],[75.25,null],[76.2917,null],[76.7292,null],[77.2875,2.0],[77.9583,null],[78.2667,null],[78.85,1.0],[79.2,2.0],[79.65,1.0],[80.0,null],[81.8583,null],[82.1708,1.0],[83.1583,null],[83.475,1.0],[86.5,null],[89.1042,null],[90.0,1.0],[91.0792,null],[93.5,null],[106.425,1.0],[108.9,1.0],[110.8833,1.0],[113.275,1.0],[120.0,null],[133.65,null],[134.5,null],[135.6333,1.0],[146.5208,null],[151.55,2.0],[153.4625,1.0],[164.8667,null],[211.3375,null],[211.5,1.0],[221.7792,1.0],[227.525,1.0],[247.5208,1.0],[262.375,null],[263.0,2.0],[512.3292,null]],\"color\":\"rgba(0,0,0,0.7)\"},{\"name\":\"Survived\",\"yAxis\":0,\"data\":[[0.0,1.0],[4.0125,null],[5.0,null],[6.2375,null],[6.4375,null],[6.45,null],[6.4958,null],[6.75,null],[6.8583,null],[6.95,null],[6.975,1.0],[7.0458,null],[7.05,null],[7.0542,null],[7.125,null],[7.1417,1.0],[7.225,3.0],[7.2292,4.0],[7.25,1.0],[7.3125,null],[7.4958,1.0],[7.5208,null],[7.55,1.0],[7.6292,null],[7.65,1.0],[7.725,null],[7.7292,null],[7.7333,2.0],[7.7375,1.0],[7.7417,null],[7.75,12.0],[7.775,3.0],[7.7875,1.0],[7.7958,2.0],[7.8,null],[7.8292,1.0],[7.8542,3.0],[7.875,null],[7.8792,4.0],[7.8875,null],[7.8958,1.0],[7.925,8.0],[8.0292,1.0],[8.05,5.0],[8.1125,1.0],[8.1375,null],[8.1583,null],[8.3,null],[8.3625,null],[8.4042,null],[8.4333,null],[8.4583,null],[8.5167,1.0],[8.6542,null],[8.6625,1.0],[8.6833,1.0],[8.7125,null],[8.85,null],[9.0,null],[9.2167,null],[9.225,null],[9.35,1.0],[9.475,null],[9.4833,null],[9.5,2.0],[9.5875,1.0],[9.825,null],[9.8375,null],[9.8417,1.0],[9.8458,null],[10.1708,null],[10.4625,null],[10.5,9.0],[10.5167,null],[11.1333,3.0],[11.2417,2.0],[11.5,null],[12.0,1.0],[12.275,null],[12.2875,1.0],[12.35,2.0],[12.475,4.0],[12.525,null],[12.65,1.0],[12.875,null],[13.0,16.0],[13.4167,1.0],[13.5,1.0],[13.7917,1.0],[13.8583,1.0],[13.8625,1.0],[14.0,null],[14.1083,null],[14.4,null],[14.4542,1.0],[14.4583,null],[14.5,2.0],[15.0,null],[15.0458,null],[15.05,null],[15.1,null],[15.2458,3.0],[15.5,3.0],[15.55,null],[15.7417,2.0],[15.75,1.0],[15.85,2.0],[15.9,2.0],[16.0,1.0],[16.1,2.0],[16.7,2.0],[17.4,1.0],[17.8,null],[18.0,null],[18.75,3.0],[18.7875,1.0],[19.2583,4.0],[19.5,2.0],[19.9667,null],[20.2125,null],[20.25,1.0],[20.525,2.0],[20.575,1.0],[21.0,2.0],[21.075,null],[21.6792,null],[22.025,1.0],[22.3583,2.0],[22.525,null],[23.0,4.0],[23.25,2.0],[23.45,null],[24.0,1.0],[24.15,1.0],[25.4667,null],[25.5875,null],[25.925,null],[25.9292,2.0],[26.0,15.0],[26.25,4.0],[26.2833,1.0],[26.2875,3.0],[26.3875,1.0],[26.55,8.0],[27.0,1.0],[27.7208,1.0],[27.75,2.0],[27.9,null],[28.5,null],[28.7125,null],[29.0,2.0],[29.125,null],[29.7,1.0],[30.0,5.0],[30.0708,1.0],[30.5,4.0],[30.6958,null],[31.0,2.0],[31.275,null],[31.3875,3.0],[32.3208,null],[32.5,1.0],[33.0,2.0],[33.5,null],[34.0208,null],[34.375,null],[34.6542,null],[35.0,null],[35.5,3.0],[36.75,1.0],[37.0042,1.0],[38.5,null],[39.0,3.0],[39.4,1.0],[39.6,1.0],[39.6875,null],[40.125,null],[41.5792,2.0],[42.4,null],[46.9,null],[47.1,null],[49.5,1.0],[49.5042,1.0],[50.0,null],[50.4958,null],[51.4792,1.0],[51.8625,1.0],[52.0,3.0],[52.5542,3.0],[53.1,3.0],[55.0,2.0],[55.4417,1.0],[55.9,1.0],[56.4958,5.0],[56.9292,2.0],[57.0,2.0],[57.9792,2.0],[59.4,1.0],[61.175,null],[61.3792,null],[61.9792,null],[63.3583,1.0],[65.0,2.0],[66.6,1.0],[69.3,2.0],[69.55,null],[71.0,1.0],[71.2833,1.0],[73.5,null],[75.25,1.0],[76.2917,1.0],[76.7292,3.0],[77.2875,null],[77.9583,3.0],[78.2667,2.0],[78.85,1.0],[79.2,2.0],[79.65,2.0],[80.0,2.0],[81.8583,1.0],[82.1708,1.0],[83.1583,3.0],[83.475,1.0],[86.5,3.0],[89.1042,2.0],[90.0,3.0],[91.0792,2.0],[93.5,2.0],[106.425,1.0],[108.9,1.0],[110.8833,3.0],[113.275,2.0],[120.0,4.0],[133.65,2.0],[134.5,2.0],[135.6333,2.0],[146.5208,2.0],[151.55,2.0],[153.4625,2.0],[164.8667,2.0],[211.3375,3.0],[211.5,null],[221.7792,null],[227.525,3.0],[247.5208,1.0],[262.375,2.0],[263.0,2.0],[512.3292,3.0]],\"color\":\"rgba(0,128,0,0.7)\"}],\"plotOptions\":{\"series\":{\"animation\":false},\"line\":{\"animation\":false},\"column\":{\"animation\":false},\"bar\":{\"animation\":false},\"pie\":{\"animation\":false},\"scatter\":{\"animation\":false,\"showInLegend\":true},\"bubble\":{\"animation\":false},\"treemap\":{\"animation\":false}},\"yAxis\":{\"title\":{\"text\":\"<b>Frequency<\\/b>\"},\"labels\":{\"format\":\"{value}\"}},\"xAxis\":{\"title\":{\"text\":\"<b>Fair Paid<\\/b>\"},\"labels\":{\"format\":\"\\u00a3{value:.1f}\"},\"categories\":[0.0,4.0125,5.0,6.2375,6.4375,6.45,6.4958,6.75,6.8583,6.95,6.975,7.0458,7.05,7.0542,7.125,7.1417,7.225,7.2292,7.25,7.3125,7.4958,7.5208,7.55,7.6292,7.65,7.725,7.7292,7.7333,7.7375,7.7417,7.75,7.775,7.7875,7.7958,7.8,7.8292,7.8542,7.875,7.8792,7.8875,7.8958,7.925,8.0292,8.05,8.1125,8.1375,8.1583,8.3,8.3625,8.4042,8.4333,8.4583,8.5167,8.6542,8.6625,8.6833,8.7125,8.85,9.0,9.2167,9.225,9.35,9.475,9.4833,9.5,9.5875,9.825,9.8375,9.8417,9.8458,10.1708,10.4625,10.5,10.5167,11.1333,11.2417,11.5,12.0,12.275,12.2875,12.35,12.475,12.525,12.65,12.875,13.0,13.4167,13.5,13.7917,13.8583,13.8625,14.0,14.1083,14.4,14.4542,14.4583,14.5,15.0,15.0458,15.05,15.1,15.2458,15.5,15.55,15.7417,15.75,15.85,15.9,16.0,16.1,16.7,17.4,17.8,18.0,18.75,18.7875,19.2583,19.5,19.9667,20.2125,20.25,20.525,20.575,21.0,21.075,21.6792,22.025,22.3583,22.525,23.0,23.25,23.45,24.0,24.15,25.4667,25.5875,25.925,25.9292,26.0,26.25,26.2833,26.2875,26.3875,26.55,27.0,27.7208,27.75,27.9,28.5,28.7125,29.0,29.125,29.7,30.0,30.0708,30.5,30.6958,31.0,31.275,31.3875,32.3208,32.5,33.0,33.5,34.0208,34.375,34.6542,35.0,35.5,36.75,37.0042,38.5,39.0,39.4,39.6,39.6875,40.125,41.5792,42.4,46.9,47.1,49.5,49.5042,50.0,50.4958,51.4792,51.8625,52.0,52.5542,53.1,55.0,55.4417,55.9,56.4958,56.9292,57.0,57.9792,59.4,61.175,61.3792,61.9792,63.3583,65.0,66.6,69.3,69.55,71.0,71.2833,73.5,75.25,76.2917,76.7292,77.2875,77.9583,78.2667,78.85,79.2,79.65,80.0,81.8583,82.1708,83.1583,83.475,86.5,89.1042,90.0,91.0792,93.5,106.425,108.9,110.8833,113.275,120.0,133.65,134.5,135.6333,146.5208,151.55,153.4625,164.8667,211.3375,211.5,221.7792,227.525,247.5208,262.375,263.0,512.3292]},\"tooltip\":{\"headerFormat\":\"<b>{series.name}<\\/b><br>\",\"pointFormat\":\"\\u00a3{point.x:.2f}, Frequency {point.y}\"},\"title\":{\"text\":\"Survival by Fare Paid\"},\"subtitle\":{\"text\":\"(drag-select to zoom)\"}};\n",
       "    options = JSON.stringify(options);\n",
       "\n",
       "options = JSON.parse(options, function(key, value) {\n",
       "\n",
       "    if (value && (typeof value===\"string\")) {\n",
       "\n",
       "                var check1 = (value.replace(/\\s+/g, '').replace(/\\r?\\n|\\r/g, '').substr(0,8) == \"function\"),\n",
       "            check2 = (value.replace(/\\s+/g, '').replace(/\\r?\\n|\\r/g, '').substr(0,9) == \"(function\");\n",
       "\n",
       "        if (check1) {\n",
       "            var startBody = value.indexOf('{') + 1;\n",
       "            var endBody = value.lastIndexOf('}');\n",
       "            var startArgs = value.indexOf('(') + 1;\n",
       "            var endArgs = value.indexOf(')');\n",
       "\n",
       "            return new Function(value.substring(startArgs, endArgs),\n",
       "                                value.substring(startBody, endBody));\n",
       "        }\n",
       "        if (check2) {\n",
       "            return eval(value);\n",
       "        }\n",
       "\n",
       "\n",
       "    }\n",
       "\n",
       "    return value;\n",
       "});\n",
       "\n",
       "    \n",
       "\n",
       "    var opt = $.extend(true, {}, options);\n",
       "    if (window.opts==undefined) {\n",
       "        window.opts = {};\n",
       "    }\n",
       "    window.opts['9f42d22d_990f_4492_b3a4_d94b68403939'] = opt;\n",
       "\n",
       "    console.log('Highcharts/Highstock options accessible as opts[\"9f42d22d_990f_4492_b3a4_d94b68403939\"]');\n",
       "    \n",
       "            \n",
       "            window.chart = new Highcharts.Chart(options);\n",
       "            \n",
       "    console.log('Highcharts/Highstock chart accessible as charts[\"9f42d22d_990f_4492_b3a4_d94b68403939\"]');\n",
       "    \n",
       "        });\n",
       "    });\n",
       "    </script>"
      ],
      "text/plain": [
       "<IPython.core.display.HTML object>"
      ]
     },
     "execution_count": 54,
     "metadata": {},
     "output_type": "execute_result"
    }
   ],
   "source": [
    "# Scatter of Fare Paid vs Survival\n",
    "g = hc.Highcharts()\n",
    "\n",
    "g.chart.type = 'scatter'\n",
    "g.chart.zoomType = 'xy'\n",
    "g.yAxis.title.text = '<b>Frequency</b>'\n",
    "g.yAxis.labels.format = '{value}'\n",
    "g.xAxis.title.text = '<b>Fair Paid</b>'\n",
    "g.xAxis.labels.format = '£{value:.1f}'\n",
    "g.xAxis.categories = list(ctFarePaid.index)\n",
    "# g.chart.height = 400\n",
    "g.tooltip.headerFormat = '<b>{series.name}</b><br>'\n",
    "# g.tooltip.headerFormat = ''\n",
    "g.tooltip.pointFormat = '£{point.x:.2f}, Frequency {point.y}'\n",
    "# g.tooltip.pointFormat = '<span style=\"color:{series.color}\">{series.name}</span>: <b>{point.y}</b> ({point.percentage:.1f}%)<br/>'\n",
    "# g.tooltip.shared = 'True'\n",
    "gpo = g.plotOptions.scatter\n",
    "# gpo.stacking = 'percent'\n",
    "gpo.showInLegend = True\n",
    "# gpo.dataLabels.format = '{point.name}: {point.percentage:.1f}%'\n",
    "\n",
    "# gpo.colors = ['#058DC7', '#50B432']\n",
    "# gpo.colorByPoint = True\n",
    "# g.plotOptions.series.colorByPoint = True\n",
    "\n",
    "\n",
    "g.title.text = 'Survival by Fare Paid'\n",
    "g.subtitle.text = '(drag-select to zoom)'\n",
    "# g.series.marker.fillOpacity = '0.2'\n",
    "g.series = hc.build.series(ctFarePaid, color={'Died': 'rgba(0,0,0,0.7)', 'Survived': 'rgba(0,128,0,0.7)'})\n",
    "\n",
    "\n",
    "g.plot()"
   ]
  },
  {
   "cell_type": "markdown",
   "metadata": {},
   "source": [
    "Visually the scatterplot looks similar for survivors and the deceased. Toggle survival and zoom for more details."
   ]
  },
  {
   "cell_type": "code",
   "execution_count": 55,
   "metadata": {},
   "outputs": [
    {
     "data": {
      "image/png": "[encoded data removed]",
      "text/plain": [
       "<matplotlib.figure.Figure at 0x2702e78d2b0>"
      ]
     },
     "metadata": {},
     "output_type": "display_data"
    }
   ],
   "source": [
    "# Logistic regression visual\n",
    "plt.figure(figsize=(10,8))\n",
    "sns.regplot(data=df[['FarePaid','Survived']],x='FarePaid',y='Survived',logistic=True,y_jitter=0.02);"
   ]
  },
  {
   "cell_type": "markdown",
   "metadata": {},
   "source": [
    "The plot of the logistic regression also shows the same pattern. I've added some jitter so we can more easily gauge density.\n",
    "\n",
    "Below are the results of the test."
   ]
  },
  {
   "cell_type": "code",
   "execution_count": 56,
   "metadata": {},
   "outputs": [
    {
     "data": {
      "text/plain": [
       "LogisticRegression(C=1.0, class_weight=None, dual=False, fit_intercept=True,\n",
       "          intercept_scaling=1, max_iter=100, multi_class='ovr', n_jobs=1,\n",
       "          penalty='l2', random_state=None, solver='liblinear', tol=0.0001,\n",
       "          verbose=0, warm_start=False)"
      ]
     },
     "execution_count": 56,
     "metadata": {},
     "output_type": "execute_result"
    }
   ],
   "source": [
    "# For a single independent variable (FarePaid is only 1 column), \n",
    "#we must use reshape to ensure the fit() function can accept it as input\n",
    "X = df['FarePaid'].values.reshape(-1, 1)\n",
    "y = df['Survival'].values\n",
    "\n",
    "# Splitting the data, 25% will be testing data and the other 75% will be training data\n",
    "X_train, X_test, y_train, y_test = train_test_split(X, y, test_size = .25, random_state=1)\n",
    "\n",
    "# Running the regression\n",
    "LogReg = LogisticRegression()\n",
    "LogReg.fit(X_train, y_train)\n",
    "\n",
    "# Generate our predicted values\n",
    "y_pred = LogReg.predict(X_test)"
   ]
  },
  {
   "cell_type": "markdown",
   "metadata": {},
   "source": [
    "To interpret our results we'll start with a confusion matrix. Below is the template of ours where we assign Survived as Positive."
   ]
  },
  {
   "cell_type": "code",
   "execution_count": 57,
   "metadata": {
    "collapsed": true
   },
   "outputs": [],
   "source": [
    "# Typical Confusion Matrix\n",
    "# Assigning Survived as True\n",
    "tcm = [['Actual (row) / Predicted (col)','Died', 'Survived'],\n",
    "      ['Died','True Negative','False Positive'],\n",
    "      ['Survived','False Negative','True Positive']]\n",
    "tbl.make_table(tcm)\n",
    "tbl.set_global_style(align='center')\n",
    "tbl.set_row_style(0, bold=True)\n",
    "tbl.set_column_style(0, bold=True);\n",
    "# tbl.set_cell_style(1,1, column_span=2);\n",
    "# tbl.set_cell_style(0, 0, width=50,wrap=True);\n",
    "# tbl.set_row_style(2,float_format='%0.3E');"
   ]
  },
  {
   "cell_type": "code",
   "execution_count": 58,
   "metadata": {},
   "outputs": [
    {
     "data": {
      "text/html": [
       "<table border=\"1\" cellpadding=\"3\" cellspacing=\"0\"  style=\"border:black; border-collapse:collapse;\"><tr><td  style=\"border-left: 1px solid;border-right: 1px solid;border-top: 1px solid;border-bottom: 1px solid;text-align:center;\"><b>Actual&nbsp;(row)&nbsp;/&nbsp;Predicted&nbsp;(col)</b></td><td  style=\"border-left: 1px solid;border-right: 1px solid;border-top: 1px solid;border-bottom: 1px solid;text-align:center;\"><b>Died</b></td><td  style=\"border-left: 1px solid;border-right: 1px solid;border-top: 1px solid;border-bottom: 1px solid;text-align:center;\"><b>Survived</b></td></tr><tr><td  style=\"border-left: 1px solid;border-right: 1px solid;border-top: 1px solid;border-bottom: 1px solid;text-align:center;\"><b>Died</b></td><td  style=\"border-left: 1px solid;border-right: 1px solid;border-top: 1px solid;border-bottom: 1px solid;text-align:center;\">True&nbsp;Negative</td><td  style=\"border-left: 1px solid;border-right: 1px solid;border-top: 1px solid;border-bottom: 1px solid;text-align:center;\">False&nbsp;Positive</td></tr><tr><td  style=\"border-left: 1px solid;border-right: 1px solid;border-top: 1px solid;border-bottom: 1px solid;text-align:center;\"><b>Survived</b></td><td  style=\"border-left: 1px solid;border-right: 1px solid;border-top: 1px solid;border-bottom: 1px solid;text-align:center;\">False&nbsp;Negative</td><td  style=\"border-left: 1px solid;border-right: 1px solid;border-top: 1px solid;border-bottom: 1px solid;text-align:center;\">True&nbsp;Positive</td></tr></table>"
      ],
      "text/plain": [
       "<ipy_table.ipy_table.IpyTable at 0x27034af7cc0>"
      ]
     },
     "execution_count": 58,
     "metadata": {},
     "output_type": "execute_result"
    }
   ],
   "source": [
    "tbl.render()"
   ]
  },
  {
   "cell_type": "markdown",
   "metadata": {},
   "source": [
    "Our confusion matrix results."
   ]
  },
  {
   "cell_type": "code",
   "execution_count": 59,
   "metadata": {},
   "outputs": [
    {
     "data": {
      "text/html": [
       "<div>\n",
       "<style>\n",
       "    .dataframe thead tr:only-child th {\n",
       "        text-align: right;\n",
       "    }\n",
       "\n",
       "    .dataframe thead th {\n",
       "        text-align: left;\n",
       "    }\n",
       "\n",
       "    .dataframe tbody tr th {\n",
       "        vertical-align: top;\n",
       "    }\n",
       "</style>\n",
       "<table border=\"1\" class=\"dataframe\">\n",
       "  <thead>\n",
       "    <tr style=\"text-align: right;\">\n",
       "      <th>Predicted</th>\n",
       "      <th>Died</th>\n",
       "      <th>Survived</th>\n",
       "    </tr>\n",
       "    <tr>\n",
       "      <th>Actual</th>\n",
       "      <th></th>\n",
       "      <th></th>\n",
       "    </tr>\n",
       "  </thead>\n",
       "  <tbody>\n",
       "    <tr>\n",
       "      <th>Died</th>\n",
       "      <td>118</td>\n",
       "      <td>10</td>\n",
       "    </tr>\n",
       "    <tr>\n",
       "      <th>Survived</th>\n",
       "      <td>78</td>\n",
       "      <td>17</td>\n",
       "    </tr>\n",
       "  </tbody>\n",
       "</table>\n",
       "</div>"
      ],
      "text/plain": [
       "Predicted  Died  Survived\n",
       "Actual                   \n",
       "Died        118        10\n",
       "Survived     78        17"
      ]
     },
     "execution_count": 59,
     "metadata": {},
     "output_type": "execute_result"
    },
    {
     "data": {
      "text/html": [
       "<div>\n",
       "<style>\n",
       "    .dataframe thead tr:only-child th {\n",
       "        text-align: right;\n",
       "    }\n",
       "\n",
       "    .dataframe thead th {\n",
       "        text-align: left;\n",
       "    }\n",
       "\n",
       "    .dataframe tbody tr th {\n",
       "        vertical-align: top;\n",
       "    }\n",
       "</style>\n",
       "<table border=\"1\" class=\"dataframe\">\n",
       "  <thead>\n",
       "    <tr style=\"text-align: right;\">\n",
       "      <th>Predicted</th>\n",
       "      <th>Died</th>\n",
       "      <th>Survived</th>\n",
       "    </tr>\n",
       "    <tr>\n",
       "      <th>Actual</th>\n",
       "      <th></th>\n",
       "      <th></th>\n",
       "    </tr>\n",
       "  </thead>\n",
       "  <tbody>\n",
       "    <tr>\n",
       "      <th>Died</th>\n",
       "      <td>0.92</td>\n",
       "      <td>0.08</td>\n",
       "    </tr>\n",
       "    <tr>\n",
       "      <th>Survived</th>\n",
       "      <td>0.82</td>\n",
       "      <td>0.18</td>\n",
       "    </tr>\n",
       "  </tbody>\n",
       "</table>\n",
       "</div>"
      ],
      "text/plain": [
       "Predicted  Died  Survived\n",
       "Actual                   \n",
       "Died       0.92      0.08\n",
       "Survived   0.82      0.18"
      ]
     },
     "execution_count": 59,
     "metadata": {},
     "output_type": "execute_result"
    }
   ],
   "source": [
    "# Confusion Matrix with labels, the sklearn cm function doesn't allow labels as easily\n",
    "pd.crosstab(index=y_test,columns=y_pred,rownames=['Actual'],colnames=['Predicted'])\n",
    "pd.crosstab(index=y_test,columns=y_pred,rownames=['Actual'],colnames=['Predicted'],normalize='index').round(2)"
   ]
  },
  {
   "cell_type": "markdown",
   "metadata": {},
   "source": [
    "Looking at the values we find that predicting the deceased is good with 92% accuracy but predicting survivors is bad with 18% accuracy.\n",
    "\n",
    "This leads to precision (aka specificity), recall (aka sensitivity) and the f1-score. We'll use these abbreviations: \n",
    "<br>TP = True Positive, FN = False Negative, etc.\n",
    "\n",
    "**Precision** $= \\frac{TP}{TP+FP}$\n",
    "\n",
    "Precision is the ratio of correct positive predictions over the total positive predictions. Out of all predicted survivors, what percentage actually survived? Where 1 is perfect and 0 means none were predicted.\n",
    "\n",
    "**Recall** $= \\frac{TP}{TP+FN}$\n",
    "\n",
    "Recall is the ratio of correct positive predictions over the total actual positive values. Out of all actual survivors, how many did we predict survived? Where 1 is perfect and 0 means none were predicted.\n",
    "\n",
    "There is a natural trade off between precision and recall. If we wanted perfect recall for survivors, we can simply predict every passenger survived. We would have many False Positives (FP) but no False Negatives (FN) hence Recall would be 1. Knowing this we can use the F1-Score as a balanced metric of how our model, and in this case, how well our single variable (Fare Paid) will predict Survival.\n",
    "\n",
    "<b>F1-Score</b> $= \\frac{2\\times(Recall\\times Precision)}{Recall + Precision}$\n",
    "\n",
    "F1-Score is the weighted average of Precision and Recall.\n",
    "\n",
    "If we looked at no data, our average prediction rate should be 50%. A coin toss for Died or Survived. This gives us an idea of what a poor model should look like. If we use substitute 50% into our F1-Score formula, the output is also 50%.\n",
    "\n",
    "Now we can read our classification report."
   ]
  },
  {
   "cell_type": "code",
   "execution_count": 60,
   "metadata": {},
   "outputs": [
    {
     "name": "stdout",
     "output_type": "stream",
     "text": [
      "             precision    recall  f1-score   support\n",
      "\n",
      "       Died       0.60      0.92      0.73       128\n",
      "   Survived       0.63      0.18      0.28        95\n",
      "\n",
      "avg / total       0.61      0.61      0.54       223\n",
      "\n"
     ]
    }
   ],
   "source": [
    "print(classification_report(y_test, y_pred))"
   ]
  },
  {
   "cell_type": "markdown",
   "metadata": {},
   "source": [
    "For our purposes I'm using the the average f1-score to gauge FarePaid as an indicator. Here we find it is 0.54. **Hence we conclude that Fare Paid is a poor indicator of survival as it's not much better than guessing (0.50).**\n",
    "\n",
    "*Note: 'support' is the number of predictions.*"
   ]
  },
  {
   "cell_type": "markdown",
   "metadata": {},
   "source": [
    "### Curiosity around Ticket Class and Fare Paid\n",
    "\n",
    "Earlier we found that Ticket Class was a strong indicator of Survival, yet Fare Paid was a poor indicator. Normally we would think Ticket Class and Fare Paid should be correlated enough that Fare Paid might even be a redundant variable to be investigating. We will use a Pearson's R correlation test as well as a visualisation to illustrate why Fare Paid is not a good indicator of Surival unlike Ticket Class.\n",
    "\n",
    "Assumptions:\n",
    "- p-value of 0.05"
   ]
  },
  {
   "cell_type": "code",
   "execution_count": 61,
   "metadata": {
    "collapsed": true
   },
   "outputs": [],
   "source": [
    "# Checking correlation\n",
    "pr, prPval = pearsonr(origdf['Fare'],origdf['Pclass'])\n",
    "results = [['Item','Value'],\n",
    "           ['Pearson\\'s R Test',pr],\n",
    "           ['P-Value', prPval]]\n",
    "# setting up a nicer looking table.\n",
    "tbl.make_table(results)\n",
    "tbl.set_row_style(0, bold=True);\n",
    "tbl.set_row_style(2,float_format='%0.3E');"
   ]
  },
  {
   "cell_type": "code",
   "execution_count": 62,
   "metadata": {
    "scrolled": true
   },
   "outputs": [
    {
     "data": {
      "text/html": [
       "<table border=\"1\" cellpadding=\"3\" cellspacing=\"0\"  style=\"border:black; border-collapse:collapse;\"><tr><td  style=\"border-left: 1px solid;border-right: 1px solid;border-top: 1px solid;border-bottom: 1px solid;\"><b>Item</b></td><td  style=\"border-left: 1px solid;border-right: 1px solid;border-top: 1px solid;border-bottom: 1px solid;\"><b>Value</b></td></tr><tr><td  style=\"border-left: 1px solid;border-right: 1px solid;border-top: 1px solid;border-bottom: 1px solid;\">Pearson's&nbsp;R&nbsp;Test</td><td  style=\"border-left: 1px solid;border-right: 1px solid;border-top: 1px solid;border-bottom: 1px solid;\">-0.5495</td></tr><tr><td  style=\"border-left: 1px solid;border-right: 1px solid;border-top: 1px solid;border-bottom: 1px solid;\">P-Value</td><td  style=\"border-left: 1px solid;border-right: 1px solid;border-top: 1px solid;border-bottom: 1px solid;\">1.967E-71</td></tr></table>"
      ],
      "text/plain": [
       "<ipy_table.ipy_table.IpyTable at 0x27034bec320>"
      ]
     },
     "execution_count": 62,
     "metadata": {},
     "output_type": "execute_result"
    }
   ],
   "source": [
    "tbl.render()"
   ]
  },
  {
   "cell_type": "markdown",
   "metadata": {},
   "source": [
    "Here we find a moderate negative relationship between Fare Paid and Ticket Class. Next we'll visualise the relationship, first grouping FarePaid."
   ]
  },
  {
   "cell_type": "code",
   "execution_count": 63,
   "metadata": {
    "collapsed": true
   },
   "outputs": [],
   "source": [
    "# used this function when experimenting on bin size\n",
    "intervSize = 20\n",
    "def groupgen(bins):\n",
    "    out = []\n",
    "    for i in bins:\n",
    "        if i < 520:\n",
    "            out.append('{}-{}'.format(i,i+intervSize))\n",
    "        else:\n",
    "            return out"
   ]
  },
  {
   "cell_type": "code",
   "execution_count": 64,
   "metadata": {
    "collapsed": true
   },
   "outputs": [],
   "source": [
    "# Create bins and two new columns, AgeGroup\n",
    "bins = list(range(0,300,intervSize))\n",
    "bins[14] = 520\n",
    "\n",
    "FarePaidGroups = groupgen(bins)\n",
    "FarePaidGroups[13] = '260-520'\n",
    "\n",
    "df['FarePaidGroup'] = pd.cut(df.FarePaid, bins, right=False, labels=FarePaidGroups).astype('object')"
   ]
  },
  {
   "cell_type": "code",
   "execution_count": 65,
   "metadata": {
    "scrolled": true
   },
   "outputs": [
    {
     "data": {
      "text/html": [
       "<div>\n",
       "<style>\n",
       "    .dataframe thead tr:only-child th {\n",
       "        text-align: right;\n",
       "    }\n",
       "\n",
       "    .dataframe thead th {\n",
       "        text-align: left;\n",
       "    }\n",
       "\n",
       "    .dataframe tbody tr th {\n",
       "        vertical-align: top;\n",
       "    }\n",
       "</style>\n",
       "<table border=\"1\" class=\"dataframe\">\n",
       "  <thead>\n",
       "    <tr style=\"text-align: right;\">\n",
       "      <th>Class</th>\n",
       "      <th>First Class</th>\n",
       "      <th>Second Class</th>\n",
       "      <th>Third Class</th>\n",
       "    </tr>\n",
       "    <tr>\n",
       "      <th>FarePaidGroup</th>\n",
       "      <th></th>\n",
       "      <th></th>\n",
       "      <th></th>\n",
       "    </tr>\n",
       "  </thead>\n",
       "  <tbody>\n",
       "    <tr>\n",
       "      <th>0-20</th>\n",
       "      <td>6</td>\n",
       "      <td>104</td>\n",
       "      <td>405</td>\n",
       "    </tr>\n",
       "    <tr>\n",
       "      <th>20-40</th>\n",
       "      <td>64</td>\n",
       "      <td>70</td>\n",
       "      <td>66</td>\n",
       "    </tr>\n",
       "    <tr>\n",
       "      <th>40-60</th>\n",
       "      <td>38</td>\n",
       "      <td>3</td>\n",
       "      <td>13</td>\n",
       "    </tr>\n",
       "    <tr>\n",
       "      <th>60-80</th>\n",
       "      <td>32</td>\n",
       "      <td>7</td>\n",
       "      <td>7</td>\n",
       "    </tr>\n",
       "    <tr>\n",
       "      <th>80-100</th>\n",
       "      <td>23</td>\n",
       "      <td>0</td>\n",
       "      <td>0</td>\n",
       "    </tr>\n",
       "  </tbody>\n",
       "</table>\n",
       "</div>"
      ],
      "text/plain": [
       "Class          First Class  Second Class  Third Class\n",
       "FarePaidGroup                                        \n",
       "0-20                     6           104          405\n",
       "20-40                   64            70           66\n",
       "40-60                   38             3           13\n",
       "60-80                   32             7            7\n",
       "80-100                  23             0            0"
      ]
     },
     "execution_count": 65,
     "metadata": {},
     "output_type": "execute_result"
    }
   ],
   "source": [
    "# Create our contingency table for visualising\n",
    "ctFareClass = df[['FarePaidGroup','Class']].groupby(['FarePaidGroup','Class']).size().unstack(fill_value=0).reindex(FarePaidGroups,fill_value=0)\n",
    "ctFareClass.head()"
   ]
  },
  {
   "cell_type": "code",
   "execution_count": 66,
   "metadata": {},
   "outputs": [
    {
     "data": {
      "text/html": [
       "<div id=\"7a0663af_1a3a_4bd1_aebd_b81edd464c61\"><div id=\"7a0663af_1a3a_4bd1_aebd_b81edd464c61container_chart\"></div></div><script>\n",
       "    // the Jupyter notebook loads jquery.min.js  and require.js and at the top of the page\n",
       "    // then to make jquery available inside a require module\n",
       "    // the trick is http://www.manuel-strehl.de/dev/load_jquery_before_requirejs.en.html\n",
       "    define('jquery', [], function() {\n",
       "        return jQuery;\n",
       "    });\n",
       "\n",
       "    require([\"jquery\", \"http://code.highcharts.com/stock/highstock.js\", \"http://d3js.org/d3.v3.min.js\"], function() {\n",
       "        require([\"https://cdn.datatables.net/1.10.10/js/jquery.dataTables.min.js\", \"http://code.highcharts.com/stock/highcharts-more.js\", \"http://code.highcharts.com/modules/drilldown.js\", \"http://code.highcharts.com/modules/exporting.js\", \"http://code.highcharts.com/modules/heatmap.js\", \"http://code.highcharts.com/modules/treemap.js\", \"http://highcharts.github.io/export-csv/export-csv.js\"], function() {\n",
       "            \n",
       "    var options = {\"credits\":{\"enabled\":false},\"exporting\":{\"enabled\":true},\"chart\":{\"animation\":false,\"type\":\"column\",\"zoomType\":\"xy\",\"renderTo\":\"7a0663af_1a3a_4bd1_aebd_b81edd464c61container_chart\"},\"series\":[{\"name\":\"First Class\",\"yAxis\":0,\"data\":[[\"0-20\",6],[\"20-40\",64],[\"40-60\",38],[\"60-80\",32],[\"80-100\",23],[\"100-120\",11],[\"120-140\",11],[\"140-160\",9],[\"160-180\",2],[\"180-200\",0],[\"200-220\",4],[\"220-240\",5],[\"240-260\",2],[\"260-520\",9]],\"color\":\"#434DF2\"},{\"name\":\"Second Class\",\"yAxis\":0,\"data\":[[\"0-20\",104],[\"20-40\",70],[\"40-60\",3],[\"60-80\",7],[\"80-100\",0],[\"100-120\",0],[\"120-140\",0],[\"140-160\",0],[\"160-180\",0],[\"180-200\",0],[\"200-220\",0],[\"220-240\",0],[\"240-260\",0],[\"260-520\",0]],\"color\":\"#EC4242\"},{\"name\":\"Third Class\",\"yAxis\":0,\"data\":[[\"0-20\",405],[\"20-40\",66],[\"40-60\",13],[\"60-80\",7],[\"80-100\",0],[\"100-120\",0],[\"120-140\",0],[\"140-160\",0],[\"160-180\",0],[\"180-200\",0],[\"200-220\",0],[\"220-240\",0],[\"240-260\",0],[\"260-520\",0]],\"color\":\"#B6B6B6\"}],\"plotOptions\":{\"series\":{\"animation\":false},\"line\":{\"animation\":false},\"column\":{\"animation\":false,\"groupPadding\":0.05,\"pointPadding\":0,\"borderWidth\":1,\"showInLegend\":true},\"bar\":{\"animation\":false},\"pie\":{\"animation\":false},\"scatter\":{\"animation\":false},\"bubble\":{\"animation\":false},\"treemap\":{\"animation\":false}},\"yAxis\":{\"title\":{\"text\":\"<b>Frequency<\\/b>\"}},\"xAxis\":{\"title\":{\"text\":\"<b>Price Groups<\\/b>\"},\"categories\":[\"0-20\",\"20-40\",\"40-60\",\"60-80\",\"80-100\",\"100-120\",\"120-140\",\"140-160\",\"160-180\",\"180-200\",\"200-220\",\"220-240\",\"240-260\",\"260-520\"]},\"tooltip\":{\"headerFormat\":\"<b>\\u00a3{point.x}<\\/b><br>\",\"shared\":\"True\"},\"title\":{\"text\":\"Price Distribution by Ticket Class\"},\"subtitle\":{\"text\":\"(drag-select to zoom)\"}};\n",
       "    options = JSON.stringify(options);\n",
       "\n",
       "options = JSON.parse(options, function(key, value) {\n",
       "\n",
       "    if (value && (typeof value===\"string\")) {\n",
       "\n",
       "                var check1 = (value.replace(/\\s+/g, '').replace(/\\r?\\n|\\r/g, '').substr(0,8) == \"function\"),\n",
       "            check2 = (value.replace(/\\s+/g, '').replace(/\\r?\\n|\\r/g, '').substr(0,9) == \"(function\");\n",
       "\n",
       "        if (check1) {\n",
       "            var startBody = value.indexOf('{') + 1;\n",
       "            var endBody = value.lastIndexOf('}');\n",
       "            var startArgs = value.indexOf('(') + 1;\n",
       "            var endArgs = value.indexOf(')');\n",
       "\n",
       "            return new Function(value.substring(startArgs, endArgs),\n",
       "                                value.substring(startBody, endBody));\n",
       "        }\n",
       "        if (check2) {\n",
       "            return eval(value);\n",
       "        }\n",
       "\n",
       "\n",
       "    }\n",
       "\n",
       "    return value;\n",
       "});\n",
       "\n",
       "    \n",
       "\n",
       "    var opt = $.extend(true, {}, options);\n",
       "    if (window.opts==undefined) {\n",
       "        window.opts = {};\n",
       "    }\n",
       "    window.opts['7a0663af_1a3a_4bd1_aebd_b81edd464c61'] = opt;\n",
       "\n",
       "    console.log('Highcharts/Highstock options accessible as opts[\"7a0663af_1a3a_4bd1_aebd_b81edd464c61\"]');\n",
       "    \n",
       "            \n",
       "            window.chart = new Highcharts.Chart(options);\n",
       "            \n",
       "    console.log('Highcharts/Highstock chart accessible as charts[\"7a0663af_1a3a_4bd1_aebd_b81edd464c61\"]');\n",
       "    \n",
       "        });\n",
       "    });\n",
       "    </script>"
      ],
      "text/plain": [
       "<IPython.core.display.HTML object>"
      ]
     },
     "execution_count": 66,
     "metadata": {},
     "output_type": "execute_result"
    }
   ],
   "source": [
    "# FarePaid vs Ticket Class\n",
    "g = hc.Highcharts()\n",
    "\n",
    "g.chart.type = 'column'\n",
    "g.chart.zoomType = 'xy'\n",
    "g.yAxis.title.text = '<b>Frequency</b>'\n",
    "g.xAxis.title.text = '<b>Price Groups</b>'\n",
    "g.xAxis.categories = list(ctFareClass.index)\n",
    "# g.xAxis.labels.format = '£{point.x}'\n",
    "# g.chart.height = 400\n",
    "g.tooltip.headerFormat = '<b>£{point.x}</b><br>'\n",
    "# g.tooltip.headerFormat = ''\n",
    "# g.tooltip.pointFormat = 'Ticket Number {point.x}, Frequency {point.y}'\n",
    "gpo = g.plotOptions.column\n",
    "gpo.groupPadding = 0.05\n",
    "gpo.pointPadding = 0\n",
    "gpo.borderWidth = 1\n",
    "gpo.showInLegend = True\n",
    "g.tooltip.shared = 'True'\n",
    "# gpo.dataLabels.format = '{point.name}: {point.percentage:.1f}%'\n",
    "\n",
    "g.title.text = 'Price Distribution by Ticket Class'\n",
    "g.subtitle.text = '(drag-select to zoom)'\n",
    "g.series = hc.build.series(ctFareClass, color={'First Class':'#434DF2', 'Second Class':'#EC4242', 'Third Class':'#B6B6B6'})\n",
    "\n",
    "\n",
    "g.plot()"
   ]
  },
  {
   "cell_type": "markdown",
   "metadata": {},
   "source": [
    "Here we see what we suspected, that the Fare Paid is not distributed as we would normally expect. We would expect First Class tickets to be concentrated at the higher prices, Second Class tickets to be concentrated in the middle and Third Class tickets to be concentrated at the lower prices.\n",
    "\n",
    "Instead there are many tickets concentrated at lower prices and some First Class tickets at high prices. If we turn off First Class tickets we see that Second and Third class tickets are similarly distributed."
   ]
  },
  {
   "cell_type": "markdown",
   "metadata": {},
   "source": [
    "## Summary of factors"
   ]
  },
  {
   "cell_type": "markdown",
   "metadata": {},
   "source": [
    "<table align=\"left\" dir=\"ltr\" style=\"width: 342px;\" border=\"1\" cellspacing=\"0\" cellpadding=\"0\"><colgroup><col width=\"145\" /><col width=\"153\" /><col width=\"153\" /></colgroup>\n",
    "<tbody>\n",
    "<tr style=\"height: 21px;\">\n",
    "<td style=\"height: 21px; text-align: left; width: 266px;\" data-sheets-value=\"{&quot;1&quot;:2,&quot;2&quot;:&quot;Independent Variable&quot;}\"><strong>Independent Variable</strong></td>\n",
    "<td style=\"height: 21px; text-align: left; width: 75px;\" data-sheets-value=\"{&quot;1&quot;:2,&quot;2&quot;:&quot;Predictive Strength&quot;}\"><strong>Predictive Strength</strong></td>\n",
    "</tr>\n",
    "<tr style=\"height: 21px;\">\n",
    "<td style=\"height: 21px; text-align: left; width: 266px;\" data-sheets-value=\"{&quot;1&quot;:2,&quot;2&quot;:&quot;Gender (Categorical)&quot;}\">Gender (Categorical)</td>\n",
    "<td style=\"height: 21px; text-align: left; width: 75px;\" data-sheets-value=\"{&quot;1&quot;:2,&quot;2&quot;:&quot;Strong&quot;}\">Strong</td>\n",
    "</tr>\n",
    "<tr style=\"height: 21px;\">\n",
    "<td style=\"height: 21px; text-align: left; width: 266px;\" data-sheets-value=\"{&quot;1&quot;:2,&quot;2&quot;:&quot;Age Groups (Interval)&quot;}\">Age Groups (Interval)</td>\n",
    "<td style=\"height: 21px; text-align: left; width: 75px;\" data-sheets-value=\"{&quot;1&quot;:2,&quot;2&quot;:&quot;Weak&quot;}\">Weak</td>\n",
    "</tr>\n",
    "<tr style=\"height: 21px;\">\n",
    "<td style=\"height: 21px; text-align: left; width: 266px;\" data-sheets-value=\"{&quot;1&quot;:2,&quot;2&quot;:&quot;Ports (Categorical)&quot;}\">Embarking Port (Categorical)</td>\n",
    "<td style=\"height: 21px; text-align: left; width: 75px;\" data-sheets-value=\"{&quot;1&quot;:2,&quot;2&quot;:&quot;Weak&quot;}\">Weak</td>\n",
    "</tr>\n",
    "<tr style=\"height: 21px;\">\n",
    "<td style=\"height: 21px; text-align: left; width: 266px;\" data-sheets-value=\"{&quot;1&quot;:2,&quot;2&quot;:&quot;Class (Ordinal)&quot;}\">Ticket Class (Ordinal)</td>\n",
    "<td style=\"height: 21px; text-align: left; width: 75px;\" data-sheets-value=\"{&quot;1&quot;:2,&quot;2&quot;:&quot;Strong&quot;}\">Strong</td>\n",
    "</tr>\n",
    "<tr style=\"height: 21px;\">\n",
    "<td style=\"height: 21px; text-align: left; width: 266px;\" data-sheets-value=\"{&quot;1&quot;:2,&quot;2&quot;:&quot;Fare Paid (Normal)&quot;}\">Fare Paid (Normal)</td>\n",
    "<td style=\"height: 21px; text-align: left; width: 75px;\" data-sheets-value=\"{&quot;1&quot;:2,&quot;2&quot;:&quot;None&quot;}\">Negligable</td>\n",
    "</tr>\n",
    "</tbody>\n",
    "</table>"
   ]
  },
  {
   "cell_type": "markdown",
   "metadata": {},
   "source": [
    "Now that we know Gender and Class are our two strongest factors, we will explore the combination of both versus Survival."
   ]
  },
  {
   "cell_type": "code",
   "execution_count": 67,
   "metadata": {
    "scrolled": true
   },
   "outputs": [
    {
     "data": {
      "text/html": [
       "<div>\n",
       "<style>\n",
       "    .dataframe thead tr:only-child th {\n",
       "        text-align: right;\n",
       "    }\n",
       "\n",
       "    .dataframe thead th {\n",
       "        text-align: left;\n",
       "    }\n",
       "\n",
       "    .dataframe tbody tr th {\n",
       "        vertical-align: top;\n",
       "    }\n",
       "</style>\n",
       "<table border=\"1\" class=\"dataframe\">\n",
       "  <thead>\n",
       "    <tr style=\"text-align: right;\">\n",
       "      <th></th>\n",
       "      <th>Survival</th>\n",
       "      <th>Died</th>\n",
       "      <th>Survived</th>\n",
       "    </tr>\n",
       "    <tr>\n",
       "      <th>Gender</th>\n",
       "      <th>Class</th>\n",
       "      <th></th>\n",
       "      <th></th>\n",
       "    </tr>\n",
       "  </thead>\n",
       "  <tbody>\n",
       "    <tr>\n",
       "      <th rowspan=\"3\" valign=\"top\">Female</th>\n",
       "      <th>First Class</th>\n",
       "      <td>3</td>\n",
       "      <td>91</td>\n",
       "    </tr>\n",
       "    <tr>\n",
       "      <th>Second Class</th>\n",
       "      <td>6</td>\n",
       "      <td>70</td>\n",
       "    </tr>\n",
       "    <tr>\n",
       "      <th>Third Class</th>\n",
       "      <td>72</td>\n",
       "      <td>72</td>\n",
       "    </tr>\n",
       "    <tr>\n",
       "      <th rowspan=\"3\" valign=\"top\">Male</th>\n",
       "      <th>First Class</th>\n",
       "      <td>77</td>\n",
       "      <td>45</td>\n",
       "    </tr>\n",
       "    <tr>\n",
       "      <th>Second Class</th>\n",
       "      <td>91</td>\n",
       "      <td>17</td>\n",
       "    </tr>\n",
       "    <tr>\n",
       "      <th>Third Class</th>\n",
       "      <td>300</td>\n",
       "      <td>47</td>\n",
       "    </tr>\n",
       "  </tbody>\n",
       "</table>\n",
       "</div>"
      ],
      "text/plain": [
       "Survival             Died  Survived\n",
       "Gender Class                       \n",
       "Female First Class      3        91\n",
       "       Second Class     6        70\n",
       "       Third Class     72        72\n",
       "Male   First Class     77        45\n",
       "       Second Class    91        17\n",
       "       Third Class    300        47"
      ]
     },
     "execution_count": 67,
     "metadata": {},
     "output_type": "execute_result"
    }
   ],
   "source": [
    "# Grouping Gender and Class\n",
    "ctGC = df[['Gender','Class','Survival']].groupby(['Gender','Class','Survival']).size().unstack(fill_value=0)\n",
    "ctGC"
   ]
  },
  {
   "cell_type": "code",
   "execution_count": 68,
   "metadata": {
    "scrolled": false
   },
   "outputs": [
    {
     "data": {
      "text/html": [
       "<div id=\"3dda8667_1586_43e3_a9d6_647cd1c12242\"><div id=\"3dda8667_1586_43e3_a9d6_647cd1c12242container_chart\"></div></div><script>\n",
       "    // the Jupyter notebook loads jquery.min.js  and require.js and at the top of the page\n",
       "    // then to make jquery available inside a require module\n",
       "    // the trick is http://www.manuel-strehl.de/dev/load_jquery_before_requirejs.en.html\n",
       "    define('jquery', [], function() {\n",
       "        return jQuery;\n",
       "    });\n",
       "\n",
       "    require([\"jquery\", \"http://code.highcharts.com/stock/highstock.js\", \"http://d3js.org/d3.v3.min.js\"], function() {\n",
       "        require([\"https://cdn.datatables.net/1.10.10/js/jquery.dataTables.min.js\", \"http://code.highcharts.com/stock/highcharts-more.js\", \"http://code.highcharts.com/modules/drilldown.js\", \"http://code.highcharts.com/modules/exporting.js\", \"http://code.highcharts.com/modules/heatmap.js\", \"http://code.highcharts.com/modules/treemap.js\", \"http://highcharts.github.io/export-csv/export-csv.js\"], function() {\n",
       "            \n",
       "    var options = {\"credits\":{\"enabled\":false},\"exporting\":{\"enabled\":true},\"chart\":{\"animation\":false,\"type\":\"column\",\"renderTo\":\"3dda8667_1586_43e3_a9d6_647cd1c12242container_chart\"},\"series\":[{\"name\":\"Died\",\"yAxis\":0,\"data\":[[[\"Female\",\"First Class\"],3],[[\"Female\",\"Second Class\"],6],[[\"Female\",\"Third Class\"],72],[[\"Male\",\"First Class\"],77],[[\"Male\",\"Second Class\"],91],[[\"Male\",\"Third Class\"],300]],\"color\":\"black\"},{\"name\":\"Survived\",\"yAxis\":0,\"data\":[[[\"Female\",\"First Class\"],91],[[\"Female\",\"Second Class\"],70],[[\"Female\",\"Third Class\"],72],[[\"Male\",\"First Class\"],45],[[\"Male\",\"Second Class\"],17],[[\"Male\",\"Third Class\"],47]],\"color\":\"green\"}],\"plotOptions\":{\"series\":{\"animation\":false},\"line\":{\"animation\":false},\"column\":{\"animation\":false,\"stacking\":\"percent\",\"showInLegend\":true},\"bar\":{\"animation\":false},\"pie\":{\"animation\":false},\"scatter\":{\"animation\":false},\"bubble\":{\"animation\":false},\"treemap\":{\"animation\":false}},\"yAxis\":{\"title\":{\"text\":\"<b>Percentage<\\/b>\"},\"labels\":{\"format\":\"{value}%\"}},\"xAxis\":{\"title\":{\"text\":\"<b>Ticket Class<\\/b>\"},\"categories\":[[\"Female\",\"First Class\"],[\"Female\",\"Second Class\"],[\"Female\",\"Third Class\"],[\"Male\",\"First Class\"],[\"Male\",\"Second Class\"],[\"Male\",\"Third Class\"]]},\"tooltip\":{\"headerFormat\":\"\",\"pointFormat\":\"<span style=\\\"color:{series.color}\\\">{series.name}<\\/span>: <b>{point.y}<\\/b> ({point.percentage:.1f}%)<br\\/>\",\"shared\":\"True\"},\"title\":{\"text\":\"Survival by Gender and Ticket Class\"}};\n",
       "    options = JSON.stringify(options);\n",
       "\n",
       "options = JSON.parse(options, function(key, value) {\n",
       "\n",
       "    if (value && (typeof value===\"string\")) {\n",
       "\n",
       "                var check1 = (value.replace(/\\s+/g, '').replace(/\\r?\\n|\\r/g, '').substr(0,8) == \"function\"),\n",
       "            check2 = (value.replace(/\\s+/g, '').replace(/\\r?\\n|\\r/g, '').substr(0,9) == \"(function\");\n",
       "\n",
       "        if (check1) {\n",
       "            var startBody = value.indexOf('{') + 1;\n",
       "            var endBody = value.lastIndexOf('}');\n",
       "            var startArgs = value.indexOf('(') + 1;\n",
       "            var endArgs = value.indexOf(')');\n",
       "\n",
       "            return new Function(value.substring(startArgs, endArgs),\n",
       "                                value.substring(startBody, endBody));\n",
       "        }\n",
       "        if (check2) {\n",
       "            return eval(value);\n",
       "        }\n",
       "\n",
       "\n",
       "    }\n",
       "\n",
       "    return value;\n",
       "});\n",
       "\n",
       "    \n",
       "\n",
       "    var opt = $.extend(true, {}, options);\n",
       "    if (window.opts==undefined) {\n",
       "        window.opts = {};\n",
       "    }\n",
       "    window.opts['3dda8667_1586_43e3_a9d6_647cd1c12242'] = opt;\n",
       "\n",
       "    console.log('Highcharts/Highstock options accessible as opts[\"3dda8667_1586_43e3_a9d6_647cd1c12242\"]');\n",
       "    \n",
       "            \n",
       "            window.chart = new Highcharts.Chart(options);\n",
       "            \n",
       "    console.log('Highcharts/Highstock chart accessible as charts[\"3dda8667_1586_43e3_a9d6_647cd1c12242\"]');\n",
       "    \n",
       "        });\n",
       "    });\n",
       "    </script>"
      ],
      "text/plain": [
       "<IPython.core.display.HTML object>"
      ]
     },
     "execution_count": 68,
     "metadata": {},
     "output_type": "execute_result"
    }
   ],
   "source": [
    "# Ticket Class and Gender combined.\n",
    "g = hc.Highcharts()\n",
    "\n",
    "g.chart.type = 'column'\n",
    "g.yAxis.title.text = '<b>Percentage</b>'\n",
    "g.yAxis.labels.format = '{value}%'\n",
    "g.xAxis.title.text = '<b>Ticket Class</b>'\n",
    "g.xAxis.categories = list(ctGC.index)\n",
    "# g.chart.height = 400\n",
    "# g.tooltip.headerFormat = '<b>{series.name}</b><br>'\n",
    "g.tooltip.headerFormat = ''\n",
    "# g.tooltip.pointFormat = '<b>{series.name}</b>: {point.percentage:.1f}%'\n",
    "g.tooltip.pointFormat = '<span style=\"color:{series.color}\">{series.name}</span>: <b>{point.y}</b> ({point.percentage:.1f}%)<br/>'\n",
    "g.tooltip.shared = 'True'\n",
    "gpo = g.plotOptions.column\n",
    "gpo.stacking = 'percent'\n",
    "# gpo.pointPadding = 0\n",
    "# gpo.borderWidth = 1\n",
    "gpo.showInLegend = True\n",
    "# gpo.dataLabels.format = '{point.name}: {point.percentage:.1f}%'\n",
    "\n",
    "# gpo.colors = ['#058DC7', '#50B432', '#33333']\n",
    "# gpo.colorByPoint = True\n",
    "# g.plotOptions.series.colorByPoint = True\n",
    "\n",
    "\n",
    "g.title.text = 'Survival by Gender and Ticket Class'\n",
    "g.series = hc.build.series(ctGC, color={'Died': 'black', 'Survived': 'green'})\n",
    "\n",
    "\n",
    "g.plot()"
   ]
  },
  {
   "cell_type": "markdown",
   "metadata": {},
   "source": [
    "Females in First and Second Class survived over 92% of the time, while a Female in Third Class still survived more frequently than any male."
   ]
  },
  {
   "cell_type": "markdown",
   "metadata": {},
   "source": [
    "### Does adding Age or Embarking Port give us more information?\n",
    "I'm curious if adding one of our weak predictive variables (Age or Embarking Port) will lead to a deeper understanding. \n",
    "\n",
    "We will first group Gender and Class by Embarking Port, then group Gender and Class by Age Group."
   ]
  },
  {
   "cell_type": "code",
   "execution_count": 69,
   "metadata": {},
   "outputs": [
    {
     "data": {
      "text/html": [
       "<div>\n",
       "<style>\n",
       "    .dataframe thead tr:only-child th {\n",
       "        text-align: right;\n",
       "    }\n",
       "\n",
       "    .dataframe thead th {\n",
       "        text-align: left;\n",
       "    }\n",
       "\n",
       "    .dataframe tbody tr th {\n",
       "        vertical-align: top;\n",
       "    }\n",
       "</style>\n",
       "<table border=\"1\" class=\"dataframe\">\n",
       "  <thead>\n",
       "    <tr style=\"text-align: right;\">\n",
       "      <th></th>\n",
       "      <th></th>\n",
       "      <th>Survival</th>\n",
       "      <th>Died</th>\n",
       "      <th>Survived</th>\n",
       "    </tr>\n",
       "    <tr>\n",
       "      <th>Gender</th>\n",
       "      <th>Class</th>\n",
       "      <th>EmbarkingPort</th>\n",
       "      <th></th>\n",
       "      <th></th>\n",
       "    </tr>\n",
       "  </thead>\n",
       "  <tbody>\n",
       "    <tr>\n",
       "      <th rowspan=\"10\" valign=\"top\">Female</th>\n",
       "      <th rowspan=\"4\" valign=\"top\">First Class</th>\n",
       "      <th>Cherbourg</th>\n",
       "      <td>1</td>\n",
       "      <td>42</td>\n",
       "    </tr>\n",
       "    <tr>\n",
       "      <th>Queenstown</th>\n",
       "      <td>0</td>\n",
       "      <td>1</td>\n",
       "    </tr>\n",
       "    <tr>\n",
       "      <th>Southampton</th>\n",
       "      <td>2</td>\n",
       "      <td>46</td>\n",
       "    </tr>\n",
       "    <tr>\n",
       "      <th>Unknown</th>\n",
       "      <td>0</td>\n",
       "      <td>2</td>\n",
       "    </tr>\n",
       "    <tr>\n",
       "      <th rowspan=\"3\" valign=\"top\">Second Class</th>\n",
       "      <th>Cherbourg</th>\n",
       "      <td>0</td>\n",
       "      <td>7</td>\n",
       "    </tr>\n",
       "    <tr>\n",
       "      <th>Queenstown</th>\n",
       "      <td>0</td>\n",
       "      <td>2</td>\n",
       "    </tr>\n",
       "    <tr>\n",
       "      <th>Southampton</th>\n",
       "      <td>6</td>\n",
       "      <td>61</td>\n",
       "    </tr>\n",
       "    <tr>\n",
       "      <th rowspan=\"3\" valign=\"top\">Third Class</th>\n",
       "      <th>Cherbourg</th>\n",
       "      <td>8</td>\n",
       "      <td>15</td>\n",
       "    </tr>\n",
       "    <tr>\n",
       "      <th>Queenstown</th>\n",
       "      <td>9</td>\n",
       "      <td>24</td>\n",
       "    </tr>\n",
       "    <tr>\n",
       "      <th>Southampton</th>\n",
       "      <td>55</td>\n",
       "      <td>33</td>\n",
       "    </tr>\n",
       "    <tr>\n",
       "      <th rowspan=\"9\" valign=\"top\">Male</th>\n",
       "      <th rowspan=\"3\" valign=\"top\">First Class</th>\n",
       "      <th>Cherbourg</th>\n",
       "      <td>25</td>\n",
       "      <td>17</td>\n",
       "    </tr>\n",
       "    <tr>\n",
       "      <th>Queenstown</th>\n",
       "      <td>1</td>\n",
       "      <td>0</td>\n",
       "    </tr>\n",
       "    <tr>\n",
       "      <th>Southampton</th>\n",
       "      <td>51</td>\n",
       "      <td>28</td>\n",
       "    </tr>\n",
       "    <tr>\n",
       "      <th rowspan=\"3\" valign=\"top\">Second Class</th>\n",
       "      <th>Cherbourg</th>\n",
       "      <td>8</td>\n",
       "      <td>2</td>\n",
       "    </tr>\n",
       "    <tr>\n",
       "      <th>Queenstown</th>\n",
       "      <td>1</td>\n",
       "      <td>0</td>\n",
       "    </tr>\n",
       "    <tr>\n",
       "      <th>Southampton</th>\n",
       "      <td>82</td>\n",
       "      <td>15</td>\n",
       "    </tr>\n",
       "    <tr>\n",
       "      <th rowspan=\"3\" valign=\"top\">Third Class</th>\n",
       "      <th>Cherbourg</th>\n",
       "      <td>33</td>\n",
       "      <td>10</td>\n",
       "    </tr>\n",
       "    <tr>\n",
       "      <th>Queenstown</th>\n",
       "      <td>36</td>\n",
       "      <td>3</td>\n",
       "    </tr>\n",
       "    <tr>\n",
       "      <th>Southampton</th>\n",
       "      <td>231</td>\n",
       "      <td>34</td>\n",
       "    </tr>\n",
       "  </tbody>\n",
       "</table>\n",
       "</div>"
      ],
      "text/plain": [
       "Survival                           Died  Survived\n",
       "Gender Class        EmbarkingPort                \n",
       "Female First Class  Cherbourg         1        42\n",
       "                    Queenstown        0         1\n",
       "                    Southampton       2        46\n",
       "                    Unknown           0         2\n",
       "       Second Class Cherbourg         0         7\n",
       "                    Queenstown        0         2\n",
       "                    Southampton       6        61\n",
       "       Third Class  Cherbourg         8        15\n",
       "                    Queenstown        9        24\n",
       "                    Southampton      55        33\n",
       "Male   First Class  Cherbourg        25        17\n",
       "                    Queenstown        1         0\n",
       "                    Southampton      51        28\n",
       "       Second Class Cherbourg         8         2\n",
       "                    Queenstown        1         0\n",
       "                    Southampton      82        15\n",
       "       Third Class  Cherbourg        33        10\n",
       "                    Queenstown       36         3\n",
       "                    Southampton     231        34"
      ]
     },
     "execution_count": 69,
     "metadata": {},
     "output_type": "execute_result"
    }
   ],
   "source": [
    "# Adding Embarking Port\n",
    "# df[['Gender','Class','EmbarkingPort','Survival']].groupby(['Gender','Class','EmbarkingPort','Survival']).size().unstack(fill_value=0)\n",
    "pd.crosstab([df.Gender,df.Class,df.EmbarkingPort],df.Survival)"
   ]
  },
  {
   "cell_type": "code",
   "execution_count": 70,
   "metadata": {
    "scrolled": false
   },
   "outputs": [
    {
     "data": {
      "image/png": "[encoded data removed]",
      "text/plain": [
       "<matplotlib.figure.Figure at 0x27034c03b38>"
      ]
     },
     "metadata": {},
     "output_type": "display_data"
    }
   ],
   "source": [
    "g = sns.factorplot(x='Class',y='Survived',hue='Gender', palette=['#434DF2','#F37161'],\n",
    "               col='EmbarkingPort', order=['First Class','Second Class','Third Class'],\n",
    "               data=df, kind='bar', col_wrap=2)\n",
    "g.set_axis_labels('', 'Survival Rate')\n",
    "g.set(ylim=(0, 1));"
   ]
  },
  {
   "cell_type": "markdown",
   "metadata": {},
   "source": [
    "Visually we find nuances about each Embarking Port. The survival rate of men from highest to lowest Embarking the following: Cherbourg, Southhampton then Queenstown. Overall we don't gain much insight from adding Embarking Port.\n",
    "\n",
    "Next we'll add Age Group instead of Embarking Port."
   ]
  },
  {
   "cell_type": "code",
   "execution_count": 71,
   "metadata": {},
   "outputs": [
    {
     "data": {
      "image/png": "[encoded data removed]",
      "text/plain": [
       "<matplotlib.figure.Figure at 0x27035112b00>"
      ]
     },
     "metadata": {},
     "output_type": "display_data"
    }
   ],
   "source": [
    "# Looking at Age Group \n",
    "g = sns.factorplot(x='Class',y='Survived',hue='Gender', palette=['#434DF2','#F37161'],\n",
    "               col='AgeGroup', order=['First Class','Second Class','Third Class'],\n",
    "               col_order=['0-9','10-19','20-29','30-39','40-49','50-59','60-69','70-80'],\n",
    "               data=df, kind='bar', col_wrap=3)\n",
    "g.set_axis_labels('', 'Survival Rate')\n",
    "g.set(ylim=(0, 1));"
   ]
  },
  {
   "cell_type": "markdown",
   "metadata": {},
   "source": [
    "We find two interesting insights. \n",
    "- Young (Age 0-9) Males in First and Second Class survived 100% of the time.\n",
    "- Females in Third Class in most Age Groups survived significantly less than Females in First and Second Class."
   ]
  },
  {
   "cell_type": "markdown",
   "metadata": {},
   "source": [
    "***"
   ]
  },
  {
   "cell_type": "markdown",
   "metadata": {},
   "source": [
    "## 4) Conclusion\n",
    "In this notebook we explored five factors and determined which ones influenced survival aboard the Titanic as per the [Kaggle training dataset](https://www.kaggle.com/c/titanic/download/train.csv). \n",
    "\n",
    "To answer our question: **Which factors influence survival of a passenger?**\n",
    "\n",
    "Gender and Ticket Class are strong influencing factors. \n",
    "<br>Age Groups and Embarking Ports are weak influencing factors. \n",
    "<br>Fare Paid is not an influencing factor.\n",
    "\n",
    "Combinations of factors that lead to >90% survival rate:\n",
    "- Females with First and Second Class Tickets\n",
    "- Males with First and Second Class Tickets between Ages 0-9 years old.\n",
    "\n",
    "### Limitations of our analysis\n",
    "- Correlations found but these do not imply causation. We would need to run experiments to prove causation.\n",
    "- Only used the Kaggle training dataset\n",
    "- Using only 5 factors to conduct analysis\n",
    "\n",
    "\n",
    "### Future work that would improve our findings:\n",
    "- Find more data / datasets\n",
    "- Test Factors that I choose not to explore (e.g. Name, Cabin, etc)\n",
    "- Explore more combined factors\n",
    "- Create a predictive model and test its results on [Kaggle](https://www.kaggle.com/c/titanic)"
   ]
  },
  {
   "cell_type": "markdown",
   "metadata": {},
   "source": [
    "## References\n",
    "\n",
    "[Pandas official documentation (various)](https://pandas.pydata.org/pandas-docs/stable/index.html) 2017\n",
    "\n",
    "[Seaborn official documentation (various)](http://seaborn.pydata.org/) 2017\n",
    "\n",
    "[Highcharts Options Reference](https://api.highcharts.com/highcharts/) 2017\n",
    "\n",
    "[Stack Overflow Questions (various for Pandas,Seaborn)](https://stackoverflow.com/questions) 2017\n",
    "\n",
    "[Cross Validated - Stack Exchange Questions (various for Statistics)](https://stats.stackexchange.com/) 2017\n",
    "\n",
    "[Univerty of Toronto - Crosstabulation with Nominal Variables](http://groups.chass.utoronto.ca/pol242/Labs/LM-3A/LM-3A_content.htm) 2017\n",
    "\n",
    "[NYU - Quantitative Analysis Guide: Choose Statistical Test for 1 Dependent Variable](https://guides.nyu.edu/quant/choose_test_1DV) 2017\n",
    "\n",
    "[UCLA - CHOOSING THE CORRECT STATISTICAL TEST IN SAS, STATA, SPSS AND R](https://stats.idre.ucla.edu/other/mult-pkg/whatstat/) 2017\n",
    "\n",
    "\n",
    "\n"
   ]
  }
 ],
 "metadata": {
  "kernelspec": {
   "display_name": "Python [default]",
   "language": "python",
   "name": "python3"
  },
  "language_info": {
   "codemirror_mode": {
    "name": "ipython",
    "version": 3
   },
   "file_extension": ".py",
   "mimetype": "text/x-python",
   "name": "python",
   "nbconvert_exporter": "python",
   "pygments_lexer": "ipython3",
   "version": "3.6.1"
  }
 },
 "nbformat": 4,
 "nbformat_minor": 2
}
